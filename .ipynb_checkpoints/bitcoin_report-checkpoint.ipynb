{
 "cells": [
  {
   "cell_type": "markdown",
   "metadata": {},
   "source": [
    "# Introduction"
   ]
  },
  {
   "cell_type": "markdown",
   "metadata": {},
   "source": [
    "In this report, we are going to analyze the bitcoin dataset."
   ]
  },
  {
   "cell_type": "markdown",
   "metadata": {},
   "source": [
    "## Import libraries"
   ]
  },
  {
   "cell_type": "code",
   "execution_count": 4,
   "metadata": {},
   "outputs": [],
   "source": [
    "import pandas as pd\n",
    "import numpy as np\n",
    "import matplotlib.pyplot as plt\n",
    "import seaborn as sns\n",
    "%matplotlib inline"
   ]
  },
  {
   "cell_type": "markdown",
   "metadata": {},
   "source": [
    "## Import Dataset"
   ]
  },
  {
   "cell_type": "code",
   "execution_count": 6,
   "metadata": {},
   "outputs": [],
   "source": [
    "bitcoin = pd.read_csv('data/bitcoin_train.csv')"
   ]
  },
  {
   "cell_type": "code",
   "execution_count": 7,
   "metadata": {},
   "outputs": [
    {
     "data": {
      "text/html": [
       "<div>\n",
       "<style scoped>\n",
       "    .dataframe tbody tr th:only-of-type {\n",
       "        vertical-align: middle;\n",
       "    }\n",
       "\n",
       "    .dataframe tbody tr th {\n",
       "        vertical-align: top;\n",
       "    }\n",
       "\n",
       "    .dataframe thead th {\n",
       "        text-align: right;\n",
       "    }\n",
       "</style>\n",
       "<table border=\"1\" class=\"dataframe\">\n",
       "  <thead>\n",
       "    <tr style=\"text-align: right;\">\n",
       "      <th></th>\n",
       "      <th>Unnamed: 0</th>\n",
       "      <th>address</th>\n",
       "      <th>year</th>\n",
       "      <th>day</th>\n",
       "      <th>length</th>\n",
       "      <th>weight</th>\n",
       "      <th>count</th>\n",
       "      <th>looped</th>\n",
       "      <th>neighbors</th>\n",
       "      <th>income</th>\n",
       "      <th>label</th>\n",
       "    </tr>\n",
       "  </thead>\n",
       "  <tbody>\n",
       "    <tr>\n",
       "      <th>0</th>\n",
       "      <td>0</td>\n",
       "      <td>1BpvJgUs7UprQu9z8fLsP7pFvFcCscHRCV</td>\n",
       "      <td>2011</td>\n",
       "      <td>287</td>\n",
       "      <td>2</td>\n",
       "      <td>0.250000</td>\n",
       "      <td>1</td>\n",
       "      <td>0</td>\n",
       "      <td>2</td>\n",
       "      <td>3.009500e+08</td>\n",
       "      <td>white</td>\n",
       "    </tr>\n",
       "    <tr>\n",
       "      <th>1</th>\n",
       "      <td>1</td>\n",
       "      <td>1EnSeTPjMxZm9X9iQDYmMUDoLQQ3ouDN6F</td>\n",
       "      <td>2015</td>\n",
       "      <td>77</td>\n",
       "      <td>0</td>\n",
       "      <td>1.000000</td>\n",
       "      <td>1</td>\n",
       "      <td>0</td>\n",
       "      <td>1</td>\n",
       "      <td>4.820000e+07</td>\n",
       "      <td>white</td>\n",
       "    </tr>\n",
       "    <tr>\n",
       "      <th>2</th>\n",
       "      <td>2</td>\n",
       "      <td>1mwkhYHeoqGBkVW84yFpYCSqRDt5TWSBQ</td>\n",
       "      <td>2011</td>\n",
       "      <td>164</td>\n",
       "      <td>52</td>\n",
       "      <td>0.000977</td>\n",
       "      <td>23</td>\n",
       "      <td>0</td>\n",
       "      <td>2</td>\n",
       "      <td>2.349582e+10</td>\n",
       "      <td>white</td>\n",
       "    </tr>\n",
       "    <tr>\n",
       "      <th>3</th>\n",
       "      <td>3</td>\n",
       "      <td>19XUCsxgpHZGXKLgVMpdoyZqcFdeM3pGeE</td>\n",
       "      <td>2014</td>\n",
       "      <td>86</td>\n",
       "      <td>144</td>\n",
       "      <td>0.000001</td>\n",
       "      <td>1555</td>\n",
       "      <td>1152</td>\n",
       "      <td>2</td>\n",
       "      <td>9.581274e+07</td>\n",
       "      <td>white</td>\n",
       "    </tr>\n",
       "    <tr>\n",
       "      <th>4</th>\n",
       "      <td>4</td>\n",
       "      <td>14Ef6MGSYLEbigo55CpPBGEGSGYwwB7xhY</td>\n",
       "      <td>2015</td>\n",
       "      <td>261</td>\n",
       "      <td>6</td>\n",
       "      <td>0.250000</td>\n",
       "      <td>1</td>\n",
       "      <td>0</td>\n",
       "      <td>2</td>\n",
       "      <td>3.424024e+07</td>\n",
       "      <td>white</td>\n",
       "    </tr>\n",
       "  </tbody>\n",
       "</table>\n",
       "</div>"
      ],
      "text/plain": [
       "   Unnamed: 0                             address  year  day  length  \\\n",
       "0           0  1BpvJgUs7UprQu9z8fLsP7pFvFcCscHRCV  2011  287       2   \n",
       "1           1  1EnSeTPjMxZm9X9iQDYmMUDoLQQ3ouDN6F  2015   77       0   \n",
       "2           2   1mwkhYHeoqGBkVW84yFpYCSqRDt5TWSBQ  2011  164      52   \n",
       "3           3  19XUCsxgpHZGXKLgVMpdoyZqcFdeM3pGeE  2014   86     144   \n",
       "4           4  14Ef6MGSYLEbigo55CpPBGEGSGYwwB7xhY  2015  261       6   \n",
       "\n",
       "     weight  count  looped  neighbors        income  label  \n",
       "0  0.250000      1       0          2  3.009500e+08  white  \n",
       "1  1.000000      1       0          1  4.820000e+07  white  \n",
       "2  0.000977     23       0          2  2.349582e+10  white  \n",
       "3  0.000001   1555    1152          2  9.581274e+07  white  \n",
       "4  0.250000      1       0          2  3.424024e+07  white  "
      ]
     },
     "execution_count": 7,
     "metadata": {},
     "output_type": "execute_result"
    }
   ],
   "source": [
    "bitcoin.head()"
   ]
  },
  {
   "cell_type": "code",
   "execution_count": 8,
   "metadata": {},
   "outputs": [
    {
     "data": {
      "text/plain": [
       "(2333357, 11)"
      ]
     },
     "execution_count": 8,
     "metadata": {},
     "output_type": "execute_result"
    }
   ],
   "source": [
    "bitcoin.shape"
   ]
  },
  {
   "cell_type": "code",
   "execution_count": 9,
   "metadata": {},
   "outputs": [
    {
     "name": "stdout",
     "output_type": "stream",
     "text": [
      "<class 'pandas.core.frame.DataFrame'>\n",
      "RangeIndex: 2333357 entries, 0 to 2333356\n",
      "Data columns (total 11 columns):\n",
      " #   Column      Dtype  \n",
      "---  ------      -----  \n",
      " 0   Unnamed: 0  int64  \n",
      " 1   address     object \n",
      " 2   year        int64  \n",
      " 3   day         int64  \n",
      " 4   length      int64  \n",
      " 5   weight      float64\n",
      " 6   count       int64  \n",
      " 7   looped      int64  \n",
      " 8   neighbors   int64  \n",
      " 9   income      float64\n",
      " 10  label       object \n",
      "dtypes: float64(2), int64(7), object(2)\n",
      "memory usage: 195.8+ MB\n"
     ]
    }
   ],
   "source": [
    "bitcoin.info()"
   ]
  },
  {
   "cell_type": "code",
   "execution_count": 10,
   "metadata": {},
   "outputs": [
    {
     "data": {
      "text/html": [
       "<div>\n",
       "<style scoped>\n",
       "    .dataframe tbody tr th:only-of-type {\n",
       "        vertical-align: middle;\n",
       "    }\n",
       "\n",
       "    .dataframe tbody tr th {\n",
       "        vertical-align: top;\n",
       "    }\n",
       "\n",
       "    .dataframe thead th {\n",
       "        text-align: right;\n",
       "    }\n",
       "</style>\n",
       "<table border=\"1\" class=\"dataframe\">\n",
       "  <thead>\n",
       "    <tr style=\"text-align: right;\">\n",
       "      <th></th>\n",
       "      <th>Unnamed: 0</th>\n",
       "      <th>year</th>\n",
       "      <th>day</th>\n",
       "      <th>length</th>\n",
       "      <th>weight</th>\n",
       "      <th>count</th>\n",
       "      <th>looped</th>\n",
       "      <th>neighbors</th>\n",
       "      <th>income</th>\n",
       "    </tr>\n",
       "  </thead>\n",
       "  <tbody>\n",
       "    <tr>\n",
       "      <th>count</th>\n",
       "      <td>2.333357e+06</td>\n",
       "      <td>2.333357e+06</td>\n",
       "      <td>2.333357e+06</td>\n",
       "      <td>2.333357e+06</td>\n",
       "      <td>2.333357e+06</td>\n",
       "      <td>2.333357e+06</td>\n",
       "      <td>2.333357e+06</td>\n",
       "      <td>2.333357e+06</td>\n",
       "      <td>2.333357e+06</td>\n",
       "    </tr>\n",
       "    <tr>\n",
       "      <th>mean</th>\n",
       "      <td>1.166678e+06</td>\n",
       "      <td>2.014476e+03</td>\n",
       "      <td>1.814778e+02</td>\n",
       "      <td>4.504554e+01</td>\n",
       "      <td>5.456381e-01</td>\n",
       "      <td>7.223780e+02</td>\n",
       "      <td>2.387287e+02</td>\n",
       "      <td>2.213161e+00</td>\n",
       "      <td>4.383004e+09</td>\n",
       "    </tr>\n",
       "    <tr>\n",
       "      <th>std</th>\n",
       "      <td>6.735823e+05</td>\n",
       "      <td>2.257312e+00</td>\n",
       "      <td>1.039893e+02</td>\n",
       "      <td>5.900348e+01</td>\n",
       "      <td>3.652788e+00</td>\n",
       "      <td>1.689861e+03</td>\n",
       "      <td>9.670131e+02</td>\n",
       "      <td>1.888230e+01</td>\n",
       "      <td>1.520211e+11</td>\n",
       "    </tr>\n",
       "    <tr>\n",
       "      <th>min</th>\n",
       "      <td>0.000000e+00</td>\n",
       "      <td>2.011000e+03</td>\n",
       "      <td>1.000000e+00</td>\n",
       "      <td>0.000000e+00</td>\n",
       "      <td>1.420108e-90</td>\n",
       "      <td>1.000000e+00</td>\n",
       "      <td>0.000000e+00</td>\n",
       "      <td>1.000000e+00</td>\n",
       "      <td>3.000000e+07</td>\n",
       "    </tr>\n",
       "    <tr>\n",
       "      <th>25%</th>\n",
       "      <td>5.833390e+05</td>\n",
       "      <td>2.013000e+03</td>\n",
       "      <td>9.200000e+01</td>\n",
       "      <td>2.000000e+00</td>\n",
       "      <td>2.152083e-02</td>\n",
       "      <td>1.000000e+00</td>\n",
       "      <td>0.000000e+00</td>\n",
       "      <td>1.000000e+00</td>\n",
       "      <td>7.434000e+07</td>\n",
       "    </tr>\n",
       "    <tr>\n",
       "      <th>50%</th>\n",
       "      <td>1.166678e+06</td>\n",
       "      <td>2.014000e+03</td>\n",
       "      <td>1.810000e+02</td>\n",
       "      <td>8.000000e+00</td>\n",
       "      <td>2.500000e-01</td>\n",
       "      <td>1.000000e+00</td>\n",
       "      <td>0.000000e+00</td>\n",
       "      <td>2.000000e+00</td>\n",
       "      <td>2.000000e+08</td>\n",
       "    </tr>\n",
       "    <tr>\n",
       "      <th>75%</th>\n",
       "      <td>1.750017e+06</td>\n",
       "      <td>2.016000e+03</td>\n",
       "      <td>2.710000e+02</td>\n",
       "      <td>1.080000e+02</td>\n",
       "      <td>8.794643e-01</td>\n",
       "      <td>5.700000e+01</td>\n",
       "      <td>0.000000e+00</td>\n",
       "      <td>2.000000e+00</td>\n",
       "      <td>9.940669e+08</td>\n",
       "    </tr>\n",
       "    <tr>\n",
       "      <th>max</th>\n",
       "      <td>2.333356e+06</td>\n",
       "      <td>2.018000e+03</td>\n",
       "      <td>3.650000e+02</td>\n",
       "      <td>1.440000e+02</td>\n",
       "      <td>1.943749e+03</td>\n",
       "      <td>1.449700e+04</td>\n",
       "      <td>1.449600e+04</td>\n",
       "      <td>1.292000e+04</td>\n",
       "      <td>4.982447e+13</td>\n",
       "    </tr>\n",
       "  </tbody>\n",
       "</table>\n",
       "</div>"
      ],
      "text/plain": [
       "         Unnamed: 0          year           day        length        weight  \\\n",
       "count  2.333357e+06  2.333357e+06  2.333357e+06  2.333357e+06  2.333357e+06   \n",
       "mean   1.166678e+06  2.014476e+03  1.814778e+02  4.504554e+01  5.456381e-01   \n",
       "std    6.735823e+05  2.257312e+00  1.039893e+02  5.900348e+01  3.652788e+00   \n",
       "min    0.000000e+00  2.011000e+03  1.000000e+00  0.000000e+00  1.420108e-90   \n",
       "25%    5.833390e+05  2.013000e+03  9.200000e+01  2.000000e+00  2.152083e-02   \n",
       "50%    1.166678e+06  2.014000e+03  1.810000e+02  8.000000e+00  2.500000e-01   \n",
       "75%    1.750017e+06  2.016000e+03  2.710000e+02  1.080000e+02  8.794643e-01   \n",
       "max    2.333356e+06  2.018000e+03  3.650000e+02  1.440000e+02  1.943749e+03   \n",
       "\n",
       "              count        looped     neighbors        income  \n",
       "count  2.333357e+06  2.333357e+06  2.333357e+06  2.333357e+06  \n",
       "mean   7.223780e+02  2.387287e+02  2.213161e+00  4.383004e+09  \n",
       "std    1.689861e+03  9.670131e+02  1.888230e+01  1.520211e+11  \n",
       "min    1.000000e+00  0.000000e+00  1.000000e+00  3.000000e+07  \n",
       "25%    1.000000e+00  0.000000e+00  1.000000e+00  7.434000e+07  \n",
       "50%    1.000000e+00  0.000000e+00  2.000000e+00  2.000000e+08  \n",
       "75%    5.700000e+01  0.000000e+00  2.000000e+00  9.940669e+08  \n",
       "max    1.449700e+04  1.449600e+04  1.292000e+04  4.982447e+13  "
      ]
     },
     "execution_count": 10,
     "metadata": {},
     "output_type": "execute_result"
    }
   ],
   "source": [
    "bitcoin.describe()"
   ]
  },
  {
   "cell_type": "markdown",
   "metadata": {},
   "source": [
    "# Data Cleaning\n"
   ]
  },
  {
   "cell_type": "code",
   "execution_count": 11,
   "metadata": {},
   "outputs": [
    {
     "data": {
      "text/plain": [
       "Index(['Unnamed: 0', 'address', 'year', 'day', 'length', 'weight', 'count',\n",
       "       'looped', 'neighbors', 'income', 'label'],\n",
       "      dtype='object')"
      ]
     },
     "execution_count": 11,
     "metadata": {},
     "output_type": "execute_result"
    }
   ],
   "source": [
    "bitcoin.columns"
   ]
  },
  {
   "cell_type": "code",
   "execution_count": 12,
   "metadata": {
    "scrolled": true
   },
   "outputs": [
    {
     "data": {
      "text/html": [
       "<div>\n",
       "<style scoped>\n",
       "    .dataframe tbody tr th:only-of-type {\n",
       "        vertical-align: middle;\n",
       "    }\n",
       "\n",
       "    .dataframe tbody tr th {\n",
       "        vertical-align: top;\n",
       "    }\n",
       "\n",
       "    .dataframe thead th {\n",
       "        text-align: right;\n",
       "    }\n",
       "</style>\n",
       "<table border=\"1\" class=\"dataframe\">\n",
       "  <thead>\n",
       "    <tr style=\"text-align: right;\">\n",
       "      <th></th>\n",
       "      <th>length</th>\n",
       "      <th>weight</th>\n",
       "      <th>count</th>\n",
       "      <th>looped</th>\n",
       "      <th>neighbors</th>\n",
       "      <th>income</th>\n",
       "      <th>label</th>\n",
       "    </tr>\n",
       "  </thead>\n",
       "  <tbody>\n",
       "    <tr>\n",
       "      <th>0</th>\n",
       "      <td>2</td>\n",
       "      <td>0.250000</td>\n",
       "      <td>1</td>\n",
       "      <td>0</td>\n",
       "      <td>2</td>\n",
       "      <td>3.009500e+08</td>\n",
       "      <td>white</td>\n",
       "    </tr>\n",
       "    <tr>\n",
       "      <th>1</th>\n",
       "      <td>0</td>\n",
       "      <td>1.000000</td>\n",
       "      <td>1</td>\n",
       "      <td>0</td>\n",
       "      <td>1</td>\n",
       "      <td>4.820000e+07</td>\n",
       "      <td>white</td>\n",
       "    </tr>\n",
       "    <tr>\n",
       "      <th>2</th>\n",
       "      <td>52</td>\n",
       "      <td>0.000977</td>\n",
       "      <td>23</td>\n",
       "      <td>0</td>\n",
       "      <td>2</td>\n",
       "      <td>2.349582e+10</td>\n",
       "      <td>white</td>\n",
       "    </tr>\n",
       "    <tr>\n",
       "      <th>3</th>\n",
       "      <td>144</td>\n",
       "      <td>0.000001</td>\n",
       "      <td>1555</td>\n",
       "      <td>1152</td>\n",
       "      <td>2</td>\n",
       "      <td>9.581274e+07</td>\n",
       "      <td>white</td>\n",
       "    </tr>\n",
       "    <tr>\n",
       "      <th>4</th>\n",
       "      <td>6</td>\n",
       "      <td>0.250000</td>\n",
       "      <td>1</td>\n",
       "      <td>0</td>\n",
       "      <td>2</td>\n",
       "      <td>3.424024e+07</td>\n",
       "      <td>white</td>\n",
       "    </tr>\n",
       "  </tbody>\n",
       "</table>\n",
       "</div>"
      ],
      "text/plain": [
       "   length    weight  count  looped  neighbors        income  label\n",
       "0       2  0.250000      1       0          2  3.009500e+08  white\n",
       "1       0  1.000000      1       0          1  4.820000e+07  white\n",
       "2      52  0.000977     23       0          2  2.349582e+10  white\n",
       "3     144  0.000001   1555    1152          2  9.581274e+07  white\n",
       "4       6  0.250000      1       0          2  3.424024e+07  white"
      ]
     },
     "execution_count": 12,
     "metadata": {},
     "output_type": "execute_result"
    }
   ],
   "source": [
    "bitcoin = bitcoin.drop([\"day\", \"year\", 'Unnamed: 0','address'],axis=1)\n",
    "bitcoin.head()"
   ]
  },
  {
   "cell_type": "code",
   "execution_count": 13,
   "metadata": {
    "scrolled": true
   },
   "outputs": [
    {
     "data": {
      "text/plain": [
       "length       0\n",
       "weight       0\n",
       "count        0\n",
       "looped       0\n",
       "neighbors    0\n",
       "income       0\n",
       "label        0\n",
       "dtype: int64"
      ]
     },
     "execution_count": 13,
     "metadata": {},
     "output_type": "execute_result"
    }
   ],
   "source": [
    "bitcoin.isnull().sum()"
   ]
  },
  {
   "cell_type": "code",
   "execution_count": 14,
   "metadata": {},
   "outputs": [
    {
     "data": {
      "text/plain": [
       "array(['white', 'CryptoWall', 'Cerber', 'CryptoLocker', 'Locky',\n",
       "       'DMALockerv3', 'Globe', 'CryptXXX', 'DMALocker', 'WannaCry',\n",
       "       'NoobCrypt', 'Razy', 'Flyper', 'KeRanger', 'GlobeImposter',\n",
       "       'SamSam', 'CryptoTorLocker2015', 'VenusLocker', 'Globev3', 'Sam',\n",
       "       'APT', 'XLockerv5.0', 'JigSaw', 'CryptConsole', 'EDA2',\n",
       "       'XTPLocker', 'XLocker', 'Jigsaw', 'ComradeCircle'], dtype=object)"
      ]
     },
     "execution_count": 14,
     "metadata": {},
     "output_type": "execute_result"
    }
   ],
   "source": [
    "bitcoin['label'].unique()"
   ]
  },
  {
   "cell_type": "code",
   "execution_count": 24,
   "metadata": {},
   "outputs": [],
   "source": [
    "to_replace = ['Globe', 'WannaCry',\n",
    "       'NoobCrypt', 'Razy', 'Flyper', 'KeRanger', 'GlobeImposter',\n",
    "       'SamSam', 'CryptoTorLocker2015', 'VenusLocker', 'Globev3', 'Sam',\n",
    "       'APT', 'XLockerv5.0', 'JigSaw', 'CryptConsole', 'EDA2',\n",
    "       'XTPLocker', 'XLocker', 'Jigsaw', 'ComradeCircle']"
   ]
  },
  {
   "cell_type": "code",
   "execution_count": 25,
   "metadata": {},
   "outputs": [],
   "source": [
    "bitcoin = bitcoin.replace(to_replace, \"other\")"
   ]
  },
  {
   "cell_type": "code",
   "execution_count": 27,
   "metadata": {},
   "outputs": [
    {
     "data": {
      "text/plain": [
       "array(['white', 'CryptoWall', 'Cerber', 'CryptoLocker', 'Locky',\n",
       "       'DMALockerv3', 'other', 'CryptXXX', 'DMALocker'], dtype=object)"
      ]
     },
     "execution_count": 27,
     "metadata": {},
     "output_type": "execute_result"
    }
   ],
   "source": [
    "bitcoin['label'].unique()"
   ]
  },
  {
   "cell_type": "code",
   "execution_count": 28,
   "metadata": {},
   "outputs": [
    {
     "data": {
      "text/html": [
       "<div>\n",
       "<style scoped>\n",
       "    .dataframe tbody tr th:only-of-type {\n",
       "        vertical-align: middle;\n",
       "    }\n",
       "\n",
       "    .dataframe tbody tr th {\n",
       "        vertical-align: top;\n",
       "    }\n",
       "\n",
       "    .dataframe thead th {\n",
       "        text-align: right;\n",
       "    }\n",
       "</style>\n",
       "<table border=\"1\" class=\"dataframe\">\n",
       "  <thead>\n",
       "    <tr style=\"text-align: right;\">\n",
       "      <th></th>\n",
       "      <th>length</th>\n",
       "      <th>weight</th>\n",
       "      <th>count</th>\n",
       "      <th>looped</th>\n",
       "      <th>neighbors</th>\n",
       "      <th>income</th>\n",
       "    </tr>\n",
       "    <tr>\n",
       "      <th>label</th>\n",
       "      <th></th>\n",
       "      <th></th>\n",
       "      <th></th>\n",
       "      <th></th>\n",
       "      <th></th>\n",
       "      <th></th>\n",
       "    </tr>\n",
       "  </thead>\n",
       "  <tbody>\n",
       "    <tr>\n",
       "      <th>CryptoWall</th>\n",
       "      <td>9872</td>\n",
       "      <td>9872</td>\n",
       "      <td>9872</td>\n",
       "      <td>9872</td>\n",
       "      <td>9872</td>\n",
       "      <td>9872</td>\n",
       "    </tr>\n",
       "    <tr>\n",
       "      <th>CryptoLocker</th>\n",
       "      <td>7422</td>\n",
       "      <td>7422</td>\n",
       "      <td>7422</td>\n",
       "      <td>7422</td>\n",
       "      <td>7422</td>\n",
       "      <td>7422</td>\n",
       "    </tr>\n",
       "    <tr>\n",
       "      <th>Cerber</th>\n",
       "      <td>7381</td>\n",
       "      <td>7381</td>\n",
       "      <td>7381</td>\n",
       "      <td>7381</td>\n",
       "      <td>7381</td>\n",
       "      <td>7381</td>\n",
       "    </tr>\n",
       "    <tr>\n",
       "      <th>Locky</th>\n",
       "      <td>5320</td>\n",
       "      <td>5320</td>\n",
       "      <td>5320</td>\n",
       "      <td>5320</td>\n",
       "      <td>5320</td>\n",
       "      <td>5320</td>\n",
       "    </tr>\n",
       "    <tr>\n",
       "      <th>CryptXXX</th>\n",
       "      <td>1933</td>\n",
       "      <td>1933</td>\n",
       "      <td>1933</td>\n",
       "      <td>1933</td>\n",
       "      <td>1933</td>\n",
       "      <td>1933</td>\n",
       "    </tr>\n",
       "    <tr>\n",
       "      <th>other</th>\n",
       "      <td>661</td>\n",
       "      <td>661</td>\n",
       "      <td>661</td>\n",
       "      <td>661</td>\n",
       "      <td>661</td>\n",
       "      <td>661</td>\n",
       "    </tr>\n",
       "    <tr>\n",
       "      <th>DMALockerv3</th>\n",
       "      <td>290</td>\n",
       "      <td>290</td>\n",
       "      <td>290</td>\n",
       "      <td>290</td>\n",
       "      <td>290</td>\n",
       "      <td>290</td>\n",
       "    </tr>\n",
       "    <tr>\n",
       "      <th>DMALocker</th>\n",
       "      <td>210</td>\n",
       "      <td>210</td>\n",
       "      <td>210</td>\n",
       "      <td>210</td>\n",
       "      <td>210</td>\n",
       "      <td>210</td>\n",
       "    </tr>\n",
       "  </tbody>\n",
       "</table>\n",
       "</div>"
      ],
      "text/plain": [
       "              length  weight  count  looped  neighbors  income\n",
       "label                                                         \n",
       "CryptoWall      9872    9872   9872    9872       9872    9872\n",
       "CryptoLocker    7422    7422   7422    7422       7422    7422\n",
       "Cerber          7381    7381   7381    7381       7381    7381\n",
       "Locky           5320    5320   5320    5320       5320    5320\n",
       "CryptXXX        1933    1933   1933    1933       1933    1933\n",
       "other            661     661    661     661        661     661\n",
       "DMALockerv3      290     290    290     290        290     290\n",
       "DMALocker        210     210    210     210        210     210"
      ]
     },
     "execution_count": 28,
     "metadata": {},
     "output_type": "execute_result"
    }
   ],
   "source": [
    "bitcoin.loc[~(bitcoin['label'] == 'white')].groupby(\"label\").count().sort_values(by=\"count\", ascending = False)"
   ]
  },
  {
   "cell_type": "markdown",
   "metadata": {},
   "source": [
    "# Data Visualization"
   ]
  },
  {
   "cell_type": "code",
   "execution_count": 29,
   "metadata": {},
   "outputs": [
    {
     "data": {
      "text/plain": [
       "RangeIndex(start=0, stop=2333357, step=1)"
      ]
     },
     "execution_count": 29,
     "metadata": {},
     "output_type": "execute_result"
    }
   ],
   "source": [
    "bitcoin.index"
   ]
  },
  {
   "cell_type": "code",
   "execution_count": 37,
   "metadata": {
    "scrolled": true
   },
   "outputs": [
    {
     "data": {
      "text/plain": [
       "label\n",
       "CryptoWall      0.298347\n",
       "CryptoLocker    0.224304\n",
       "Cerber          0.223065\n",
       "Locky           0.160779\n",
       "CryptXXX        0.058418\n",
       "other           0.019976\n",
       "DMALockerv3     0.008764\n",
       "DMALocker       0.006347\n",
       "Name: count, dtype: float64"
      ]
     },
     "execution_count": 37,
     "metadata": {},
     "output_type": "execute_result"
    }
   ],
   "source": [
    "market_share = bitcoin.loc[~(bitcoin['label'] == 'white')].groupby('label').count()['count'].sort_values(ascending=False)\n",
    "market_share_freq = market_share / market_share.sum()\n",
    "market_share_freq"
   ]
  },
  {
   "cell_type": "code",
   "execution_count": null,
   "metadata": {},
   "outputs": [],
   "source": [
    "market_share"
   ]
  },
  {
   "cell_type": "code",
   "execution_count": null,
   "metadata": {},
   "outputs": [],
   "source": [
    "# top three ransom labels that have the most ransom transactions: Locky, Cerber, CryptoWall"
   ]
  },
  {
   "cell_type": "code",
   "execution_count": null,
   "metadata": {
    "scrolled": true
   },
   "outputs": [],
   "source": [
    "num_white = bitcoin.loc[(bitcoin['label'] == 'white')].shape[0]\n",
    "num_ransom = bitcoin.shape[0] - num_white\n",
    "basic = pd.DataFrame({'category':['white', 'ransom'], 'count':[num_white, num_ransom]})\n",
    "basic"
   ]
  },
  {
   "cell_type": "code",
   "execution_count": null,
   "metadata": {},
   "outputs": [],
   "source": [
    "locky = bitcoin[bitcoin['label'] == 'Locky']\n",
    "locky"
   ]
  },
  {
   "cell_type": "code",
   "execution_count": null,
   "metadata": {},
   "outputs": [],
   "source": []
  },
  {
   "cell_type": "code",
   "execution_count": null,
   "metadata": {},
   "outputs": [],
   "source": []
  },
  {
   "cell_type": "code",
   "execution_count": null,
   "metadata": {},
   "outputs": [],
   "source": []
  },
  {
   "cell_type": "code",
   "execution_count": null,
   "metadata": {},
   "outputs": [],
   "source": []
  },
  {
   "cell_type": "code",
   "execution_count": null,
   "metadata": {},
   "outputs": [],
   "source": []
  },
  {
   "cell_type": "code",
   "execution_count": null,
   "metadata": {},
   "outputs": [],
   "source": []
  },
  {
   "cell_type": "markdown",
   "metadata": {},
   "source": [
    "# Data Analysis"
   ]
  },
  {
   "cell_type": "markdown",
   "metadata": {},
   "source": [
    "# Predictive Model"
   ]
  },
  {
   "cell_type": "markdown",
   "metadata": {},
   "source": [
    "# Proposal"
   ]
  },
  {
   "cell_type": "markdown",
   "metadata": {},
   "source": [
    "# Conclusion"
   ]
  },
  {
   "cell_type": "code",
   "execution_count": null,
   "metadata": {},
   "outputs": [],
   "source": []
  }
 ],
 "metadata": {
  "kernelspec": {
   "display_name": "Python 3",
   "language": "python",
   "name": "python3"
  },
  "language_info": {
   "codemirror_mode": {
    "name": "ipython",
    "version": 3
   },
   "file_extension": ".py",
   "mimetype": "text/x-python",
   "name": "python",
   "nbconvert_exporter": "python",
   "pygments_lexer": "ipython3",
   "version": "3.9.0"
  }
 },
 "nbformat": 4,
 "nbformat_minor": 4
}

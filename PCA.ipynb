{
 "cells": [
  {
   "cell_type": "markdown",
   "metadata": {},
   "source": [
    "## Import libraries"
   ]
  },
  {
   "cell_type": "code",
   "execution_count": 396,
   "metadata": {},
   "outputs": [],
   "source": [
    "import pandas as pd\n",
    "import numpy as np\n",
    "import matplotlib.pyplot as plt\n",
    "import seaborn as sns\n",
    "%matplotlib inline"
   ]
  },
  {
   "cell_type": "markdown",
   "metadata": {},
   "source": [
    "## Import Dataset"
   ]
  },
  {
   "cell_type": "code",
   "execution_count": 397,
   "metadata": {},
   "outputs": [],
   "source": [
    "bitcoin = pd.read_csv('datasets/bitcoin_train.csv')"
   ]
  },
  {
   "cell_type": "code",
   "execution_count": 398,
   "metadata": {},
   "outputs": [
    {
     "data": {
      "text/html": [
       "<div>\n",
       "<style scoped>\n",
       "    .dataframe tbody tr th:only-of-type {\n",
       "        vertical-align: middle;\n",
       "    }\n",
       "\n",
       "    .dataframe tbody tr th {\n",
       "        vertical-align: top;\n",
       "    }\n",
       "\n",
       "    .dataframe thead th {\n",
       "        text-align: right;\n",
       "    }\n",
       "</style>\n",
       "<table border=\"1\" class=\"dataframe\">\n",
       "  <thead>\n",
       "    <tr style=\"text-align: right;\">\n",
       "      <th></th>\n",
       "      <th>Unnamed: 0</th>\n",
       "      <th>address</th>\n",
       "      <th>year</th>\n",
       "      <th>day</th>\n",
       "      <th>length</th>\n",
       "      <th>weight</th>\n",
       "      <th>count</th>\n",
       "      <th>looped</th>\n",
       "      <th>neighbors</th>\n",
       "      <th>income</th>\n",
       "      <th>label</th>\n",
       "    </tr>\n",
       "  </thead>\n",
       "  <tbody>\n",
       "    <tr>\n",
       "      <th>0</th>\n",
       "      <td>0</td>\n",
       "      <td>1BpvJgUs7UprQu9z8fLsP7pFvFcCscHRCV</td>\n",
       "      <td>2011</td>\n",
       "      <td>287</td>\n",
       "      <td>2</td>\n",
       "      <td>0.250000</td>\n",
       "      <td>1</td>\n",
       "      <td>0</td>\n",
       "      <td>2</td>\n",
       "      <td>3.009500e+08</td>\n",
       "      <td>white</td>\n",
       "    </tr>\n",
       "    <tr>\n",
       "      <th>1</th>\n",
       "      <td>1</td>\n",
       "      <td>1EnSeTPjMxZm9X9iQDYmMUDoLQQ3ouDN6F</td>\n",
       "      <td>2015</td>\n",
       "      <td>77</td>\n",
       "      <td>0</td>\n",
       "      <td>1.000000</td>\n",
       "      <td>1</td>\n",
       "      <td>0</td>\n",
       "      <td>1</td>\n",
       "      <td>4.820000e+07</td>\n",
       "      <td>white</td>\n",
       "    </tr>\n",
       "    <tr>\n",
       "      <th>2</th>\n",
       "      <td>2</td>\n",
       "      <td>1mwkhYHeoqGBkVW84yFpYCSqRDt5TWSBQ</td>\n",
       "      <td>2011</td>\n",
       "      <td>164</td>\n",
       "      <td>52</td>\n",
       "      <td>0.000977</td>\n",
       "      <td>23</td>\n",
       "      <td>0</td>\n",
       "      <td>2</td>\n",
       "      <td>2.349582e+10</td>\n",
       "      <td>white</td>\n",
       "    </tr>\n",
       "    <tr>\n",
       "      <th>3</th>\n",
       "      <td>3</td>\n",
       "      <td>19XUCsxgpHZGXKLgVMpdoyZqcFdeM3pGeE</td>\n",
       "      <td>2014</td>\n",
       "      <td>86</td>\n",
       "      <td>144</td>\n",
       "      <td>0.000001</td>\n",
       "      <td>1555</td>\n",
       "      <td>1152</td>\n",
       "      <td>2</td>\n",
       "      <td>9.581274e+07</td>\n",
       "      <td>white</td>\n",
       "    </tr>\n",
       "    <tr>\n",
       "      <th>4</th>\n",
       "      <td>4</td>\n",
       "      <td>14Ef6MGSYLEbigo55CpPBGEGSGYwwB7xhY</td>\n",
       "      <td>2015</td>\n",
       "      <td>261</td>\n",
       "      <td>6</td>\n",
       "      <td>0.250000</td>\n",
       "      <td>1</td>\n",
       "      <td>0</td>\n",
       "      <td>2</td>\n",
       "      <td>3.424024e+07</td>\n",
       "      <td>white</td>\n",
       "    </tr>\n",
       "  </tbody>\n",
       "</table>\n",
       "</div>"
      ],
      "text/plain": [
       "   Unnamed: 0                             address  year  day  length  \\\n",
       "0           0  1BpvJgUs7UprQu9z8fLsP7pFvFcCscHRCV  2011  287       2   \n",
       "1           1  1EnSeTPjMxZm9X9iQDYmMUDoLQQ3ouDN6F  2015   77       0   \n",
       "2           2   1mwkhYHeoqGBkVW84yFpYCSqRDt5TWSBQ  2011  164      52   \n",
       "3           3  19XUCsxgpHZGXKLgVMpdoyZqcFdeM3pGeE  2014   86     144   \n",
       "4           4  14Ef6MGSYLEbigo55CpPBGEGSGYwwB7xhY  2015  261       6   \n",
       "\n",
       "     weight  count  looped  neighbors        income  label  \n",
       "0  0.250000      1       0          2  3.009500e+08  white  \n",
       "1  1.000000      1       0          1  4.820000e+07  white  \n",
       "2  0.000977     23       0          2  2.349582e+10  white  \n",
       "3  0.000001   1555    1152          2  9.581274e+07  white  \n",
       "4  0.250000      1       0          2  3.424024e+07  white  "
      ]
     },
     "execution_count": 398,
     "metadata": {},
     "output_type": "execute_result"
    }
   ],
   "source": [
    "bitcoin.head()"
   ]
  },
  {
   "cell_type": "code",
   "execution_count": 399,
   "metadata": {},
   "outputs": [
    {
     "data": {
      "text/plain": [
       "(2333357, 11)"
      ]
     },
     "execution_count": 399,
     "metadata": {},
     "output_type": "execute_result"
    }
   ],
   "source": [
    "bitcoin.shape"
   ]
  },
  {
   "cell_type": "code",
   "execution_count": 400,
   "metadata": {},
   "outputs": [
    {
     "name": "stdout",
     "output_type": "stream",
     "text": [
      "<class 'pandas.core.frame.DataFrame'>\n",
      "RangeIndex: 2333357 entries, 0 to 2333356\n",
      "Data columns (total 11 columns):\n",
      " #   Column      Dtype  \n",
      "---  ------      -----  \n",
      " 0   Unnamed: 0  int64  \n",
      " 1   address     object \n",
      " 2   year        int64  \n",
      " 3   day         int64  \n",
      " 4   length      int64  \n",
      " 5   weight      float64\n",
      " 6   count       int64  \n",
      " 7   looped      int64  \n",
      " 8   neighbors   int64  \n",
      " 9   income      float64\n",
      " 10  label       object \n",
      "dtypes: float64(2), int64(7), object(2)\n",
      "memory usage: 195.8+ MB\n"
     ]
    }
   ],
   "source": [
    "bitcoin.info()"
   ]
  },
  {
   "cell_type": "code",
   "execution_count": 401,
   "metadata": {},
   "outputs": [
    {
     "data": {
      "text/html": [
       "<div>\n",
       "<style scoped>\n",
       "    .dataframe tbody tr th:only-of-type {\n",
       "        vertical-align: middle;\n",
       "    }\n",
       "\n",
       "    .dataframe tbody tr th {\n",
       "        vertical-align: top;\n",
       "    }\n",
       "\n",
       "    .dataframe thead th {\n",
       "        text-align: right;\n",
       "    }\n",
       "</style>\n",
       "<table border=\"1\" class=\"dataframe\">\n",
       "  <thead>\n",
       "    <tr style=\"text-align: right;\">\n",
       "      <th></th>\n",
       "      <th>Unnamed: 0</th>\n",
       "      <th>year</th>\n",
       "      <th>day</th>\n",
       "      <th>length</th>\n",
       "      <th>weight</th>\n",
       "      <th>count</th>\n",
       "      <th>looped</th>\n",
       "      <th>neighbors</th>\n",
       "      <th>income</th>\n",
       "    </tr>\n",
       "  </thead>\n",
       "  <tbody>\n",
       "    <tr>\n",
       "      <th>count</th>\n",
       "      <td>2.333357e+06</td>\n",
       "      <td>2.333357e+06</td>\n",
       "      <td>2.333357e+06</td>\n",
       "      <td>2.333357e+06</td>\n",
       "      <td>2.333357e+06</td>\n",
       "      <td>2.333357e+06</td>\n",
       "      <td>2.333357e+06</td>\n",
       "      <td>2.333357e+06</td>\n",
       "      <td>2.333357e+06</td>\n",
       "    </tr>\n",
       "    <tr>\n",
       "      <th>mean</th>\n",
       "      <td>1.166678e+06</td>\n",
       "      <td>2.014476e+03</td>\n",
       "      <td>1.814778e+02</td>\n",
       "      <td>4.504554e+01</td>\n",
       "      <td>5.456381e-01</td>\n",
       "      <td>7.223780e+02</td>\n",
       "      <td>2.387287e+02</td>\n",
       "      <td>2.213161e+00</td>\n",
       "      <td>4.383004e+09</td>\n",
       "    </tr>\n",
       "    <tr>\n",
       "      <th>std</th>\n",
       "      <td>6.735823e+05</td>\n",
       "      <td>2.257312e+00</td>\n",
       "      <td>1.039893e+02</td>\n",
       "      <td>5.900348e+01</td>\n",
       "      <td>3.652788e+00</td>\n",
       "      <td>1.689861e+03</td>\n",
       "      <td>9.670131e+02</td>\n",
       "      <td>1.888230e+01</td>\n",
       "      <td>1.520211e+11</td>\n",
       "    </tr>\n",
       "    <tr>\n",
       "      <th>min</th>\n",
       "      <td>0.000000e+00</td>\n",
       "      <td>2.011000e+03</td>\n",
       "      <td>1.000000e+00</td>\n",
       "      <td>0.000000e+00</td>\n",
       "      <td>1.420108e-90</td>\n",
       "      <td>1.000000e+00</td>\n",
       "      <td>0.000000e+00</td>\n",
       "      <td>1.000000e+00</td>\n",
       "      <td>3.000000e+07</td>\n",
       "    </tr>\n",
       "    <tr>\n",
       "      <th>25%</th>\n",
       "      <td>5.833390e+05</td>\n",
       "      <td>2.013000e+03</td>\n",
       "      <td>9.200000e+01</td>\n",
       "      <td>2.000000e+00</td>\n",
       "      <td>2.152083e-02</td>\n",
       "      <td>1.000000e+00</td>\n",
       "      <td>0.000000e+00</td>\n",
       "      <td>1.000000e+00</td>\n",
       "      <td>7.434000e+07</td>\n",
       "    </tr>\n",
       "    <tr>\n",
       "      <th>50%</th>\n",
       "      <td>1.166678e+06</td>\n",
       "      <td>2.014000e+03</td>\n",
       "      <td>1.810000e+02</td>\n",
       "      <td>8.000000e+00</td>\n",
       "      <td>2.500000e-01</td>\n",
       "      <td>1.000000e+00</td>\n",
       "      <td>0.000000e+00</td>\n",
       "      <td>2.000000e+00</td>\n",
       "      <td>2.000000e+08</td>\n",
       "    </tr>\n",
       "    <tr>\n",
       "      <th>75%</th>\n",
       "      <td>1.750017e+06</td>\n",
       "      <td>2.016000e+03</td>\n",
       "      <td>2.710000e+02</td>\n",
       "      <td>1.080000e+02</td>\n",
       "      <td>8.794643e-01</td>\n",
       "      <td>5.700000e+01</td>\n",
       "      <td>0.000000e+00</td>\n",
       "      <td>2.000000e+00</td>\n",
       "      <td>9.940669e+08</td>\n",
       "    </tr>\n",
       "    <tr>\n",
       "      <th>max</th>\n",
       "      <td>2.333356e+06</td>\n",
       "      <td>2.018000e+03</td>\n",
       "      <td>3.650000e+02</td>\n",
       "      <td>1.440000e+02</td>\n",
       "      <td>1.943749e+03</td>\n",
       "      <td>1.449700e+04</td>\n",
       "      <td>1.449600e+04</td>\n",
       "      <td>1.292000e+04</td>\n",
       "      <td>4.982447e+13</td>\n",
       "    </tr>\n",
       "  </tbody>\n",
       "</table>\n",
       "</div>"
      ],
      "text/plain": [
       "         Unnamed: 0          year           day        length        weight  \\\n",
       "count  2.333357e+06  2.333357e+06  2.333357e+06  2.333357e+06  2.333357e+06   \n",
       "mean   1.166678e+06  2.014476e+03  1.814778e+02  4.504554e+01  5.456381e-01   \n",
       "std    6.735823e+05  2.257312e+00  1.039893e+02  5.900348e+01  3.652788e+00   \n",
       "min    0.000000e+00  2.011000e+03  1.000000e+00  0.000000e+00  1.420108e-90   \n",
       "25%    5.833390e+05  2.013000e+03  9.200000e+01  2.000000e+00  2.152083e-02   \n",
       "50%    1.166678e+06  2.014000e+03  1.810000e+02  8.000000e+00  2.500000e-01   \n",
       "75%    1.750017e+06  2.016000e+03  2.710000e+02  1.080000e+02  8.794643e-01   \n",
       "max    2.333356e+06  2.018000e+03  3.650000e+02  1.440000e+02  1.943749e+03   \n",
       "\n",
       "              count        looped     neighbors        income  \n",
       "count  2.333357e+06  2.333357e+06  2.333357e+06  2.333357e+06  \n",
       "mean   7.223780e+02  2.387287e+02  2.213161e+00  4.383004e+09  \n",
       "std    1.689861e+03  9.670131e+02  1.888230e+01  1.520211e+11  \n",
       "min    1.000000e+00  0.000000e+00  1.000000e+00  3.000000e+07  \n",
       "25%    1.000000e+00  0.000000e+00  1.000000e+00  7.434000e+07  \n",
       "50%    1.000000e+00  0.000000e+00  2.000000e+00  2.000000e+08  \n",
       "75%    5.700000e+01  0.000000e+00  2.000000e+00  9.940669e+08  \n",
       "max    1.449700e+04  1.449600e+04  1.292000e+04  4.982447e+13  "
      ]
     },
     "execution_count": 401,
     "metadata": {},
     "output_type": "execute_result"
    }
   ],
   "source": [
    "bitcoin.describe()"
   ]
  },
  {
   "cell_type": "code",
   "execution_count": 403,
   "metadata": {
    "scrolled": true
   },
   "outputs": [
    {
     "data": {
      "text/html": [
       "<div>\n",
       "<style scoped>\n",
       "    .dataframe tbody tr th:only-of-type {\n",
       "        vertical-align: middle;\n",
       "    }\n",
       "\n",
       "    .dataframe tbody tr th {\n",
       "        vertical-align: top;\n",
       "    }\n",
       "\n",
       "    .dataframe thead th {\n",
       "        text-align: right;\n",
       "    }\n",
       "</style>\n",
       "<table border=\"1\" class=\"dataframe\">\n",
       "  <thead>\n",
       "    <tr style=\"text-align: right;\">\n",
       "      <th></th>\n",
       "      <th>length</th>\n",
       "      <th>weight</th>\n",
       "      <th>count</th>\n",
       "      <th>looped</th>\n",
       "      <th>neighbors</th>\n",
       "      <th>income</th>\n",
       "      <th>label</th>\n",
       "    </tr>\n",
       "  </thead>\n",
       "  <tbody>\n",
       "    <tr>\n",
       "      <th>0</th>\n",
       "      <td>2</td>\n",
       "      <td>0.250000</td>\n",
       "      <td>1</td>\n",
       "      <td>0</td>\n",
       "      <td>2</td>\n",
       "      <td>3.009500e+08</td>\n",
       "      <td>white</td>\n",
       "    </tr>\n",
       "    <tr>\n",
       "      <th>1</th>\n",
       "      <td>0</td>\n",
       "      <td>1.000000</td>\n",
       "      <td>1</td>\n",
       "      <td>0</td>\n",
       "      <td>1</td>\n",
       "      <td>4.820000e+07</td>\n",
       "      <td>white</td>\n",
       "    </tr>\n",
       "    <tr>\n",
       "      <th>2</th>\n",
       "      <td>52</td>\n",
       "      <td>0.000977</td>\n",
       "      <td>23</td>\n",
       "      <td>0</td>\n",
       "      <td>2</td>\n",
       "      <td>2.349582e+10</td>\n",
       "      <td>white</td>\n",
       "    </tr>\n",
       "    <tr>\n",
       "      <th>3</th>\n",
       "      <td>144</td>\n",
       "      <td>0.000001</td>\n",
       "      <td>1555</td>\n",
       "      <td>1152</td>\n",
       "      <td>2</td>\n",
       "      <td>9.581274e+07</td>\n",
       "      <td>white</td>\n",
       "    </tr>\n",
       "    <tr>\n",
       "      <th>4</th>\n",
       "      <td>6</td>\n",
       "      <td>0.250000</td>\n",
       "      <td>1</td>\n",
       "      <td>0</td>\n",
       "      <td>2</td>\n",
       "      <td>3.424024e+07</td>\n",
       "      <td>white</td>\n",
       "    </tr>\n",
       "  </tbody>\n",
       "</table>\n",
       "</div>"
      ],
      "text/plain": [
       "   length    weight  count  looped  neighbors        income  label\n",
       "0       2  0.250000      1       0          2  3.009500e+08  white\n",
       "1       0  1.000000      1       0          1  4.820000e+07  white\n",
       "2      52  0.000977     23       0          2  2.349582e+10  white\n",
       "3     144  0.000001   1555    1152          2  9.581274e+07  white\n",
       "4       6  0.250000      1       0          2  3.424024e+07  white"
      ]
     },
     "execution_count": 403,
     "metadata": {},
     "output_type": "execute_result"
    }
   ],
   "source": [
    "bitcoin = bitcoin.drop(['Unnamed: 0','address','day','year'],axis=1)\n",
    "bitcoin.head()"
   ]
  },
  {
   "cell_type": "code",
   "execution_count": 405,
   "metadata": {},
   "outputs": [
    {
     "data": {
      "text/html": [
       "<div>\n",
       "<style scoped>\n",
       "    .dataframe tbody tr th:only-of-type {\n",
       "        vertical-align: middle;\n",
       "    }\n",
       "\n",
       "    .dataframe tbody tr th {\n",
       "        vertical-align: top;\n",
       "    }\n",
       "\n",
       "    .dataframe thead th {\n",
       "        text-align: right;\n",
       "    }\n",
       "</style>\n",
       "<table border=\"1\" class=\"dataframe\">\n",
       "  <thead>\n",
       "    <tr style=\"text-align: right;\">\n",
       "      <th></th>\n",
       "      <th>length</th>\n",
       "      <th>weight</th>\n",
       "      <th>count</th>\n",
       "      <th>looped</th>\n",
       "      <th>neighbors</th>\n",
       "      <th>income</th>\n",
       "      <th>label</th>\n",
       "    </tr>\n",
       "  </thead>\n",
       "  <tbody>\n",
       "    <tr>\n",
       "      <th>0</th>\n",
       "      <td>2</td>\n",
       "      <td>0.250000</td>\n",
       "      <td>1</td>\n",
       "      <td>0</td>\n",
       "      <td>2</td>\n",
       "      <td>3.009500e+08</td>\n",
       "      <td>white</td>\n",
       "    </tr>\n",
       "    <tr>\n",
       "      <th>1</th>\n",
       "      <td>0</td>\n",
       "      <td>1.000000</td>\n",
       "      <td>1</td>\n",
       "      <td>0</td>\n",
       "      <td>1</td>\n",
       "      <td>4.820000e+07</td>\n",
       "      <td>white</td>\n",
       "    </tr>\n",
       "    <tr>\n",
       "      <th>2</th>\n",
       "      <td>52</td>\n",
       "      <td>0.000977</td>\n",
       "      <td>23</td>\n",
       "      <td>0</td>\n",
       "      <td>2</td>\n",
       "      <td>2.349582e+10</td>\n",
       "      <td>white</td>\n",
       "    </tr>\n",
       "    <tr>\n",
       "      <th>3</th>\n",
       "      <td>144</td>\n",
       "      <td>0.000001</td>\n",
       "      <td>1555</td>\n",
       "      <td>1152</td>\n",
       "      <td>2</td>\n",
       "      <td>9.581274e+07</td>\n",
       "      <td>white</td>\n",
       "    </tr>\n",
       "    <tr>\n",
       "      <th>4</th>\n",
       "      <td>6</td>\n",
       "      <td>0.250000</td>\n",
       "      <td>1</td>\n",
       "      <td>0</td>\n",
       "      <td>2</td>\n",
       "      <td>3.424024e+07</td>\n",
       "      <td>white</td>\n",
       "    </tr>\n",
       "    <tr>\n",
       "      <th>...</th>\n",
       "      <td>...</td>\n",
       "      <td>...</td>\n",
       "      <td>...</td>\n",
       "      <td>...</td>\n",
       "      <td>...</td>\n",
       "      <td>...</td>\n",
       "      <td>...</td>\n",
       "    </tr>\n",
       "    <tr>\n",
       "      <th>2333352</th>\n",
       "      <td>10</td>\n",
       "      <td>0.062500</td>\n",
       "      <td>1</td>\n",
       "      <td>0</td>\n",
       "      <td>1</td>\n",
       "      <td>5.140488e+07</td>\n",
       "      <td>white</td>\n",
       "    </tr>\n",
       "    <tr>\n",
       "      <th>2333353</th>\n",
       "      <td>144</td>\n",
       "      <td>0.003251</td>\n",
       "      <td>6066</td>\n",
       "      <td>0</td>\n",
       "      <td>2</td>\n",
       "      <td>1.000000e+08</td>\n",
       "      <td>white</td>\n",
       "    </tr>\n",
       "    <tr>\n",
       "      <th>2333354</th>\n",
       "      <td>20</td>\n",
       "      <td>0.002604</td>\n",
       "      <td>2</td>\n",
       "      <td>0</td>\n",
       "      <td>2</td>\n",
       "      <td>3.324864e+09</td>\n",
       "      <td>white</td>\n",
       "    </tr>\n",
       "    <tr>\n",
       "      <th>2333355</th>\n",
       "      <td>0</td>\n",
       "      <td>1.000000</td>\n",
       "      <td>1</td>\n",
       "      <td>0</td>\n",
       "      <td>2</td>\n",
       "      <td>1.045210e+09</td>\n",
       "      <td>white</td>\n",
       "    </tr>\n",
       "    <tr>\n",
       "      <th>2333356</th>\n",
       "      <td>66</td>\n",
       "      <td>0.000015</td>\n",
       "      <td>1</td>\n",
       "      <td>0</td>\n",
       "      <td>2</td>\n",
       "      <td>2.656000e+09</td>\n",
       "      <td>white</td>\n",
       "    </tr>\n",
       "  </tbody>\n",
       "</table>\n",
       "<p>2333357 rows × 7 columns</p>\n",
       "</div>"
      ],
      "text/plain": [
       "         length    weight  count  looped  neighbors        income  label\n",
       "0             2  0.250000      1       0          2  3.009500e+08  white\n",
       "1             0  1.000000      1       0          1  4.820000e+07  white\n",
       "2            52  0.000977     23       0          2  2.349582e+10  white\n",
       "3           144  0.000001   1555    1152          2  9.581274e+07  white\n",
       "4             6  0.250000      1       0          2  3.424024e+07  white\n",
       "...         ...       ...    ...     ...        ...           ...    ...\n",
       "2333352      10  0.062500      1       0          1  5.140488e+07  white\n",
       "2333353     144  0.003251   6066       0          2  1.000000e+08  white\n",
       "2333354      20  0.002604      2       0          2  3.324864e+09  white\n",
       "2333355       0  1.000000      1       0          2  1.045210e+09  white\n",
       "2333356      66  0.000015      1       0          2  2.656000e+09  white\n",
       "\n",
       "[2333357 rows x 7 columns]"
      ]
     },
     "execution_count": 405,
     "metadata": {},
     "output_type": "execute_result"
    }
   ],
   "source": [
    "bitcoin"
   ]
  },
  {
   "cell_type": "code",
   "execution_count": 406,
   "metadata": {},
   "outputs": [
    {
     "data": {
      "text/html": [
       "<div>\n",
       "<style scoped>\n",
       "    .dataframe tbody tr th:only-of-type {\n",
       "        vertical-align: middle;\n",
       "    }\n",
       "\n",
       "    .dataframe tbody tr th {\n",
       "        vertical-align: top;\n",
       "    }\n",
       "\n",
       "    .dataframe thead th {\n",
       "        text-align: right;\n",
       "    }\n",
       "</style>\n",
       "<table border=\"1\" class=\"dataframe\">\n",
       "  <thead>\n",
       "    <tr style=\"text-align: right;\">\n",
       "      <th></th>\n",
       "      <th>length</th>\n",
       "      <th>weight</th>\n",
       "      <th>count</th>\n",
       "      <th>looped</th>\n",
       "      <th>neighbors</th>\n",
       "      <th>income</th>\n",
       "      <th>label</th>\n",
       "    </tr>\n",
       "  </thead>\n",
       "  <tbody>\n",
       "    <tr>\n",
       "      <th>0</th>\n",
       "      <td>2</td>\n",
       "      <td>0.250000</td>\n",
       "      <td>1</td>\n",
       "      <td>0</td>\n",
       "      <td>2</td>\n",
       "      <td>3.009500e+08</td>\n",
       "      <td>white</td>\n",
       "    </tr>\n",
       "    <tr>\n",
       "      <th>1</th>\n",
       "      <td>0</td>\n",
       "      <td>1.000000</td>\n",
       "      <td>1</td>\n",
       "      <td>0</td>\n",
       "      <td>1</td>\n",
       "      <td>4.820000e+07</td>\n",
       "      <td>white</td>\n",
       "    </tr>\n",
       "    <tr>\n",
       "      <th>2</th>\n",
       "      <td>52</td>\n",
       "      <td>0.000977</td>\n",
       "      <td>23</td>\n",
       "      <td>0</td>\n",
       "      <td>2</td>\n",
       "      <td>2.349582e+10</td>\n",
       "      <td>white</td>\n",
       "    </tr>\n",
       "    <tr>\n",
       "      <th>3</th>\n",
       "      <td>144</td>\n",
       "      <td>0.000001</td>\n",
       "      <td>1555</td>\n",
       "      <td>1152</td>\n",
       "      <td>2</td>\n",
       "      <td>9.581274e+07</td>\n",
       "      <td>white</td>\n",
       "    </tr>\n",
       "    <tr>\n",
       "      <th>4</th>\n",
       "      <td>6</td>\n",
       "      <td>0.250000</td>\n",
       "      <td>1</td>\n",
       "      <td>0</td>\n",
       "      <td>2</td>\n",
       "      <td>3.424024e+07</td>\n",
       "      <td>white</td>\n",
       "    </tr>\n",
       "    <tr>\n",
       "      <th>...</th>\n",
       "      <td>...</td>\n",
       "      <td>...</td>\n",
       "      <td>...</td>\n",
       "      <td>...</td>\n",
       "      <td>...</td>\n",
       "      <td>...</td>\n",
       "      <td>...</td>\n",
       "    </tr>\n",
       "    <tr>\n",
       "      <th>2333352</th>\n",
       "      <td>10</td>\n",
       "      <td>0.062500</td>\n",
       "      <td>1</td>\n",
       "      <td>0</td>\n",
       "      <td>1</td>\n",
       "      <td>5.140488e+07</td>\n",
       "      <td>white</td>\n",
       "    </tr>\n",
       "    <tr>\n",
       "      <th>2333353</th>\n",
       "      <td>144</td>\n",
       "      <td>0.003251</td>\n",
       "      <td>6066</td>\n",
       "      <td>0</td>\n",
       "      <td>2</td>\n",
       "      <td>1.000000e+08</td>\n",
       "      <td>white</td>\n",
       "    </tr>\n",
       "    <tr>\n",
       "      <th>2333354</th>\n",
       "      <td>20</td>\n",
       "      <td>0.002604</td>\n",
       "      <td>2</td>\n",
       "      <td>0</td>\n",
       "      <td>2</td>\n",
       "      <td>3.324864e+09</td>\n",
       "      <td>white</td>\n",
       "    </tr>\n",
       "    <tr>\n",
       "      <th>2333355</th>\n",
       "      <td>0</td>\n",
       "      <td>1.000000</td>\n",
       "      <td>1</td>\n",
       "      <td>0</td>\n",
       "      <td>2</td>\n",
       "      <td>1.045210e+09</td>\n",
       "      <td>white</td>\n",
       "    </tr>\n",
       "    <tr>\n",
       "      <th>2333356</th>\n",
       "      <td>66</td>\n",
       "      <td>0.000015</td>\n",
       "      <td>1</td>\n",
       "      <td>0</td>\n",
       "      <td>2</td>\n",
       "      <td>2.656000e+09</td>\n",
       "      <td>white</td>\n",
       "    </tr>\n",
       "  </tbody>\n",
       "</table>\n",
       "<p>2333357 rows × 7 columns</p>\n",
       "</div>"
      ],
      "text/plain": [
       "         length    weight  count  looped  neighbors        income  label\n",
       "0             2  0.250000      1       0          2  3.009500e+08  white\n",
       "1             0  1.000000      1       0          1  4.820000e+07  white\n",
       "2            52  0.000977     23       0          2  2.349582e+10  white\n",
       "3           144  0.000001   1555    1152          2  9.581274e+07  white\n",
       "4             6  0.250000      1       0          2  3.424024e+07  white\n",
       "...         ...       ...    ...     ...        ...           ...    ...\n",
       "2333352      10  0.062500      1       0          1  5.140488e+07  white\n",
       "2333353     144  0.003251   6066       0          2  1.000000e+08  white\n",
       "2333354      20  0.002604      2       0          2  3.324864e+09  white\n",
       "2333355       0  1.000000      1       0          2  1.045210e+09  white\n",
       "2333356      66  0.000015      1       0          2  2.656000e+09  white\n",
       "\n",
       "[2333357 rows x 7 columns]"
      ]
     },
     "execution_count": 406,
     "metadata": {},
     "output_type": "execute_result"
    }
   ],
   "source": [
    "to_other = [\"CryptoTorLocker2015\",\"SamSam\",\"GlobeImposter\",\"Globev3\",\"WannaCry\",\"Globe\",\"Razy\",\"KeRanger\",\"APT\",\"Flyper\",\n",
    "\"CryptConsole\",\"XTPLocker\",\"VenusLocker\",\"JigSaw\",\"XLockerv5.0\",\"EDA2\",\"Jigsaw\",\"Sam\",\"ComradeCircle\",\"XLocker\"]\n",
    "bitcoin = bitcoin.replace(to_other,\"others\")\n",
    "bitcoin"
   ]
  },
  {
   "cell_type": "code",
   "execution_count": 408,
   "metadata": {},
   "outputs": [],
   "source": [
    "# top three ransom labels that have the most ransom transactions: Locky, Cerber, CryptoWall"
   ]
  },
  {
   "cell_type": "code",
   "execution_count": 409,
   "metadata": {
    "scrolled": true
   },
   "outputs": [
    {
     "data": {
      "text/html": [
       "<div>\n",
       "<style scoped>\n",
       "    .dataframe tbody tr th:only-of-type {\n",
       "        vertical-align: middle;\n",
       "    }\n",
       "\n",
       "    .dataframe tbody tr th {\n",
       "        vertical-align: top;\n",
       "    }\n",
       "\n",
       "    .dataframe thead th {\n",
       "        text-align: right;\n",
       "    }\n",
       "</style>\n",
       "<table border=\"1\" class=\"dataframe\">\n",
       "  <thead>\n",
       "    <tr style=\"text-align: right;\">\n",
       "      <th></th>\n",
       "      <th>category</th>\n",
       "      <th>count</th>\n",
       "      <th>percent</th>\n",
       "    </tr>\n",
       "  </thead>\n",
       "  <tbody>\n",
       "    <tr>\n",
       "      <th>0</th>\n",
       "      <td>white</td>\n",
       "      <td>2300268</td>\n",
       "      <td>0.985819</td>\n",
       "    </tr>\n",
       "    <tr>\n",
       "      <th>1</th>\n",
       "      <td>ransom</td>\n",
       "      <td>33089</td>\n",
       "      <td>0.014181</td>\n",
       "    </tr>\n",
       "  </tbody>\n",
       "</table>\n",
       "</div>"
      ],
      "text/plain": [
       "  category    count   percent\n",
       "0    white  2300268  0.985819\n",
       "1   ransom    33089  0.014181"
      ]
     },
     "execution_count": 409,
     "metadata": {},
     "output_type": "execute_result"
    }
   ],
   "source": [
    "num_white = bitcoin.loc[(bitcoin['label'] == 'white')].shape[0]\n",
    "num_ransom = bitcoin.shape[0] - num_white\n",
    "basic = pd.DataFrame({'category':['white', 'ransom'], 'count':[num_white, num_ransom]})\n",
    "basic['percent'] = basic['count'] / bitcoin.shape[0]\n",
    "basic"
   ]
  },
  {
   "cell_type": "code",
   "execution_count": 410,
   "metadata": {},
   "outputs": [],
   "source": [
    "white_bt = bitcoin.loc[bitcoin['label'] == 'white']\n",
    "non_white_bt = bitcoin.loc[~(bitcoin['label'] == 'white')]"
   ]
  },
  {
   "cell_type": "code",
   "execution_count": 411,
   "metadata": {},
   "outputs": [],
   "source": [
    "from sklearn.preprocessing import StandardScaler"
   ]
  },
  {
   "cell_type": "code",
   "execution_count": 412,
   "metadata": {},
   "outputs": [
    {
     "data": {
      "text/plain": [
       "StandardScaler(copy=True, with_mean=True, with_std=True)"
      ]
     },
     "execution_count": 412,
     "metadata": {},
     "output_type": "execute_result"
    }
   ],
   "source": [
    "scaler = StandardScaler()\n",
    "scaler.fit(bitcoin.drop('label',axis=1))"
   ]
  },
  {
   "cell_type": "code",
   "execution_count": 413,
   "metadata": {},
   "outputs": [],
   "source": [
    "scaled_data = scaler.transform(bitcoin.drop('label',axis=1))"
   ]
  },
  {
   "cell_type": "code",
   "execution_count": 414,
   "metadata": {},
   "outputs": [],
   "source": [
    "from sklearn.decomposition import PCA"
   ]
  },
  {
   "cell_type": "code",
   "execution_count": 415,
   "metadata": {},
   "outputs": [],
   "source": [
    "pca = PCA(n_components=2)"
   ]
  },
  {
   "cell_type": "code",
   "execution_count": 416,
   "metadata": {},
   "outputs": [
    {
     "data": {
      "text/plain": [
       "PCA(copy=True, iterated_power='auto', n_components=2, random_state=None,\n",
       "    svd_solver='auto', tol=0.0, whiten=False)"
      ]
     },
     "execution_count": 416,
     "metadata": {},
     "output_type": "execute_result"
    }
   ],
   "source": [
    "pca.fit(scaled_data)"
   ]
  },
  {
   "cell_type": "code",
   "execution_count": 417,
   "metadata": {},
   "outputs": [],
   "source": [
    "x_pca = pca.transform(scaled_data)"
   ]
  },
  {
   "cell_type": "code",
   "execution_count": 418,
   "metadata": {},
   "outputs": [
    {
     "data": {
      "text/plain": [
       "(2333357, 6)"
      ]
     },
     "execution_count": 418,
     "metadata": {},
     "output_type": "execute_result"
    }
   ],
   "source": [
    "scaled_data.shape"
   ]
  },
  {
   "cell_type": "code",
   "execution_count": 419,
   "metadata": {},
   "outputs": [
    {
     "data": {
      "text/plain": [
       "(2333357, 2)"
      ]
     },
     "execution_count": 419,
     "metadata": {},
     "output_type": "execute_result"
    }
   ],
   "source": [
    "x_pca.shape"
   ]
  },
  {
   "cell_type": "code",
   "execution_count": 420,
   "metadata": {},
   "outputs": [
    {
     "data": {
      "text/plain": [
       "array([-0.81476972, -0.81405158, -0.33129286, ..., -0.65001648,\n",
       "       -0.80633249, -0.20877476])"
      ]
     },
     "execution_count": 420,
     "metadata": {},
     "output_type": "execute_result"
    }
   ],
   "source": [
    "x_pca[:,0]"
   ]
  },
  {
   "cell_type": "code",
   "execution_count": 421,
   "metadata": {},
   "outputs": [
    {
     "data": {
      "text/plain": [
       "array([ 0.10366484,  0.20971785, -0.02437564, ...,  0.02164406,\n",
       "        0.2471492 , -0.08366317])"
      ]
     },
     "execution_count": 421,
     "metadata": {},
     "output_type": "execute_result"
    }
   ],
   "source": [
    "x_pca[:,1]"
   ]
  },
  {
   "cell_type": "code",
   "execution_count": 422,
   "metadata": {},
   "outputs": [
    {
     "data": {
      "text/plain": [
       "array(['white', 'white', 'white', ..., 'white', 'white', 'white'],\n",
       "      dtype=object)"
      ]
     },
     "execution_count": 422,
     "metadata": {},
     "output_type": "execute_result"
    }
   ],
   "source": [
    "bitcoin['label'].values"
   ]
  },
  {
   "cell_type": "code",
   "execution_count": 423,
   "metadata": {
    "scrolled": true
   },
   "outputs": [
    {
     "data": {
      "text/html": [
       "<div>\n",
       "<style scoped>\n",
       "    .dataframe tbody tr th:only-of-type {\n",
       "        vertical-align: middle;\n",
       "    }\n",
       "\n",
       "    .dataframe tbody tr th {\n",
       "        vertical-align: top;\n",
       "    }\n",
       "\n",
       "    .dataframe thead th {\n",
       "        text-align: right;\n",
       "    }\n",
       "</style>\n",
       "<table border=\"1\" class=\"dataframe\">\n",
       "  <thead>\n",
       "    <tr style=\"text-align: right;\">\n",
       "      <th></th>\n",
       "      <th>length</th>\n",
       "      <th>weight</th>\n",
       "      <th>count</th>\n",
       "      <th>looped</th>\n",
       "      <th>neighbors</th>\n",
       "      <th>income</th>\n",
       "      <th>label</th>\n",
       "    </tr>\n",
       "  </thead>\n",
       "  <tbody>\n",
       "    <tr>\n",
       "      <th>0</th>\n",
       "      <td>2</td>\n",
       "      <td>0.250000</td>\n",
       "      <td>1</td>\n",
       "      <td>0</td>\n",
       "      <td>2</td>\n",
       "      <td>3.009500e+08</td>\n",
       "      <td>white</td>\n",
       "    </tr>\n",
       "    <tr>\n",
       "      <th>1</th>\n",
       "      <td>0</td>\n",
       "      <td>1.000000</td>\n",
       "      <td>1</td>\n",
       "      <td>0</td>\n",
       "      <td>1</td>\n",
       "      <td>4.820000e+07</td>\n",
       "      <td>white</td>\n",
       "    </tr>\n",
       "    <tr>\n",
       "      <th>2</th>\n",
       "      <td>52</td>\n",
       "      <td>0.000977</td>\n",
       "      <td>23</td>\n",
       "      <td>0</td>\n",
       "      <td>2</td>\n",
       "      <td>2.349582e+10</td>\n",
       "      <td>white</td>\n",
       "    </tr>\n",
       "    <tr>\n",
       "      <th>3</th>\n",
       "      <td>144</td>\n",
       "      <td>0.000001</td>\n",
       "      <td>1555</td>\n",
       "      <td>1152</td>\n",
       "      <td>2</td>\n",
       "      <td>9.581274e+07</td>\n",
       "      <td>white</td>\n",
       "    </tr>\n",
       "    <tr>\n",
       "      <th>4</th>\n",
       "      <td>6</td>\n",
       "      <td>0.250000</td>\n",
       "      <td>1</td>\n",
       "      <td>0</td>\n",
       "      <td>2</td>\n",
       "      <td>3.424024e+07</td>\n",
       "      <td>white</td>\n",
       "    </tr>\n",
       "    <tr>\n",
       "      <th>...</th>\n",
       "      <td>...</td>\n",
       "      <td>...</td>\n",
       "      <td>...</td>\n",
       "      <td>...</td>\n",
       "      <td>...</td>\n",
       "      <td>...</td>\n",
       "      <td>...</td>\n",
       "    </tr>\n",
       "    <tr>\n",
       "      <th>2333352</th>\n",
       "      <td>10</td>\n",
       "      <td>0.062500</td>\n",
       "      <td>1</td>\n",
       "      <td>0</td>\n",
       "      <td>1</td>\n",
       "      <td>5.140488e+07</td>\n",
       "      <td>white</td>\n",
       "    </tr>\n",
       "    <tr>\n",
       "      <th>2333353</th>\n",
       "      <td>144</td>\n",
       "      <td>0.003251</td>\n",
       "      <td>6066</td>\n",
       "      <td>0</td>\n",
       "      <td>2</td>\n",
       "      <td>1.000000e+08</td>\n",
       "      <td>white</td>\n",
       "    </tr>\n",
       "    <tr>\n",
       "      <th>2333354</th>\n",
       "      <td>20</td>\n",
       "      <td>0.002604</td>\n",
       "      <td>2</td>\n",
       "      <td>0</td>\n",
       "      <td>2</td>\n",
       "      <td>3.324864e+09</td>\n",
       "      <td>white</td>\n",
       "    </tr>\n",
       "    <tr>\n",
       "      <th>2333355</th>\n",
       "      <td>0</td>\n",
       "      <td>1.000000</td>\n",
       "      <td>1</td>\n",
       "      <td>0</td>\n",
       "      <td>2</td>\n",
       "      <td>1.045210e+09</td>\n",
       "      <td>white</td>\n",
       "    </tr>\n",
       "    <tr>\n",
       "      <th>2333356</th>\n",
       "      <td>66</td>\n",
       "      <td>0.000015</td>\n",
       "      <td>1</td>\n",
       "      <td>0</td>\n",
       "      <td>2</td>\n",
       "      <td>2.656000e+09</td>\n",
       "      <td>white</td>\n",
       "    </tr>\n",
       "  </tbody>\n",
       "</table>\n",
       "<p>2333357 rows × 7 columns</p>\n",
       "</div>"
      ],
      "text/plain": [
       "         length    weight  count  looped  neighbors        income  label\n",
       "0             2  0.250000      1       0          2  3.009500e+08  white\n",
       "1             0  1.000000      1       0          1  4.820000e+07  white\n",
       "2            52  0.000977     23       0          2  2.349582e+10  white\n",
       "3           144  0.000001   1555    1152          2  9.581274e+07  white\n",
       "4             6  0.250000      1       0          2  3.424024e+07  white\n",
       "...         ...       ...    ...     ...        ...           ...    ...\n",
       "2333352      10  0.062500      1       0          1  5.140488e+07  white\n",
       "2333353     144  0.003251   6066       0          2  1.000000e+08  white\n",
       "2333354      20  0.002604      2       0          2  3.324864e+09  white\n",
       "2333355       0  1.000000      1       0          2  1.045210e+09  white\n",
       "2333356      66  0.000015      1       0          2  2.656000e+09  white\n",
       "\n",
       "[2333357 rows x 7 columns]"
      ]
     },
     "execution_count": 423,
     "metadata": {},
     "output_type": "execute_result"
    }
   ],
   "source": [
    "bitcoin"
   ]
  },
  {
   "cell_type": "code",
   "execution_count": 425,
   "metadata": {},
   "outputs": [],
   "source": [
    "def replace_others(string):\n",
    "    if string == 'white':\n",
    "        return 1\n",
    "    else:\n",
    "        return 0"
   ]
  },
  {
   "cell_type": "code",
   "execution_count": 426,
   "metadata": {
    "scrolled": true
   },
   "outputs": [
    {
     "data": {
      "text/plain": [
       "1    2300268\n",
       "0      33089\n",
       "Name: label, dtype: int64"
      ]
     },
     "execution_count": 426,
     "metadata": {},
     "output_type": "execute_result"
    }
   ],
   "source": [
    "bitcoin['label'] = bitcoin['label'].apply(replace_others)\n",
    "bitcoin['label'].value_counts()"
   ]
  },
  {
   "cell_type": "code",
   "execution_count": 427,
   "metadata": {
    "scrolled": false
   },
   "outputs": [
    {
     "data": {
      "text/plain": [
       "Text(0, 0.5, 'Second Principal Component')"
      ]
     },
     "execution_count": 427,
     "metadata": {},
     "output_type": "execute_result"
    },
    {
     "data": {
      "image/png": "[encoded data removed]",
      "text/plain": [
       "<Figure size 576x432 with 1 Axes>"
      ]
     },
     "metadata": {
      "needs_background": "light"
     },
     "output_type": "display_data"
    }
   ],
   "source": [
    "plt.figure(figsize=(8,6))\n",
    "plt.scatter(x_pca[:,0],x_pca[:,1],c= bitcoin['label'],cmap='plasma')\n",
    "plt.xlabel('First principal component')\n",
    "plt.ylabel('Second Principal Component')"
   ]
  },
  {
   "cell_type": "code",
   "execution_count": 428,
   "metadata": {},
   "outputs": [
    {
     "data": {
      "text/plain": [
       "array([[ 0.56672201,  0.1339597 ,  0.6096856 ,  0.51779605,  0.14216085,\n",
       "         0.02901683],\n",
       "       [-0.1333643 ,  0.67172664, -0.13366912, -0.06917191,  0.68040533,\n",
       "         0.21305794]])"
      ]
     },
     "execution_count": 428,
     "metadata": {},
     "output_type": "execute_result"
    }
   ],
   "source": [
    "pca.components_"
   ]
  },
  {
   "cell_type": "code",
   "execution_count": 429,
   "metadata": {},
   "outputs": [
    {
     "data": {
      "text/plain": [
       "Index(['length', 'weight', 'count', 'looped', 'neighbors', 'income'], dtype='object')"
      ]
     },
     "execution_count": 429,
     "metadata": {},
     "output_type": "execute_result"
    }
   ],
   "source": [
    "bitcoin.columns[:-1]"
   ]
  },
  {
   "cell_type": "code",
   "execution_count": 430,
   "metadata": {
    "scrolled": true
   },
   "outputs": [],
   "source": [
    "bitcoin_comp = pd.DataFrame(pca.components_,columns=bitcoin.columns[:-1])"
   ]
  },
  {
   "cell_type": "code",
   "execution_count": 431,
   "metadata": {
    "scrolled": false
   },
   "outputs": [
    {
     "data": {
      "text/plain": [
       "<matplotlib.axes._subplots.AxesSubplot at 0x7fdb75deccd0>"
      ]
     },
     "execution_count": 431,
     "metadata": {},
     "output_type": "execute_result"
    },
    {
     "data": {
      "image/png": "[encoded data removed]",
      "text/plain": [
       "<Figure size 864x432 with 2 Axes>"
      ]
     },
     "metadata": {
      "needs_background": "light"
     },
     "output_type": "display_data"
    }
   ],
   "source": [
    "plt.figure(figsize=(12,6))\n",
    "sns.heatmap(bitcoin_comp,cmap='Blues',)"
   ]
  },
  {
   "cell_type": "code",
   "execution_count": 432,
   "metadata": {},
   "outputs": [],
   "source": [
    "bitcoin['PC_1'] = x_pca[:,0]\n",
    "bitcoin['PC_2'] = x_pca[:,1]"
   ]
  },
  {
   "cell_type": "code",
   "execution_count": 348,
   "metadata": {
    "scrolled": true
   },
   "outputs": [
    {
     "data": {
      "text/html": [
       "<div>\n",
       "<style scoped>\n",
       "    .dataframe tbody tr th:only-of-type {\n",
       "        vertical-align: middle;\n",
       "    }\n",
       "\n",
       "    .dataframe tbody tr th {\n",
       "        vertical-align: top;\n",
       "    }\n",
       "\n",
       "    .dataframe thead th {\n",
       "        text-align: right;\n",
       "    }\n",
       "</style>\n",
       "<table border=\"1\" class=\"dataframe\">\n",
       "  <thead>\n",
       "    <tr style=\"text-align: right;\">\n",
       "      <th></th>\n",
       "      <th>length</th>\n",
       "      <th>weight</th>\n",
       "      <th>count</th>\n",
       "      <th>looped</th>\n",
       "      <th>neighbors</th>\n",
       "      <th>income</th>\n",
       "      <th>label</th>\n",
       "      <th>PC_1</th>\n",
       "      <th>PC_2</th>\n",
       "    </tr>\n",
       "  </thead>\n",
       "  <tbody>\n",
       "    <tr>\n",
       "      <th>0</th>\n",
       "      <td>2</td>\n",
       "      <td>0.250000</td>\n",
       "      <td>1</td>\n",
       "      <td>0</td>\n",
       "      <td>2</td>\n",
       "      <td>3.009500e+08</td>\n",
       "      <td>1</td>\n",
       "      <td>-0.814770</td>\n",
       "      <td>0.103665</td>\n",
       "    </tr>\n",
       "    <tr>\n",
       "      <th>1</th>\n",
       "      <td>0</td>\n",
       "      <td>1.000000</td>\n",
       "      <td>1</td>\n",
       "      <td>0</td>\n",
       "      <td>1</td>\n",
       "      <td>4.820000e+07</td>\n",
       "      <td>1</td>\n",
       "      <td>-0.814052</td>\n",
       "      <td>0.209718</td>\n",
       "    </tr>\n",
       "    <tr>\n",
       "      <th>2</th>\n",
       "      <td>52</td>\n",
       "      <td>0.000977</td>\n",
       "      <td>23</td>\n",
       "      <td>0</td>\n",
       "      <td>2</td>\n",
       "      <td>2.349582e+10</td>\n",
       "      <td>1</td>\n",
       "      <td>-0.331293</td>\n",
       "      <td>-0.024376</td>\n",
       "    </tr>\n",
       "    <tr>\n",
       "      <th>3</th>\n",
       "      <td>144</td>\n",
       "      <td>0.000001</td>\n",
       "      <td>1555</td>\n",
       "      <td>1152</td>\n",
       "      <td>2</td>\n",
       "      <td>9.581274e+07</td>\n",
       "      <td>1</td>\n",
       "      <td>1.717435</td>\n",
       "      <td>-0.468882</td>\n",
       "    </tr>\n",
       "    <tr>\n",
       "      <th>4</th>\n",
       "      <td>6</td>\n",
       "      <td>0.250000</td>\n",
       "      <td>1</td>\n",
       "      <td>0</td>\n",
       "      <td>2</td>\n",
       "      <td>3.424024e+07</td>\n",
       "      <td>1</td>\n",
       "      <td>-0.776401</td>\n",
       "      <td>0.094250</td>\n",
       "    </tr>\n",
       "    <tr>\n",
       "      <th>...</th>\n",
       "      <td>...</td>\n",
       "      <td>...</td>\n",
       "      <td>...</td>\n",
       "      <td>...</td>\n",
       "      <td>...</td>\n",
       "      <td>...</td>\n",
       "      <td>...</td>\n",
       "      <td>...</td>\n",
       "      <td>...</td>\n",
       "    </tr>\n",
       "    <tr>\n",
       "      <th>2333352</th>\n",
       "      <td>10</td>\n",
       "      <td>0.062500</td>\n",
       "      <td>1</td>\n",
       "      <td>0</td>\n",
       "      <td>1</td>\n",
       "      <td>5.140488e+07</td>\n",
       "      <td>1</td>\n",
       "      <td>-0.752383</td>\n",
       "      <td>0.014719</td>\n",
       "    </tr>\n",
       "    <tr>\n",
       "      <th>2333353</th>\n",
       "      <td>144</td>\n",
       "      <td>0.003251</td>\n",
       "      <td>6066</td>\n",
       "      <td>0</td>\n",
       "      <td>2</td>\n",
       "      <td>1.000000e+08</td>\n",
       "      <td>1</td>\n",
       "      <td>2.728232</td>\n",
       "      <td>-0.742698</td>\n",
       "    </tr>\n",
       "    <tr>\n",
       "      <th>2333354</th>\n",
       "      <td>20</td>\n",
       "      <td>0.002604</td>\n",
       "      <td>2</td>\n",
       "      <td>0</td>\n",
       "      <td>2</td>\n",
       "      <td>3.324864e+09</td>\n",
       "      <td>1</td>\n",
       "      <td>-0.650016</td>\n",
       "      <td>0.021644</td>\n",
       "    </tr>\n",
       "    <tr>\n",
       "      <th>2333355</th>\n",
       "      <td>0</td>\n",
       "      <td>1.000000</td>\n",
       "      <td>1</td>\n",
       "      <td>0</td>\n",
       "      <td>2</td>\n",
       "      <td>1.045210e+09</td>\n",
       "      <td>1</td>\n",
       "      <td>-0.806332</td>\n",
       "      <td>0.247149</td>\n",
       "    </tr>\n",
       "    <tr>\n",
       "      <th>2333356</th>\n",
       "      <td>66</td>\n",
       "      <td>0.000015</td>\n",
       "      <td>1</td>\n",
       "      <td>0</td>\n",
       "      <td>2</td>\n",
       "      <td>2.656000e+09</td>\n",
       "      <td>1</td>\n",
       "      <td>-0.208775</td>\n",
       "      <td>-0.083663</td>\n",
       "    </tr>\n",
       "  </tbody>\n",
       "</table>\n",
       "<p>2333357 rows × 9 columns</p>\n",
       "</div>"
      ],
      "text/plain": [
       "         length    weight  count  looped  neighbors        income  label  \\\n",
       "0             2  0.250000      1       0          2  3.009500e+08      1   \n",
       "1             0  1.000000      1       0          1  4.820000e+07      1   \n",
       "2            52  0.000977     23       0          2  2.349582e+10      1   \n",
       "3           144  0.000001   1555    1152          2  9.581274e+07      1   \n",
       "4             6  0.250000      1       0          2  3.424024e+07      1   \n",
       "...         ...       ...    ...     ...        ...           ...    ...   \n",
       "2333352      10  0.062500      1       0          1  5.140488e+07      1   \n",
       "2333353     144  0.003251   6066       0          2  1.000000e+08      1   \n",
       "2333354      20  0.002604      2       0          2  3.324864e+09      1   \n",
       "2333355       0  1.000000      1       0          2  1.045210e+09      1   \n",
       "2333356      66  0.000015      1       0          2  2.656000e+09      1   \n",
       "\n",
       "             PC_1      PC_2  \n",
       "0       -0.814770  0.103665  \n",
       "1       -0.814052  0.209718  \n",
       "2       -0.331293 -0.024376  \n",
       "3        1.717435 -0.468882  \n",
       "4       -0.776401  0.094250  \n",
       "...           ...       ...  \n",
       "2333352 -0.752383  0.014719  \n",
       "2333353  2.728232 -0.742698  \n",
       "2333354 -0.650016  0.021644  \n",
       "2333355 -0.806332  0.247149  \n",
       "2333356 -0.208775 -0.083663  \n",
       "\n",
       "[2333357 rows x 9 columns]"
      ]
     },
     "execution_count": 348,
     "metadata": {},
     "output_type": "execute_result"
    }
   ],
   "source": [
    "bitcoin"
   ]
  },
  {
   "cell_type": "code",
   "execution_count": 349,
   "metadata": {},
   "outputs": [],
   "source": [
    "from sklearn.model_selection import train_test_split"
   ]
  },
  {
   "cell_type": "code",
   "execution_count": 360,
   "metadata": {},
   "outputs": [
    {
     "data": {
      "text/plain": [
       "Index(['length', 'weight', 'count', 'looped', 'neighbors', 'income', 'label',\n",
       "       'PC_1', 'PC_2'],\n",
       "      dtype='object')"
      ]
     },
     "execution_count": 360,
     "metadata": {},
     "output_type": "execute_result"
    }
   ],
   "source": [
    "bitcoin.columns"
   ]
  },
  {
   "cell_type": "code",
   "execution_count": 361,
   "metadata": {},
   "outputs": [],
   "source": [
    "X_train, X_test, y_train, y_test = train_test_split(bitcoin[['length', 'weight', 'count', 'looped', 'neighbors', 'income']], \n",
    "                                                    bitcoin['label'], test_size=0.30, \n",
    "                                                    random_state=101)"
   ]
  },
  {
   "cell_type": "code",
   "execution_count": 362,
   "metadata": {},
   "outputs": [],
   "source": [
    "from sklearn.linear_model import LogisticRegression"
   ]
  },
  {
   "cell_type": "code",
   "execution_count": 363,
   "metadata": {},
   "outputs": [
    {
     "data": {
      "text/plain": [
       "LogisticRegression(C=1.0, class_weight=None, dual=False, fit_intercept=True,\n",
       "                   intercept_scaling=1, l1_ratio=None, max_iter=100,\n",
       "                   multi_class='auto', n_jobs=None, penalty='l2',\n",
       "                   random_state=None, solver='lbfgs', tol=0.0001, verbose=0,\n",
       "                   warm_start=False)"
      ]
     },
     "execution_count": 363,
     "metadata": {},
     "output_type": "execute_result"
    }
   ],
   "source": [
    "logmodel = LogisticRegression()\n",
    "logmodel.fit(X_train,y_train)"
   ]
  },
  {
   "cell_type": "code",
   "execution_count": 364,
   "metadata": {},
   "outputs": [],
   "source": [
    "predictions = logmodel.predict(X_test)"
   ]
  },
  {
   "cell_type": "code",
   "execution_count": 365,
   "metadata": {},
   "outputs": [],
   "source": [
    "from sklearn.metrics import classification_report"
   ]
  },
  {
   "cell_type": "code",
   "execution_count": 366,
   "metadata": {},
   "outputs": [
    {
     "name": "stderr",
     "output_type": "stream",
     "text": [
      "/Users/yunyihuang/opt/anaconda3/lib/python3.7/site-packages/sklearn/metrics/_classification.py:1272: UndefinedMetricWarning: Precision and F-score are ill-defined and being set to 0.0 in labels with no predicted samples. Use `zero_division` parameter to control this behavior.\n",
      "  _warn_prf(average, modifier, msg_start, len(result))\n"
     ]
    },
    {
     "name": "stdout",
     "output_type": "stream",
     "text": [
      "              precision    recall  f1-score   support\n",
      "\n",
      "           0       0.00      0.00      0.00      9977\n",
      "           1       0.99      1.00      0.99    690031\n",
      "\n",
      "    accuracy                           0.99    700008\n",
      "   macro avg       0.49      0.50      0.50    700008\n",
      "weighted avg       0.97      0.99      0.98    700008\n",
      "\n"
     ]
    }
   ],
   "source": [
    "print(classification_report(y_test,predictions))"
   ]
  }
 ],
 "metadata": {
  "kernelspec": {
   "display_name": "Python 3",
   "language": "python",
   "name": "python3"
  },
  "language_info": {
   "codemirror_mode": {
    "name": "ipython",
    "version": 3
   },
   "file_extension": ".py",
   "mimetype": "text/x-python",
   "name": "python",
   "nbconvert_exporter": "python",
   "pygments_lexer": "ipython3",
   "version": "3.7.6"
  }
 },
 "nbformat": 4,
 "nbformat_minor": 4
}

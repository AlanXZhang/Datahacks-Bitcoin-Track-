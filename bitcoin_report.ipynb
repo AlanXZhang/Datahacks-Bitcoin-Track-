{
 "cells": [
  {
   "cell_type": "markdown",
   "metadata": {},
   "source": [
    "# Introduction"
   ]
  },
  {
   "cell_type": "markdown",
   "metadata": {},
   "source": [
    "In this report, we are going to analyze the bitcoin dataset."
   ]
  },
  {
   "cell_type": "markdown",
   "metadata": {},
   "source": [
    "## Import libraries"
   ]
  },
  {
   "cell_type": "code",
   "execution_count": 40,
   "metadata": {},
   "outputs": [],
   "source": [
    "import pandas as pd\n",
    "import numpy as np\n",
    "import matplotlib.pyplot as plt\n",
    "import seaborn as sns\n",
    "from sklearn.datasets import load_iris\n",
    "from sklearn import preprocessing\n",
    "import numpy as np, numpy.random\n",
    "%matplotlib inline"
   ]
  },
  {
   "cell_type": "markdown",
   "metadata": {},
   "source": [
    "## Import Dataset"
   ]
  },
  {
   "cell_type": "code",
   "execution_count": 41,
   "metadata": {},
   "outputs": [],
   "source": [
    "bitcoin = pd.read_csv('data/bitcoin_train.csv')"
   ]
  },
  {
   "cell_type": "code",
   "execution_count": 42,
   "metadata": {},
   "outputs": [
    {
     "data": {
      "text/html": [
       "<div>\n",
       "<style scoped>\n",
       "    .dataframe tbody tr th:only-of-type {\n",
       "        vertical-align: middle;\n",
       "    }\n",
       "\n",
       "    .dataframe tbody tr th {\n",
       "        vertical-align: top;\n",
       "    }\n",
       "\n",
       "    .dataframe thead th {\n",
       "        text-align: right;\n",
       "    }\n",
       "</style>\n",
       "<table border=\"1\" class=\"dataframe\">\n",
       "  <thead>\n",
       "    <tr style=\"text-align: right;\">\n",
       "      <th></th>\n",
       "      <th>Unnamed: 0</th>\n",
       "      <th>address</th>\n",
       "      <th>year</th>\n",
       "      <th>day</th>\n",
       "      <th>length</th>\n",
       "      <th>weight</th>\n",
       "      <th>count</th>\n",
       "      <th>looped</th>\n",
       "      <th>neighbors</th>\n",
       "      <th>income</th>\n",
       "      <th>label</th>\n",
       "    </tr>\n",
       "  </thead>\n",
       "  <tbody>\n",
       "    <tr>\n",
       "      <th>0</th>\n",
       "      <td>0</td>\n",
       "      <td>1BpvJgUs7UprQu9z8fLsP7pFvFcCscHRCV</td>\n",
       "      <td>2011</td>\n",
       "      <td>287</td>\n",
       "      <td>2</td>\n",
       "      <td>0.250000</td>\n",
       "      <td>1</td>\n",
       "      <td>0</td>\n",
       "      <td>2</td>\n",
       "      <td>3.009500e+08</td>\n",
       "      <td>white</td>\n",
       "    </tr>\n",
       "    <tr>\n",
       "      <th>1</th>\n",
       "      <td>1</td>\n",
       "      <td>1EnSeTPjMxZm9X9iQDYmMUDoLQQ3ouDN6F</td>\n",
       "      <td>2015</td>\n",
       "      <td>77</td>\n",
       "      <td>0</td>\n",
       "      <td>1.000000</td>\n",
       "      <td>1</td>\n",
       "      <td>0</td>\n",
       "      <td>1</td>\n",
       "      <td>4.820000e+07</td>\n",
       "      <td>white</td>\n",
       "    </tr>\n",
       "    <tr>\n",
       "      <th>2</th>\n",
       "      <td>2</td>\n",
       "      <td>1mwkhYHeoqGBkVW84yFpYCSqRDt5TWSBQ</td>\n",
       "      <td>2011</td>\n",
       "      <td>164</td>\n",
       "      <td>52</td>\n",
       "      <td>0.000977</td>\n",
       "      <td>23</td>\n",
       "      <td>0</td>\n",
       "      <td>2</td>\n",
       "      <td>2.349582e+10</td>\n",
       "      <td>white</td>\n",
       "    </tr>\n",
       "    <tr>\n",
       "      <th>3</th>\n",
       "      <td>3</td>\n",
       "      <td>19XUCsxgpHZGXKLgVMpdoyZqcFdeM3pGeE</td>\n",
       "      <td>2014</td>\n",
       "      <td>86</td>\n",
       "      <td>144</td>\n",
       "      <td>0.000001</td>\n",
       "      <td>1555</td>\n",
       "      <td>1152</td>\n",
       "      <td>2</td>\n",
       "      <td>9.581274e+07</td>\n",
       "      <td>white</td>\n",
       "    </tr>\n",
       "    <tr>\n",
       "      <th>4</th>\n",
       "      <td>4</td>\n",
       "      <td>14Ef6MGSYLEbigo55CpPBGEGSGYwwB7xhY</td>\n",
       "      <td>2015</td>\n",
       "      <td>261</td>\n",
       "      <td>6</td>\n",
       "      <td>0.250000</td>\n",
       "      <td>1</td>\n",
       "      <td>0</td>\n",
       "      <td>2</td>\n",
       "      <td>3.424024e+07</td>\n",
       "      <td>white</td>\n",
       "    </tr>\n",
       "  </tbody>\n",
       "</table>\n",
       "</div>"
      ],
      "text/plain": [
       "   Unnamed: 0                             address  year  day  length  \\\n",
       "0           0  1BpvJgUs7UprQu9z8fLsP7pFvFcCscHRCV  2011  287       2   \n",
       "1           1  1EnSeTPjMxZm9X9iQDYmMUDoLQQ3ouDN6F  2015   77       0   \n",
       "2           2   1mwkhYHeoqGBkVW84yFpYCSqRDt5TWSBQ  2011  164      52   \n",
       "3           3  19XUCsxgpHZGXKLgVMpdoyZqcFdeM3pGeE  2014   86     144   \n",
       "4           4  14Ef6MGSYLEbigo55CpPBGEGSGYwwB7xhY  2015  261       6   \n",
       "\n",
       "     weight  count  looped  neighbors        income  label  \n",
       "0  0.250000      1       0          2  3.009500e+08  white  \n",
       "1  1.000000      1       0          1  4.820000e+07  white  \n",
       "2  0.000977     23       0          2  2.349582e+10  white  \n",
       "3  0.000001   1555    1152          2  9.581274e+07  white  \n",
       "4  0.250000      1       0          2  3.424024e+07  white  "
      ]
     },
     "execution_count": 42,
     "metadata": {},
     "output_type": "execute_result"
    }
   ],
   "source": [
    "bitcoin.head()"
   ]
  },
  {
   "cell_type": "code",
   "execution_count": 43,
   "metadata": {},
   "outputs": [
    {
     "data": {
      "text/plain": [
       "(2333357, 11)"
      ]
     },
     "execution_count": 43,
     "metadata": {},
     "output_type": "execute_result"
    }
   ],
   "source": [
    "bitcoin.shape"
   ]
  },
  {
   "cell_type": "code",
   "execution_count": 44,
   "metadata": {},
   "outputs": [
    {
     "name": "stdout",
     "output_type": "stream",
     "text": [
      "<class 'pandas.core.frame.DataFrame'>\n",
      "RangeIndex: 2333357 entries, 0 to 2333356\n",
      "Data columns (total 11 columns):\n",
      " #   Column      Dtype  \n",
      "---  ------      -----  \n",
      " 0   Unnamed: 0  int64  \n",
      " 1   address     object \n",
      " 2   year        int64  \n",
      " 3   day         int64  \n",
      " 4   length      int64  \n",
      " 5   weight      float64\n",
      " 6   count       int64  \n",
      " 7   looped      int64  \n",
      " 8   neighbors   int64  \n",
      " 9   income      float64\n",
      " 10  label       object \n",
      "dtypes: float64(2), int64(7), object(2)\n",
      "memory usage: 195.8+ MB\n"
     ]
    }
   ],
   "source": [
    "bitcoin.info()"
   ]
  },
  {
   "cell_type": "code",
   "execution_count": 45,
   "metadata": {},
   "outputs": [
    {
     "data": {
      "text/html": [
       "<div>\n",
       "<style scoped>\n",
       "    .dataframe tbody tr th:only-of-type {\n",
       "        vertical-align: middle;\n",
       "    }\n",
       "\n",
       "    .dataframe tbody tr th {\n",
       "        vertical-align: top;\n",
       "    }\n",
       "\n",
       "    .dataframe thead th {\n",
       "        text-align: right;\n",
       "    }\n",
       "</style>\n",
       "<table border=\"1\" class=\"dataframe\">\n",
       "  <thead>\n",
       "    <tr style=\"text-align: right;\">\n",
       "      <th></th>\n",
       "      <th>Unnamed: 0</th>\n",
       "      <th>year</th>\n",
       "      <th>day</th>\n",
       "      <th>length</th>\n",
       "      <th>weight</th>\n",
       "      <th>count</th>\n",
       "      <th>looped</th>\n",
       "      <th>neighbors</th>\n",
       "      <th>income</th>\n",
       "    </tr>\n",
       "  </thead>\n",
       "  <tbody>\n",
       "    <tr>\n",
       "      <th>count</th>\n",
       "      <td>2.333357e+06</td>\n",
       "      <td>2.333357e+06</td>\n",
       "      <td>2.333357e+06</td>\n",
       "      <td>2.333357e+06</td>\n",
       "      <td>2.333357e+06</td>\n",
       "      <td>2.333357e+06</td>\n",
       "      <td>2.333357e+06</td>\n",
       "      <td>2.333357e+06</td>\n",
       "      <td>2.333357e+06</td>\n",
       "    </tr>\n",
       "    <tr>\n",
       "      <th>mean</th>\n",
       "      <td>1.166678e+06</td>\n",
       "      <td>2.014476e+03</td>\n",
       "      <td>1.814778e+02</td>\n",
       "      <td>4.504554e+01</td>\n",
       "      <td>5.456381e-01</td>\n",
       "      <td>7.223780e+02</td>\n",
       "      <td>2.387287e+02</td>\n",
       "      <td>2.213161e+00</td>\n",
       "      <td>4.383004e+09</td>\n",
       "    </tr>\n",
       "    <tr>\n",
       "      <th>std</th>\n",
       "      <td>6.735823e+05</td>\n",
       "      <td>2.257312e+00</td>\n",
       "      <td>1.039893e+02</td>\n",
       "      <td>5.900348e+01</td>\n",
       "      <td>3.652788e+00</td>\n",
       "      <td>1.689861e+03</td>\n",
       "      <td>9.670131e+02</td>\n",
       "      <td>1.888230e+01</td>\n",
       "      <td>1.520211e+11</td>\n",
       "    </tr>\n",
       "    <tr>\n",
       "      <th>min</th>\n",
       "      <td>0.000000e+00</td>\n",
       "      <td>2.011000e+03</td>\n",
       "      <td>1.000000e+00</td>\n",
       "      <td>0.000000e+00</td>\n",
       "      <td>1.420108e-90</td>\n",
       "      <td>1.000000e+00</td>\n",
       "      <td>0.000000e+00</td>\n",
       "      <td>1.000000e+00</td>\n",
       "      <td>3.000000e+07</td>\n",
       "    </tr>\n",
       "    <tr>\n",
       "      <th>25%</th>\n",
       "      <td>5.833390e+05</td>\n",
       "      <td>2.013000e+03</td>\n",
       "      <td>9.200000e+01</td>\n",
       "      <td>2.000000e+00</td>\n",
       "      <td>2.152083e-02</td>\n",
       "      <td>1.000000e+00</td>\n",
       "      <td>0.000000e+00</td>\n",
       "      <td>1.000000e+00</td>\n",
       "      <td>7.434000e+07</td>\n",
       "    </tr>\n",
       "    <tr>\n",
       "      <th>50%</th>\n",
       "      <td>1.166678e+06</td>\n",
       "      <td>2.014000e+03</td>\n",
       "      <td>1.810000e+02</td>\n",
       "      <td>8.000000e+00</td>\n",
       "      <td>2.500000e-01</td>\n",
       "      <td>1.000000e+00</td>\n",
       "      <td>0.000000e+00</td>\n",
       "      <td>2.000000e+00</td>\n",
       "      <td>2.000000e+08</td>\n",
       "    </tr>\n",
       "    <tr>\n",
       "      <th>75%</th>\n",
       "      <td>1.750017e+06</td>\n",
       "      <td>2.016000e+03</td>\n",
       "      <td>2.710000e+02</td>\n",
       "      <td>1.080000e+02</td>\n",
       "      <td>8.794643e-01</td>\n",
       "      <td>5.700000e+01</td>\n",
       "      <td>0.000000e+00</td>\n",
       "      <td>2.000000e+00</td>\n",
       "      <td>9.940669e+08</td>\n",
       "    </tr>\n",
       "    <tr>\n",
       "      <th>max</th>\n",
       "      <td>2.333356e+06</td>\n",
       "      <td>2.018000e+03</td>\n",
       "      <td>3.650000e+02</td>\n",
       "      <td>1.440000e+02</td>\n",
       "      <td>1.943749e+03</td>\n",
       "      <td>1.449700e+04</td>\n",
       "      <td>1.449600e+04</td>\n",
       "      <td>1.292000e+04</td>\n",
       "      <td>4.982447e+13</td>\n",
       "    </tr>\n",
       "  </tbody>\n",
       "</table>\n",
       "</div>"
      ],
      "text/plain": [
       "         Unnamed: 0          year           day        length        weight  \\\n",
       "count  2.333357e+06  2.333357e+06  2.333357e+06  2.333357e+06  2.333357e+06   \n",
       "mean   1.166678e+06  2.014476e+03  1.814778e+02  4.504554e+01  5.456381e-01   \n",
       "std    6.735823e+05  2.257312e+00  1.039893e+02  5.900348e+01  3.652788e+00   \n",
       "min    0.000000e+00  2.011000e+03  1.000000e+00  0.000000e+00  1.420108e-90   \n",
       "25%    5.833390e+05  2.013000e+03  9.200000e+01  2.000000e+00  2.152083e-02   \n",
       "50%    1.166678e+06  2.014000e+03  1.810000e+02  8.000000e+00  2.500000e-01   \n",
       "75%    1.750017e+06  2.016000e+03  2.710000e+02  1.080000e+02  8.794643e-01   \n",
       "max    2.333356e+06  2.018000e+03  3.650000e+02  1.440000e+02  1.943749e+03   \n",
       "\n",
       "              count        looped     neighbors        income  \n",
       "count  2.333357e+06  2.333357e+06  2.333357e+06  2.333357e+06  \n",
       "mean   7.223780e+02  2.387287e+02  2.213161e+00  4.383004e+09  \n",
       "std    1.689861e+03  9.670131e+02  1.888230e+01  1.520211e+11  \n",
       "min    1.000000e+00  0.000000e+00  1.000000e+00  3.000000e+07  \n",
       "25%    1.000000e+00  0.000000e+00  1.000000e+00  7.434000e+07  \n",
       "50%    1.000000e+00  0.000000e+00  2.000000e+00  2.000000e+08  \n",
       "75%    5.700000e+01  0.000000e+00  2.000000e+00  9.940669e+08  \n",
       "max    1.449700e+04  1.449600e+04  1.292000e+04  4.982447e+13  "
      ]
     },
     "execution_count": 45,
     "metadata": {},
     "output_type": "execute_result"
    }
   ],
   "source": [
    "bitcoin.describe()"
   ]
  },
  {
   "cell_type": "markdown",
   "metadata": {},
   "source": [
    "# Data Cleaning\n"
   ]
  },
  {
   "cell_type": "code",
   "execution_count": 46,
   "metadata": {},
   "outputs": [
    {
     "data": {
      "text/plain": [
       "Index(['Unnamed: 0', 'address', 'year', 'day', 'length', 'weight', 'count',\n",
       "       'looped', 'neighbors', 'income', 'label'],\n",
       "      dtype='object')"
      ]
     },
     "execution_count": 46,
     "metadata": {},
     "output_type": "execute_result"
    }
   ],
   "source": [
    "bitcoin.columns"
   ]
  },
  {
   "cell_type": "code",
   "execution_count": 47,
   "metadata": {
    "scrolled": true
   },
   "outputs": [
    {
     "data": {
      "text/html": [
       "<div>\n",
       "<style scoped>\n",
       "    .dataframe tbody tr th:only-of-type {\n",
       "        vertical-align: middle;\n",
       "    }\n",
       "\n",
       "    .dataframe tbody tr th {\n",
       "        vertical-align: top;\n",
       "    }\n",
       "\n",
       "    .dataframe thead th {\n",
       "        text-align: right;\n",
       "    }\n",
       "</style>\n",
       "<table border=\"1\" class=\"dataframe\">\n",
       "  <thead>\n",
       "    <tr style=\"text-align: right;\">\n",
       "      <th></th>\n",
       "      <th>length</th>\n",
       "      <th>weight</th>\n",
       "      <th>count</th>\n",
       "      <th>looped</th>\n",
       "      <th>neighbors</th>\n",
       "      <th>income</th>\n",
       "      <th>label</th>\n",
       "    </tr>\n",
       "  </thead>\n",
       "  <tbody>\n",
       "    <tr>\n",
       "      <th>0</th>\n",
       "      <td>2</td>\n",
       "      <td>0.250000</td>\n",
       "      <td>1</td>\n",
       "      <td>0</td>\n",
       "      <td>2</td>\n",
       "      <td>3.009500e+08</td>\n",
       "      <td>white</td>\n",
       "    </tr>\n",
       "    <tr>\n",
       "      <th>1</th>\n",
       "      <td>0</td>\n",
       "      <td>1.000000</td>\n",
       "      <td>1</td>\n",
       "      <td>0</td>\n",
       "      <td>1</td>\n",
       "      <td>4.820000e+07</td>\n",
       "      <td>white</td>\n",
       "    </tr>\n",
       "    <tr>\n",
       "      <th>2</th>\n",
       "      <td>52</td>\n",
       "      <td>0.000977</td>\n",
       "      <td>23</td>\n",
       "      <td>0</td>\n",
       "      <td>2</td>\n",
       "      <td>2.349582e+10</td>\n",
       "      <td>white</td>\n",
       "    </tr>\n",
       "    <tr>\n",
       "      <th>3</th>\n",
       "      <td>144</td>\n",
       "      <td>0.000001</td>\n",
       "      <td>1555</td>\n",
       "      <td>1152</td>\n",
       "      <td>2</td>\n",
       "      <td>9.581274e+07</td>\n",
       "      <td>white</td>\n",
       "    </tr>\n",
       "    <tr>\n",
       "      <th>4</th>\n",
       "      <td>6</td>\n",
       "      <td>0.250000</td>\n",
       "      <td>1</td>\n",
       "      <td>0</td>\n",
       "      <td>2</td>\n",
       "      <td>3.424024e+07</td>\n",
       "      <td>white</td>\n",
       "    </tr>\n",
       "  </tbody>\n",
       "</table>\n",
       "</div>"
      ],
      "text/plain": [
       "   length    weight  count  looped  neighbors        income  label\n",
       "0       2  0.250000      1       0          2  3.009500e+08  white\n",
       "1       0  1.000000      1       0          1  4.820000e+07  white\n",
       "2      52  0.000977     23       0          2  2.349582e+10  white\n",
       "3     144  0.000001   1555    1152          2  9.581274e+07  white\n",
       "4       6  0.250000      1       0          2  3.424024e+07  white"
      ]
     },
     "execution_count": 47,
     "metadata": {},
     "output_type": "execute_result"
    }
   ],
   "source": [
    "bitcoin = bitcoin.drop([\"day\", \"year\", 'Unnamed: 0','address'],axis=1)\n",
    "bitcoin.head()"
   ]
  },
  {
   "cell_type": "code",
<<<<<<< HEAD
   "execution_count": 9,
   "metadata": {},
   "outputs": [
    {
     "name": "stdout",
     "output_type": "stream",
     "text": [
      "[[0.09955762 0.01084182 0.00185547 0.14860135 0.08919772 0.05737537\n",
      "  0.12023867 0.04782489 0.03853993 0.0025478  0.02884268 0.35457669]]\n"
     ]
    }
   ],
   "source": [
    "print(np.random.dirichlet(np.ones(12),size=1))"
   ]
  },
  {
   "cell_type": "code",
   "execution_count": 10,
=======
   "execution_count": 48,
>>>>>>> 8c643bf748e61bfeb3c25caf987c20ae5bbb5a47
   "metadata": {
    "scrolled": true
   },
   "outputs": [
    {
     "data": {
      "text/plain": [
       "length       0\n",
       "weight       0\n",
       "count        0\n",
       "looped       0\n",
       "neighbors    0\n",
       "income       0\n",
       "label        0\n",
       "dtype: int64"
      ]
     },
<<<<<<< HEAD
     "execution_count": 10,
=======
     "execution_count": 48,
>>>>>>> 8c643bf748e61bfeb3c25caf987c20ae5bbb5a47
     "metadata": {},
     "output_type": "execute_result"
    }
   ],
   "source": [
    "bitcoin.isnull().sum()"
   ]
  },
  {
   "cell_type": "code",
<<<<<<< HEAD
   "execution_count": 11,
=======
   "execution_count": 49,
>>>>>>> 8c643bf748e61bfeb3c25caf987c20ae5bbb5a47
   "metadata": {},
   "outputs": [
    {
     "data": {
      "text/plain": [
       "array(['white', 'CryptoWall', 'Cerber', 'CryptoLocker', 'Locky',\n",
       "       'DMALockerv3', 'Globe', 'CryptXXX', 'DMALocker', 'WannaCry',\n",
       "       'NoobCrypt', 'Razy', 'Flyper', 'KeRanger', 'GlobeImposter',\n",
       "       'SamSam', 'CryptoTorLocker2015', 'VenusLocker', 'Globev3', 'Sam',\n",
       "       'APT', 'XLockerv5.0', 'JigSaw', 'CryptConsole', 'EDA2',\n",
       "       'XTPLocker', 'XLocker', 'Jigsaw', 'ComradeCircle'], dtype=object)"
      ]
     },
<<<<<<< HEAD
     "execution_count": 11,
=======
     "execution_count": 49,
>>>>>>> 8c643bf748e61bfeb3c25caf987c20ae5bbb5a47
     "metadata": {},
     "output_type": "execute_result"
    }
   ],
   "source": [
    "bitcoin['label'].unique()"
   ]
  },
  {
   "cell_type": "code",
<<<<<<< HEAD
   "execution_count": 12,
=======
   "execution_count": 50,
>>>>>>> 8c643bf748e61bfeb3c25caf987c20ae5bbb5a47
   "metadata": {},
   "outputs": [],
   "source": [
    "to_replace = ['Globe', 'WannaCry',\n",
    "       'NoobCrypt', 'Razy', 'Flyper', 'KeRanger', 'GlobeImposter',\n",
    "       'SamSam', 'CryptoTorLocker2015', 'VenusLocker', 'Globev3', 'Sam',\n",
    "       'APT', 'XLockerv5.0', 'JigSaw', 'CryptConsole', 'EDA2',\n",
    "       'XTPLocker', 'XLocker', 'Jigsaw', 'ComradeCircle']"
   ]
  },
  {
   "cell_type": "code",
<<<<<<< HEAD
   "execution_count": 13,
=======
   "execution_count": 51,
>>>>>>> 8c643bf748e61bfeb3c25caf987c20ae5bbb5a47
   "metadata": {},
   "outputs": [],
   "source": [
    "bitcoin = bitcoin.replace(to_replace, \"other\")"
   ]
  },
  {
   "cell_type": "code",
<<<<<<< HEAD
   "execution_count": 14,
=======
   "execution_count": 52,
>>>>>>> 8c643bf748e61bfeb3c25caf987c20ae5bbb5a47
   "metadata": {},
   "outputs": [
    {
     "data": {
      "text/plain": [
       "array(['white', 'CryptoWall', 'Cerber', 'CryptoLocker', 'Locky',\n",
       "       'DMALockerv3', 'other', 'CryptXXX', 'DMALocker'], dtype=object)"
      ]
     },
<<<<<<< HEAD
     "execution_count": 14,
=======
     "execution_count": 52,
>>>>>>> 8c643bf748e61bfeb3c25caf987c20ae5bbb5a47
     "metadata": {},
     "output_type": "execute_result"
    }
   ],
   "source": [
    "bitcoin['label'].unique()"
   ]
  },
  {
   "cell_type": "code",
<<<<<<< HEAD
   "execution_count": 15,
   "metadata": {},
   "outputs": [],
   "source": [
    "bitcoin_copy = bitcoin.copy()"
   ]
  },
  {
   "cell_type": "code",
   "execution_count": 16,
=======
   "execution_count": 53,
>>>>>>> 8c643bf748e61bfeb3c25caf987c20ae5bbb5a47
   "metadata": {},
   "outputs": [
    {
     "name": "stderr",
     "output_type": "stream",
     "text": [
      "/Users/alanzhang/Library/Python/3.9/lib/python/site-packages/sklearn/preprocessing/_data.py:194: UserWarning: Numerical issues were encountered when centering the data and might not be solved. Dataset may contain too large values. You may need to prescale your features.\n",
      "  warnings.warn(\"Numerical issues were encountered \"\n"
     ]
    },
    {
     "data": {
      "text/html": [
       "<div>\n",
       "<style scoped>\n",
       "    .dataframe tbody tr th:only-of-type {\n",
       "        vertical-align: middle;\n",
       "    }\n",
       "\n",
       "    .dataframe tbody tr th {\n",
       "        vertical-align: top;\n",
       "    }\n",
       "\n",
       "    .dataframe thead th {\n",
       "        text-align: right;\n",
       "    }\n",
       "</style>\n",
       "<table border=\"1\" class=\"dataframe\">\n",
       "  <thead>\n",
       "    <tr style=\"text-align: right;\">\n",
       "      <th></th>\n",
       "      <th>length</th>\n",
       "      <th>weight</th>\n",
       "      <th>count</th>\n",
       "      <th>looped</th>\n",
       "      <th>neighbors</th>\n",
       "      <th>income</th>\n",
       "      <th>label</th>\n",
       "    </tr>\n",
       "  </thead>\n",
       "  <tbody>\n",
       "    <tr>\n",
       "      <th>0</th>\n",
       "      <td>-0.729543</td>\n",
       "      <td>-0.080935</td>\n",
       "      <td>-0.426886</td>\n",
       "      <td>-0.246872</td>\n",
       "      <td>-0.011289</td>\n",
       "      <td>-0.026852</td>\n",
       "      <td>white</td>\n",
       "    </tr>\n",
       "    <tr>\n",
       "      <th>1</th>\n",
       "      <td>-0.763439</td>\n",
       "      <td>0.124388</td>\n",
       "      <td>-0.426886</td>\n",
       "      <td>-0.246872</td>\n",
       "      <td>-0.064249</td>\n",
       "      <td>-0.028514</td>\n",
       "      <td>white</td>\n",
       "    </tr>\n",
       "    <tr>\n",
       "      <th>2</th>\n",
       "      <td>0.117865</td>\n",
       "      <td>-0.149109</td>\n",
       "      <td>-0.413867</td>\n",
       "      <td>-0.246872</td>\n",
       "      <td>-0.011289</td>\n",
       "      <td>0.125725</td>\n",
       "      <td>white</td>\n",
       "    </tr>\n",
       "    <tr>\n",
       "      <th>3</th>\n",
       "      <td>1.677096</td>\n",
       "      <td>-0.149375</td>\n",
       "      <td>0.492716</td>\n",
       "      <td>0.944425</td>\n",
       "      <td>-0.011289</td>\n",
       "      <td>-0.028201</td>\n",
       "      <td>white</td>\n",
       "    </tr>\n",
       "    <tr>\n",
       "      <th>4</th>\n",
       "      <td>-0.661750</td>\n",
       "      <td>-0.080935</td>\n",
       "      <td>-0.426886</td>\n",
       "      <td>-0.246872</td>\n",
       "      <td>-0.011289</td>\n",
       "      <td>-0.028606</td>\n",
       "      <td>white</td>\n",
       "    </tr>\n",
       "    <tr>\n",
       "      <th>...</th>\n",
       "      <td>...</td>\n",
       "      <td>...</td>\n",
       "      <td>...</td>\n",
       "      <td>...</td>\n",
       "      <td>...</td>\n",
       "      <td>...</td>\n",
       "      <td>...</td>\n",
       "    </tr>\n",
       "    <tr>\n",
       "      <th>2333352</th>\n",
       "      <td>-0.593957</td>\n",
       "      <td>-0.132266</td>\n",
       "      <td>-0.426886</td>\n",
       "      <td>-0.246872</td>\n",
       "      <td>-0.064249</td>\n",
       "      <td>-0.028493</td>\n",
       "      <td>white</td>\n",
       "    </tr>\n",
       "    <tr>\n",
       "      <th>2333353</th>\n",
       "      <td>1.677096</td>\n",
       "      <td>-0.148486</td>\n",
       "      <td>3.162168</td>\n",
       "      <td>-0.246872</td>\n",
       "      <td>-0.011289</td>\n",
       "      <td>-0.028174</td>\n",
       "      <td>white</td>\n",
       "    </tr>\n",
       "    <tr>\n",
       "      <th>2333354</th>\n",
       "      <td>-0.424476</td>\n",
       "      <td>-0.148663</td>\n",
       "      <td>-0.426294</td>\n",
       "      <td>-0.246872</td>\n",
       "      <td>-0.011289</td>\n",
       "      <td>-0.006960</td>\n",
       "      <td>white</td>\n",
       "    </tr>\n",
       "    <tr>\n",
       "      <th>2333355</th>\n",
       "      <td>-0.763439</td>\n",
       "      <td>0.124388</td>\n",
       "      <td>-0.426886</td>\n",
       "      <td>-0.246872</td>\n",
       "      <td>-0.011289</td>\n",
       "      <td>-0.021956</td>\n",
       "      <td>white</td>\n",
       "    </tr>\n",
       "    <tr>\n",
       "      <th>2333356</th>\n",
       "      <td>0.355139</td>\n",
       "      <td>-0.149372</td>\n",
       "      <td>-0.426886</td>\n",
       "      <td>-0.246872</td>\n",
       "      <td>-0.011289</td>\n",
       "      <td>-0.011360</td>\n",
       "      <td>white</td>\n",
       "    </tr>\n",
       "  </tbody>\n",
       "</table>\n",
       "<p>2333357 rows × 7 columns</p>\n",
       "</div>"
      ],
      "text/plain": [
       "           length    weight     count    looped  neighbors    income  label\n",
       "0       -0.729543 -0.080935 -0.426886 -0.246872  -0.011289 -0.026852  white\n",
       "1       -0.763439  0.124388 -0.426886 -0.246872  -0.064249 -0.028514  white\n",
       "2        0.117865 -0.149109 -0.413867 -0.246872  -0.011289  0.125725  white\n",
       "3        1.677096 -0.149375  0.492716  0.944425  -0.011289 -0.028201  white\n",
       "4       -0.661750 -0.080935 -0.426886 -0.246872  -0.011289 -0.028606  white\n",
       "...           ...       ...       ...       ...        ...       ...    ...\n",
       "2333352 -0.593957 -0.132266 -0.426886 -0.246872  -0.064249 -0.028493  white\n",
       "2333353  1.677096 -0.148486  3.162168 -0.246872  -0.011289 -0.028174  white\n",
       "2333354 -0.424476 -0.148663 -0.426294 -0.246872  -0.011289 -0.006960  white\n",
       "2333355 -0.763439  0.124388 -0.426886 -0.246872  -0.011289 -0.021956  white\n",
       "2333356  0.355139 -0.149372 -0.426886 -0.246872  -0.011289 -0.011360  white\n",
       "\n",
       "[2333357 rows x 7 columns]"
      ]
     },
<<<<<<< HEAD
     "execution_count": 16,
=======
     "execution_count": 53,
>>>>>>> 8c643bf748e61bfeb3c25caf987c20ae5bbb5a47
     "metadata": {},
     "output_type": "execute_result"
    }
   ],
   "source": [
    "for column in bitcoin_copy.columns:\n",
    "    if column != \"label\":\n",
    "        bitcoin_copy[column] = preprocessing.scale(bitcoin_copy[column])\n",
    "bitcoin_copy"
   ]
  },
  {
   "cell_type": "code",
<<<<<<< HEAD
   "execution_count": 19,
=======
   "execution_count": 54,
>>>>>>> 8c643bf748e61bfeb3c25caf987c20ae5bbb5a47
   "metadata": {},
   "outputs": [
    {
     "data": {
      "text/plain": [
       "array(['white', 'CryptoWall', 'Cerber', 'CryptoLocker', 'Locky',\n",
       "       'DMALockerv3', 'other', 'CryptXXX', 'DMALocker'], dtype=object)"
      ]
     },
<<<<<<< HEAD
     "execution_count": 19,
=======
     "execution_count": 54,
>>>>>>> 8c643bf748e61bfeb3c25caf987c20ae5bbb5a47
     "metadata": {},
     "output_type": "execute_result"
    }
   ],
   "source": [
<<<<<<< HEAD
    "bitcoin_copy['label'].unique()"
=======
    "bitcoin.index"
   ]
  },
  {
   "cell_type": "code",
   "execution_count": 55,
   "metadata": {},
   "outputs": [],
   "source": [
    "white_bt = bitcoin.loc[bitcoin['label'] == 'white']\n",
    "non_white_bt = bitcoin.loc[~(bitcoin['label'] == 'white')]"
>>>>>>> 8c643bf748e61bfeb3c25caf987c20ae5bbb5a47
   ]
  },
  {
   "cell_type": "code",
   "execution_count": 43,
   "metadata": {
    "scrolled": true
   },
   "outputs": [
    {
     "data": {
      "text/html": [
       "<div>\n",
       "<style scoped>\n",
       "    .dataframe tbody tr th:only-of-type {\n",
       "        vertical-align: middle;\n",
       "    }\n",
       "\n",
       "    .dataframe tbody tr th {\n",
       "        vertical-align: top;\n",
       "    }\n",
       "\n",
       "    .dataframe thead th {\n",
       "        text-align: right;\n",
       "    }\n",
       "</style>\n",
       "<table border=\"1\" class=\"dataframe\">\n",
       "  <thead>\n",
       "    <tr style=\"text-align: right;\">\n",
       "      <th></th>\n",
       "      <th>length</th>\n",
       "      <th>weight</th>\n",
       "      <th>count</th>\n",
       "      <th>looped</th>\n",
       "      <th>neighbors</th>\n",
       "      <th>income</th>\n",
       "      <th>label</th>\n",
       "    </tr>\n",
       "    <tr>\n",
       "      <th>ransomware</th>\n",
       "      <th></th>\n",
       "      <th></th>\n",
       "      <th></th>\n",
       "      <th></th>\n",
       "      <th></th>\n",
       "      <th></th>\n",
       "      <th></th>\n",
       "    </tr>\n",
       "  </thead>\n",
       "  <tbody>\n",
       "    <tr>\n",
       "      <th>True</th>\n",
       "      <td>-0.729543</td>\n",
       "      <td>-0.080935</td>\n",
       "      <td>-0.426886</td>\n",
       "      <td>-0.246872</td>\n",
       "      <td>-0.011289</td>\n",
       "      <td>-0.026852</td>\n",
       "      <td>white</td>\n",
       "    </tr>\n",
       "    <tr>\n",
       "      <th>True</th>\n",
       "      <td>-0.763439</td>\n",
       "      <td>0.124388</td>\n",
       "      <td>-0.426886</td>\n",
       "      <td>-0.246872</td>\n",
       "      <td>-0.064249</td>\n",
       "      <td>-0.028514</td>\n",
       "      <td>white</td>\n",
       "    </tr>\n",
       "    <tr>\n",
       "      <th>True</th>\n",
       "      <td>0.117865</td>\n",
       "      <td>-0.149109</td>\n",
       "      <td>-0.413867</td>\n",
       "      <td>-0.246872</td>\n",
       "      <td>-0.011289</td>\n",
       "      <td>0.125725</td>\n",
       "      <td>white</td>\n",
       "    </tr>\n",
       "    <tr>\n",
       "      <th>True</th>\n",
       "      <td>1.677096</td>\n",
       "      <td>-0.149375</td>\n",
       "      <td>0.492716</td>\n",
       "      <td>0.944425</td>\n",
       "      <td>-0.011289</td>\n",
       "      <td>-0.028201</td>\n",
       "      <td>white</td>\n",
       "    </tr>\n",
       "    <tr>\n",
       "      <th>True</th>\n",
       "      <td>-0.661750</td>\n",
       "      <td>-0.080935</td>\n",
       "      <td>-0.426886</td>\n",
       "      <td>-0.246872</td>\n",
       "      <td>-0.011289</td>\n",
       "      <td>-0.028606</td>\n",
       "      <td>white</td>\n",
       "    </tr>\n",
       "    <tr>\n",
       "      <th>...</th>\n",
       "      <td>...</td>\n",
       "      <td>...</td>\n",
       "      <td>...</td>\n",
       "      <td>...</td>\n",
       "      <td>...</td>\n",
       "      <td>...</td>\n",
       "      <td>...</td>\n",
       "    </tr>\n",
       "    <tr>\n",
       "      <th>True</th>\n",
       "      <td>-0.593957</td>\n",
       "      <td>-0.132266</td>\n",
       "      <td>-0.426886</td>\n",
       "      <td>-0.246872</td>\n",
       "      <td>-0.064249</td>\n",
       "      <td>-0.028493</td>\n",
       "      <td>white</td>\n",
       "    </tr>\n",
       "    <tr>\n",
       "      <th>True</th>\n",
       "      <td>1.677096</td>\n",
       "      <td>-0.148486</td>\n",
       "      <td>3.162168</td>\n",
       "      <td>-0.246872</td>\n",
       "      <td>-0.011289</td>\n",
       "      <td>-0.028174</td>\n",
       "      <td>white</td>\n",
       "    </tr>\n",
       "    <tr>\n",
       "      <th>True</th>\n",
       "      <td>-0.424476</td>\n",
       "      <td>-0.148663</td>\n",
       "      <td>-0.426294</td>\n",
       "      <td>-0.246872</td>\n",
       "      <td>-0.011289</td>\n",
       "      <td>-0.006960</td>\n",
       "      <td>white</td>\n",
       "    </tr>\n",
       "    <tr>\n",
       "      <th>True</th>\n",
       "      <td>-0.763439</td>\n",
       "      <td>0.124388</td>\n",
       "      <td>-0.426886</td>\n",
       "      <td>-0.246872</td>\n",
       "      <td>-0.011289</td>\n",
       "      <td>-0.021956</td>\n",
       "      <td>white</td>\n",
       "    </tr>\n",
       "    <tr>\n",
       "      <th>True</th>\n",
       "      <td>0.355139</td>\n",
       "      <td>-0.149372</td>\n",
       "      <td>-0.426886</td>\n",
       "      <td>-0.246872</td>\n",
       "      <td>-0.011289</td>\n",
       "      <td>-0.011360</td>\n",
       "      <td>white</td>\n",
       "    </tr>\n",
       "  </tbody>\n",
       "</table>\n",
       "<p>2333357 rows × 7 columns</p>\n",
       "</div>"
      ],
      "text/plain": [
       "              length    weight     count    looped  neighbors    income  label\n",
       "ransomware                                                                    \n",
       "True       -0.729543 -0.080935 -0.426886 -0.246872  -0.011289 -0.026852  white\n",
       "True       -0.763439  0.124388 -0.426886 -0.246872  -0.064249 -0.028514  white\n",
       "True        0.117865 -0.149109 -0.413867 -0.246872  -0.011289  0.125725  white\n",
       "True        1.677096 -0.149375  0.492716  0.944425  -0.011289 -0.028201  white\n",
       "True       -0.661750 -0.080935 -0.426886 -0.246872  -0.011289 -0.028606  white\n",
       "...              ...       ...       ...       ...        ...       ...    ...\n",
       "True       -0.593957 -0.132266 -0.426886 -0.246872  -0.064249 -0.028493  white\n",
       "True        1.677096 -0.148486  3.162168 -0.246872  -0.011289 -0.028174  white\n",
       "True       -0.424476 -0.148663 -0.426294 -0.246872  -0.011289 -0.006960  white\n",
       "True       -0.763439  0.124388 -0.426886 -0.246872  -0.011289 -0.021956  white\n",
       "True        0.355139 -0.149372 -0.426886 -0.246872  -0.011289 -0.011360  white\n",
       "\n",
       "[2333357 rows x 7 columns]"
      ]
     },
     "execution_count": 43,
     "metadata": {},
     "output_type": "execute_result"
    }
   ],
   "source": [
    "bitcoin_copy = bitcoin_copy.assign(ransomware = lambda x: x.label == \"white\")\n",
    "bitcoin_copy = bitcoin_copy.set_index('ransomware')\n",
    "bitcoin_copy"
   ]
  },
  {
   "cell_type": "code",
   "execution_count": 87,
   "metadata": {},
   "outputs": [
    {
     "data": {
      "text/plain": [
       "0.01418085616560175"
      ]
     },
     "execution_count": 87,
     "metadata": {},
     "output_type": "execute_result"
    }
   ],
   "source": [
    "bitcoin.loc[bitcoin['label'] != 'white'].shape[0] / bitcoin.shape[0]"
   ]
  },
  {
   "cell_type": "code",
   "execution_count": 80,
   "metadata": {},
   "outputs": [
    {
     "data": {
      "text/plain": [
       "array([[0.74264657, 0.25735343]])"
      ]
     },
     "execution_count": 80,
     "metadata": {},
     "output_type": "execute_result"
    }
   ],
   "source": [
    "var_weights = np.random.dirichlet(np.ones(2),size=1)\n",
    "var_weights"
   ]
  },
  {
   "cell_type": "code",
<<<<<<< HEAD
   "execution_count": 88,
=======
   "execution_count": 67,
>>>>>>> 8c643bf748e61bfeb3c25caf987c20ae5bbb5a47
   "metadata": {
    "scrolled": true
   },
   "outputs": [
    {
     "name": "stdout",
     "output_type": "stream",
     "text": [
      "[[0.16725183 0.83274817]]\n"
     ]
    }
   ],
   "source": [
    "var_weights = np.random.dirichlet(np.ones(2),size=1)\n",
    "sample_size = n = int(bitcoin_copy.shape[0] * 0.01)\n",
    "bt_sample = bitcoin_copy.sample(sample_size)#, replace = True, weights = var_weights)"
   ]
  },
  {
   "cell_type": "code",
   "execution_count": 96,
   "metadata": {},
   "outputs": [
    {
     "data": {
      "text/html": [
       "<div>\n",
       "<style scoped>\n",
       "    .dataframe tbody tr th:only-of-type {\n",
       "        vertical-align: middle;\n",
       "    }\n",
       "\n",
       "    .dataframe tbody tr th {\n",
       "        vertical-align: top;\n",
       "    }\n",
       "\n",
       "    .dataframe thead th {\n",
       "        text-align: right;\n",
       "    }\n",
       "</style>\n",
       "<table border=\"1\" class=\"dataframe\">\n",
       "  <thead>\n",
       "    <tr style=\"text-align: right;\">\n",
       "      <th></th>\n",
<<<<<<< HEAD
       "      <th>length</th>\n",
       "      <th>weight</th>\n",
       "      <th>count</th>\n",
       "      <th>looped</th>\n",
       "      <th>neighbors</th>\n",
       "      <th>income</th>\n",
       "      <th>label</th>\n",
=======
       "      <th>Proportion of Transactions</th>\n",
>>>>>>> 8c643bf748e61bfeb3c25caf987c20ae5bbb5a47
       "    </tr>\n",
       "    <tr>\n",
       "      <th>ransomware</th>\n",
       "      <th></th>\n",
       "      <th></th>\n",
       "      <th></th>\n",
       "      <th></th>\n",
       "      <th></th>\n",
       "      <th></th>\n",
       "      <th></th>\n",
       "    </tr>\n",
       "  </thead>\n",
       "  <tbody>\n",
       "    <tr>\n",
       "      <th>True</th>\n",
       "      <td>-0.763439</td>\n",
       "      <td>-0.012494</td>\n",
       "      <td>-0.426886</td>\n",
       "      <td>-0.246872</td>\n",
       "      <td>-0.064249</td>\n",
       "      <td>-0.026858</td>\n",
       "      <td>white</td>\n",
       "    </tr>\n",
       "    <tr>\n",
       "      <th>True</th>\n",
       "      <td>-0.627854</td>\n",
       "      <td>-0.142172</td>\n",
       "      <td>-0.426294</td>\n",
       "      <td>-0.246872</td>\n",
       "      <td>-0.064249</td>\n",
       "      <td>-0.028528</td>\n",
       "      <td>white</td>\n",
       "    </tr>\n",
       "    <tr>\n",
       "      <th>True</th>\n",
       "      <td>-0.763439</td>\n",
       "      <td>0.124388</td>\n",
       "      <td>-0.426886</td>\n",
       "      <td>-0.246872</td>\n",
       "      <td>-0.011289</td>\n",
       "      <td>-0.027784</td>\n",
       "      <td>white</td>\n",
       "    </tr>\n",
       "    <tr>\n",
       "      <th>True</th>\n",
       "      <td>-0.729543</td>\n",
       "      <td>-0.103749</td>\n",
       "      <td>-0.426886</td>\n",
       "      <td>-0.246872</td>\n",
       "      <td>-0.011289</td>\n",
       "      <td>-0.028448</td>\n",
       "      <td>white</td>\n",
       "    </tr>\n",
       "    <tr>\n",
       "      <th>True</th>\n",
       "      <td>-0.526165</td>\n",
       "      <td>-0.139751</td>\n",
       "      <td>-0.426294</td>\n",
       "      <td>-0.246872</td>\n",
       "      <td>-0.011289</td>\n",
       "      <td>-0.022385</td>\n",
       "      <td>white</td>\n",
       "    </tr>\n",
       "    <tr>\n",
       "      <th>...</th>\n",
       "      <td>...</td>\n",
       "      <td>...</td>\n",
       "      <td>...</td>\n",
       "      <td>...</td>\n",
       "      <td>...</td>\n",
       "      <td>...</td>\n",
       "      <td>...</td>\n",
       "    </tr>\n",
       "    <tr>\n",
       "      <th>True</th>\n",
       "      <td>-0.763439</td>\n",
       "      <td>0.124388</td>\n",
       "      <td>-0.426886</td>\n",
       "      <td>-0.246872</td>\n",
       "      <td>-0.011289</td>\n",
       "      <td>-0.028404</td>\n",
       "      <td>white</td>\n",
       "    </tr>\n",
       "    <tr>\n",
       "      <th>True</th>\n",
       "      <td>-0.695646</td>\n",
       "      <td>0.227049</td>\n",
       "      <td>-0.425703</td>\n",
       "      <td>-0.244804</td>\n",
       "      <td>0.200550</td>\n",
       "      <td>-0.014163</td>\n",
       "      <td>white</td>\n",
       "    </tr>\n",
       "    <tr>\n",
       "      <th>True</th>\n",
       "      <td>-0.763439</td>\n",
       "      <td>-0.012494</td>\n",
       "      <td>-0.426886</td>\n",
       "      <td>-0.246872</td>\n",
       "      <td>-0.011289</td>\n",
       "      <td>-0.028433</td>\n",
       "      <td>white</td>\n",
       "    </tr>\n",
       "    <tr>\n",
       "      <th>True</th>\n",
       "      <td>-0.661750</td>\n",
       "      <td>-0.012494</td>\n",
       "      <td>-0.426886</td>\n",
       "      <td>-0.246872</td>\n",
       "      <td>-0.011289</td>\n",
       "      <td>-0.027545</td>\n",
       "      <td>white</td>\n",
       "    </tr>\n",
       "    <tr>\n",
       "      <th>True</th>\n",
       "      <td>-0.729543</td>\n",
       "      <td>-0.012494</td>\n",
       "      <td>-0.426886</td>\n",
       "      <td>-0.246872</td>\n",
       "      <td>-0.011289</td>\n",
       "      <td>0.001985</td>\n",
       "      <td>white</td>\n",
       "    </tr>\n",
       "  </tbody>\n",
       "</table>\n",
       "<p>23333 rows × 7 columns</p>\n",
       "</div>"
      ],
      "text/plain": [
<<<<<<< HEAD
       "              length    weight     count    looped  neighbors    income  label\n",
       "ransomware                                                                    \n",
       "True       -0.763439 -0.012494 -0.426886 -0.246872  -0.064249 -0.026858  white\n",
       "True       -0.627854 -0.142172 -0.426294 -0.246872  -0.064249 -0.028528  white\n",
       "True       -0.763439  0.124388 -0.426886 -0.246872  -0.011289 -0.027784  white\n",
       "True       -0.729543 -0.103749 -0.426886 -0.246872  -0.011289 -0.028448  white\n",
       "True       -0.526165 -0.139751 -0.426294 -0.246872  -0.011289 -0.022385  white\n",
       "...              ...       ...       ...       ...        ...       ...    ...\n",
       "True       -0.763439  0.124388 -0.426886 -0.246872  -0.011289 -0.028404  white\n",
       "True       -0.695646  0.227049 -0.425703 -0.244804   0.200550 -0.014163  white\n",
       "True       -0.763439 -0.012494 -0.426886 -0.246872  -0.011289 -0.028433  white\n",
       "True       -0.661750 -0.012494 -0.426886 -0.246872  -0.011289 -0.027545  white\n",
       "True       -0.729543 -0.012494 -0.426886 -0.246872  -0.011289  0.001985  white\n",
       "\n",
       "[23333 rows x 7 columns]"
      ]
     },
     "execution_count": 96,
=======
       "              Proportion of Transactions\n",
       "label                                   \n",
       "CryptoWall                      0.298347\n",
       "CryptoLocker                    0.224304\n",
       "Cerber                          0.223065\n",
       "Locky                           0.160779\n",
       "CryptXXX                        0.058418\n",
       "other                           0.019976\n",
       "DMALockerv3                     0.008764\n",
       "DMALocker                       0.006347"
      ]
     },
     "execution_count": 67,
>>>>>>> 8c643bf748e61bfeb3c25caf987c20ae5bbb5a47
     "metadata": {},
     "output_type": "execute_result"
    }
   ],
   "source": [
<<<<<<< HEAD
    "bt_sample"
=======
    "market_share = non_white_bt.groupby('label').count()['count'].sort_values(ascending=False)\n",
    "market_share_freq = market_share / market_share.sum()\n",
    "market_share_freq = market_share_freq.to_frame(name = \"Proportion of Transactions\")\n",
    "market_share_freq"
>>>>>>> 8c643bf748e61bfeb3c25caf987c20ae5bbb5a47
   ]
  },
  {
   "cell_type": "code",
<<<<<<< HEAD
   "execution_count": 101,
   "metadata": {},
=======
   "execution_count": 65,
   "metadata": {},
   "outputs": [
    {
     "data": {
      "text/html": [
       "<div>\n",
       "<style scoped>\n",
       "    .dataframe tbody tr th:only-of-type {\n",
       "        vertical-align: middle;\n",
       "    }\n",
       "\n",
       "    .dataframe tbody tr th {\n",
       "        vertical-align: top;\n",
       "    }\n",
       "\n",
       "    .dataframe thead th {\n",
       "        text-align: right;\n",
       "    }\n",
       "</style>\n",
       "<table border=\"1\" class=\"dataframe\">\n",
       "  <thead>\n",
       "    <tr style=\"text-align: right;\">\n",
       "      <th></th>\n",
       "      <th>Number of Transactions</th>\n",
       "    </tr>\n",
       "    <tr>\n",
       "      <th>label</th>\n",
       "      <th></th>\n",
       "    </tr>\n",
       "  </thead>\n",
       "  <tbody>\n",
       "    <tr>\n",
       "      <th>CryptoWall</th>\n",
       "      <td>9872</td>\n",
       "    </tr>\n",
       "    <tr>\n",
       "      <th>CryptoLocker</th>\n",
       "      <td>7422</td>\n",
       "    </tr>\n",
       "    <tr>\n",
       "      <th>Cerber</th>\n",
       "      <td>7381</td>\n",
       "    </tr>\n",
       "    <tr>\n",
       "      <th>Locky</th>\n",
       "      <td>5320</td>\n",
       "    </tr>\n",
       "    <tr>\n",
       "      <th>CryptXXX</th>\n",
       "      <td>1933</td>\n",
       "    </tr>\n",
       "    <tr>\n",
       "      <th>other</th>\n",
       "      <td>661</td>\n",
       "    </tr>\n",
       "    <tr>\n",
       "      <th>DMALockerv3</th>\n",
       "      <td>290</td>\n",
       "    </tr>\n",
       "    <tr>\n",
       "      <th>DMALocker</th>\n",
       "      <td>210</td>\n",
       "    </tr>\n",
       "  </tbody>\n",
       "</table>\n",
       "</div>"
      ],
      "text/plain": [
       "              Number of Transactions\n",
       "label                               \n",
       "CryptoWall                      9872\n",
       "CryptoLocker                    7422\n",
       "Cerber                          7381\n",
       "Locky                           5320\n",
       "CryptXXX                        1933\n",
       "other                            661\n",
       "DMALockerv3                      290\n",
       "DMALocker                        210"
      ]
     },
     "execution_count": 65,
     "metadata": {},
     "output_type": "execute_result"
    }
   ],
   "source": [
    "market_share.to_frame(\"Number of Transactions\")"
   ]
  },
  {
   "cell_type": "code",
   "execution_count": 19,
   "metadata": {
    "scrolled": true
   },
>>>>>>> 8c643bf748e61bfeb3c25caf987c20ae5bbb5a47
   "outputs": [
    {
     "data": {
      "text/plain": [
       "count    23333.000000\n",
       "mean        -0.002010\n",
       "std          0.536019\n",
       "min         -0.149376\n",
       "25%         -0.143635\n",
       "50%         -0.080935\n",
       "75%          0.090167\n",
       "max         36.281449\n",
       "Name: weight, dtype: float64"
      ]
     },
     "execution_count": 101,
     "metadata": {},
     "output_type": "execute_result"
    }
   ],
   "source": [
    "bt_sample['weight'].describe()"
   ]
  },
  {
   "cell_type": "code",
   "execution_count": 104,
   "metadata": {},
   "outputs": [
    {
     "data": {
      "text/plain": [
       "<AxesSubplot:xlabel='weight', ylabel='Count'>"
      ]
     },
     "execution_count": 104,
     "metadata": {},
     "output_type": "execute_result"
    },
    {
     "data": {
<<<<<<< HEAD
      "image/png": "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\n",
=======
      "image/png": "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\n",
>>>>>>> 8c643bf748e61bfeb3c25caf987c20ae5bbb5a47
      "text/plain": [
       "<Figure size 432x288 with 1 Axes>"
      ]
     },
     "metadata": {
      "needs_background": "light"
     },
     "output_type": "display_data"
    }
   ],
   "source": [
<<<<<<< HEAD
    "sns.histplot(data = bt_sample, x = \"weight\", binwidth = 0.53, bins = 4)"
=======
    "fig = sns.barplot(data = market_share_freq, x = market_share_freq.index, y = \"count\")\n",
    "fig.set_xticklabels(fig.get_xticklabels(), rotation = 30)\n",
    "fig.set_title(\"Ransomware Family Market Share\")\n",
    "fig.set_ylabel(\"Relative Frequency\")\n",
    "fig.set_xlabel(\"Ransomware Family\")"
>>>>>>> 8c643bf748e61bfeb3c25caf987c20ae5bbb5a47
   ]
  },
  {
   "cell_type": "code",
<<<<<<< HEAD
   "execution_count": 94,
=======
   "execution_count": 68,
>>>>>>> 8c643bf748e61bfeb3c25caf987c20ae5bbb5a47
   "metadata": {},
   "outputs": [
    {
     "data": {
      "text/html": [
       "<div>\n",
       "<style scoped>\n",
       "    .dataframe tbody tr th:only-of-type {\n",
       "        vertical-align: middle;\n",
       "    }\n",
       "\n",
       "    .dataframe tbody tr th {\n",
       "        vertical-align: top;\n",
       "    }\n",
       "\n",
       "    .dataframe thead th {\n",
       "        text-align: right;\n",
       "    }\n",
       "</style>\n",
       "<table border=\"1\" class=\"dataframe\">\n",
       "  <thead>\n",
       "    <tr style=\"text-align: right;\">\n",
       "      <th></th>\n",
       "      <th>length</th>\n",
       "      <th>weight</th>\n",
       "      <th>count</th>\n",
       "      <th>looped</th>\n",
       "      <th>neighbors</th>\n",
       "      <th>income</th>\n",
       "    </tr>\n",
       "    <tr>\n",
       "      <th>label</th>\n",
       "      <th></th>\n",
       "      <th></th>\n",
       "      <th></th>\n",
       "      <th></th>\n",
       "      <th></th>\n",
       "      <th></th>\n",
       "    </tr>\n",
       "  </thead>\n",
       "  <tbody>\n",
       "    <tr>\n",
       "      <th>Cerber</th>\n",
       "      <td>56</td>\n",
       "      <td>56</td>\n",
       "      <td>56</td>\n",
       "      <td>56</td>\n",
       "      <td>56</td>\n",
       "      <td>56</td>\n",
       "    </tr>\n",
       "    <tr>\n",
       "      <th>CryptXXX</th>\n",
       "      <td>16</td>\n",
       "      <td>16</td>\n",
       "      <td>16</td>\n",
       "      <td>16</td>\n",
       "      <td>16</td>\n",
       "      <td>16</td>\n",
       "    </tr>\n",
       "    <tr>\n",
       "      <th>CryptoLocker</th>\n",
       "      <td>78</td>\n",
       "      <td>78</td>\n",
       "      <td>78</td>\n",
       "      <td>78</td>\n",
       "      <td>78</td>\n",
       "      <td>78</td>\n",
       "    </tr>\n",
       "    <tr>\n",
       "      <th>CryptoWall</th>\n",
       "      <td>99</td>\n",
       "      <td>99</td>\n",
       "      <td>99</td>\n",
       "      <td>99</td>\n",
       "      <td>99</td>\n",
       "      <td>99</td>\n",
       "    </tr>\n",
       "    <tr>\n",
       "      <th>DMALocker</th>\n",
       "      <td>3</td>\n",
       "      <td>3</td>\n",
       "      <td>3</td>\n",
       "      <td>3</td>\n",
       "      <td>3</td>\n",
       "      <td>3</td>\n",
       "    </tr>\n",
       "    <tr>\n",
       "      <th>DMALockerv3</th>\n",
       "      <td>4</td>\n",
       "      <td>4</td>\n",
       "      <td>4</td>\n",
       "      <td>4</td>\n",
       "      <td>4</td>\n",
       "      <td>4</td>\n",
       "    </tr>\n",
       "    <tr>\n",
       "      <th>Locky</th>\n",
       "      <td>59</td>\n",
       "      <td>59</td>\n",
       "      <td>59</td>\n",
       "      <td>59</td>\n",
       "      <td>59</td>\n",
       "      <td>59</td>\n",
       "    </tr>\n",
       "    <tr>\n",
       "      <th>other</th>\n",
       "      <td>10</td>\n",
       "      <td>10</td>\n",
       "      <td>10</td>\n",
       "      <td>10</td>\n",
       "      <td>10</td>\n",
       "      <td>10</td>\n",
       "    </tr>\n",
       "    <tr>\n",
       "      <th>white</th>\n",
       "      <td>23008</td>\n",
       "      <td>23008</td>\n",
       "      <td>23008</td>\n",
       "      <td>23008</td>\n",
       "      <td>23008</td>\n",
       "      <td>23008</td>\n",
       "    </tr>\n",
       "  </tbody>\n",
       "</table>\n",
       "</div>"
      ],
      "text/plain": [
       "              length  weight  count  looped  neighbors  income\n",
       "label                                                         \n",
       "Cerber            56      56     56      56         56      56\n",
       "CryptXXX          16      16     16      16         16      16\n",
       "CryptoLocker      78      78     78      78         78      78\n",
       "CryptoWall        99      99     99      99         99      99\n",
       "DMALocker          3       3      3       3          3       3\n",
       "DMALockerv3        4       4      4       4          4       4\n",
       "Locky             59      59     59      59         59      59\n",
       "other             10      10     10      10         10      10\n",
       "white          23008   23008  23008   23008      23008   23008"
      ]
     },
<<<<<<< HEAD
     "execution_count": 94,
=======
     "execution_count": 68,
>>>>>>> 8c643bf748e61bfeb3c25caf987c20ae5bbb5a47
     "metadata": {},
     "output_type": "execute_result"
    }
   ],
   "source": [
    "bt_sample = bitcoin_copy.sample(sample_size)\n",
    "bt_sample.groupby(by=\"label\").count()"
   ]
  },
  {
   "cell_type": "code",
   "execution_count": 95,
   "metadata": {},
   "outputs": [
    {
     "data": {
      "text/plain": [
       "<seaborn.axisgrid.PairGrid at 0x7fcff185ca00>"
      ]
     },
     "execution_count": 95,
     "metadata": {},
     "output_type": "execute_result"
    },
    {
     "data": {
      "image/png": "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\n",
      "text/plain": [
       "<Figure size 1080x1080 with 42 Axes>"
      ]
     },
     "metadata": {
      "needs_background": "light"
     },
     "output_type": "display_data"
    }
   ],
   "source": [
    "sns.pairplot(bt_sample)"
   ]
  },
  {
   "cell_type": "code",
<<<<<<< HEAD
   "execution_count": 148,
=======
   "execution_count": 69,
>>>>>>> 8c643bf748e61bfeb3c25caf987c20ae5bbb5a47
   "metadata": {},
   "outputs": [
    {
     "data": {
      "text/html": [
       "<div>\n",
       "<style scoped>\n",
       "    .dataframe tbody tr th:only-of-type {\n",
       "        vertical-align: middle;\n",
       "    }\n",
       "\n",
       "    .dataframe tbody tr th {\n",
       "        vertical-align: top;\n",
       "    }\n",
       "\n",
       "    .dataframe thead th {\n",
       "        text-align: right;\n",
       "    }\n",
       "</style>\n",
       "<table border=\"1\" class=\"dataframe\">\n",
       "  <thead>\n",
       "    <tr style=\"text-align: right;\">\n",
       "      <th></th>\n",
       "      <th>length</th>\n",
       "      <th>weight</th>\n",
       "      <th>count</th>\n",
       "      <th>looped</th>\n",
       "      <th>neighbors</th>\n",
       "      <th>income</th>\n",
       "    </tr>\n",
       "  </thead>\n",
       "  <tbody>\n",
       "    <tr>\n",
       "      <th>count</th>\n",
       "      <td>2.333357e+06</td>\n",
       "      <td>2.333357e+06</td>\n",
       "      <td>2.333357e+06</td>\n",
       "      <td>2.333357e+06</td>\n",
       "      <td>2.333357e+06</td>\n",
       "      <td>2.333357e+06</td>\n",
       "    </tr>\n",
       "    <tr>\n",
       "      <th>mean</th>\n",
       "      <td>4.504554e+01</td>\n",
       "      <td>5.456381e-01</td>\n",
       "      <td>7.223780e+02</td>\n",
       "      <td>2.387287e+02</td>\n",
       "      <td>2.213161e+00</td>\n",
       "      <td>4.383004e+09</td>\n",
       "    </tr>\n",
       "    <tr>\n",
       "      <th>std</th>\n",
       "      <td>5.900348e+01</td>\n",
       "      <td>3.652788e+00</td>\n",
       "      <td>1.689861e+03</td>\n",
       "      <td>9.670131e+02</td>\n",
       "      <td>1.888230e+01</td>\n",
       "      <td>1.520211e+11</td>\n",
       "    </tr>\n",
       "    <tr>\n",
       "      <th>min</th>\n",
       "      <td>0.000000e+00</td>\n",
       "      <td>1.420108e-90</td>\n",
       "      <td>1.000000e+00</td>\n",
       "      <td>0.000000e+00</td>\n",
       "      <td>1.000000e+00</td>\n",
       "      <td>3.000000e+07</td>\n",
       "    </tr>\n",
       "    <tr>\n",
       "      <th>25%</th>\n",
       "      <td>2.000000e+00</td>\n",
       "      <td>2.152083e-02</td>\n",
       "      <td>1.000000e+00</td>\n",
       "      <td>0.000000e+00</td>\n",
       "      <td>1.000000e+00</td>\n",
       "      <td>7.434000e+07</td>\n",
       "    </tr>\n",
       "    <tr>\n",
       "      <th>50%</th>\n",
       "      <td>8.000000e+00</td>\n",
       "      <td>2.500000e-01</td>\n",
       "      <td>1.000000e+00</td>\n",
       "      <td>0.000000e+00</td>\n",
       "      <td>2.000000e+00</td>\n",
       "      <td>2.000000e+08</td>\n",
       "    </tr>\n",
       "    <tr>\n",
       "      <th>75%</th>\n",
       "      <td>1.080000e+02</td>\n",
       "      <td>8.794643e-01</td>\n",
       "      <td>5.700000e+01</td>\n",
       "      <td>0.000000e+00</td>\n",
       "      <td>2.000000e+00</td>\n",
       "      <td>9.940669e+08</td>\n",
       "    </tr>\n",
       "    <tr>\n",
       "      <th>max</th>\n",
       "      <td>1.440000e+02</td>\n",
       "      <td>1.943749e+03</td>\n",
       "      <td>1.449700e+04</td>\n",
       "      <td>1.449600e+04</td>\n",
       "      <td>1.292000e+04</td>\n",
       "      <td>4.982447e+13</td>\n",
       "    </tr>\n",
       "  </tbody>\n",
       "</table>\n",
       "</div>"
      ],
      "text/plain": [
       "             length        weight         count        looped     neighbors  \\\n",
       "count  2.333357e+06  2.333357e+06  2.333357e+06  2.333357e+06  2.333357e+06   \n",
       "mean   4.504554e+01  5.456381e-01  7.223780e+02  2.387287e+02  2.213161e+00   \n",
       "std    5.900348e+01  3.652788e+00  1.689861e+03  9.670131e+02  1.888230e+01   \n",
       "min    0.000000e+00  1.420108e-90  1.000000e+00  0.000000e+00  1.000000e+00   \n",
       "25%    2.000000e+00  2.152083e-02  1.000000e+00  0.000000e+00  1.000000e+00   \n",
       "50%    8.000000e+00  2.500000e-01  1.000000e+00  0.000000e+00  2.000000e+00   \n",
       "75%    1.080000e+02  8.794643e-01  5.700000e+01  0.000000e+00  2.000000e+00   \n",
       "max    1.440000e+02  1.943749e+03  1.449700e+04  1.449600e+04  1.292000e+04   \n",
       "\n",
       "             income  \n",
       "count  2.333357e+06  \n",
       "mean   4.383004e+09  \n",
       "std    1.520211e+11  \n",
       "min    3.000000e+07  \n",
       "25%    7.434000e+07  \n",
       "50%    2.000000e+08  \n",
       "75%    9.940669e+08  \n",
       "max    4.982447e+13  "
      ]
     },
<<<<<<< HEAD
     "execution_count": 148,
=======
     "execution_count": 69,
>>>>>>> 8c643bf748e61bfeb3c25caf987c20ae5bbb5a47
     "metadata": {},
     "output_type": "execute_result"
    }
   ],
   "source": [
    "btcopy = bitcoin.assign(ransomware = lambda x: x.label == \"white\")\n",
    "bt_stats = btcopy.describe()\n",
    "bt_stats"
   ]
  },
  {
   "cell_type": "code",
<<<<<<< HEAD
   "execution_count": 158,
   "metadata": {},
   "outputs": [
    {
     "ename": "KeyboardInterrupt",
     "evalue": "",
     "output_type": "error",
     "traceback": [
      "\u001b[0;31m---------------------------------------------------------------------------\u001b[0m",
      "\u001b[0;31mKeyboardInterrupt\u001b[0m                         Traceback (most recent call last)",
      "\u001b[0;32m<ipython-input-158-790018f02825>\u001b[0m in \u001b[0;36m<module>\u001b[0;34m\u001b[0m\n\u001b[0;32m----> 1\u001b[0;31m \u001b[0msns\u001b[0m\u001b[0;34m.\u001b[0m\u001b[0mbarplot\u001b[0m\u001b[0;34m(\u001b[0m\u001b[0mdata\u001b[0m \u001b[0;34m=\u001b[0m \u001b[0mbtcopy\u001b[0m\u001b[0;34m,\u001b[0m \u001b[0mx\u001b[0m \u001b[0;34m=\u001b[0m \u001b[0;34m'weight'\u001b[0m\u001b[0;34m,\u001b[0m \u001b[0mhue\u001b[0m \u001b[0;34m=\u001b[0m \u001b[0mbtcopy\u001b[0m\u001b[0;34m[\u001b[0m\u001b[0;34m'ransomware'\u001b[0m\u001b[0;34m]\u001b[0m\u001b[0;34m)\u001b[0m\u001b[0;34m\u001b[0m\u001b[0;34m\u001b[0m\u001b[0m\n\u001b[0m",
      "\u001b[0;32m~/Library/Python/3.9/lib/python/site-packages/seaborn/_decorators.py\u001b[0m in \u001b[0;36minner_f\u001b[0;34m(*args, **kwargs)\u001b[0m\n\u001b[1;32m     44\u001b[0m             )\n\u001b[1;32m     45\u001b[0m         \u001b[0mkwargs\u001b[0m\u001b[0;34m.\u001b[0m\u001b[0mupdate\u001b[0m\u001b[0;34m(\u001b[0m\u001b[0;34m{\u001b[0m\u001b[0mk\u001b[0m\u001b[0;34m:\u001b[0m \u001b[0marg\u001b[0m \u001b[0;32mfor\u001b[0m \u001b[0mk\u001b[0m\u001b[0;34m,\u001b[0m \u001b[0marg\u001b[0m \u001b[0;32min\u001b[0m \u001b[0mzip\u001b[0m\u001b[0;34m(\u001b[0m\u001b[0msig\u001b[0m\u001b[0;34m.\u001b[0m\u001b[0mparameters\u001b[0m\u001b[0;34m,\u001b[0m \u001b[0margs\u001b[0m\u001b[0;34m)\u001b[0m\u001b[0;34m}\u001b[0m\u001b[0;34m)\u001b[0m\u001b[0;34m\u001b[0m\u001b[0;34m\u001b[0m\u001b[0m\n\u001b[0;32m---> 46\u001b[0;31m         \u001b[0;32mreturn\u001b[0m \u001b[0mf\u001b[0m\u001b[0;34m(\u001b[0m\u001b[0;34m**\u001b[0m\u001b[0mkwargs\u001b[0m\u001b[0;34m)\u001b[0m\u001b[0;34m\u001b[0m\u001b[0;34m\u001b[0m\u001b[0m\n\u001b[0m\u001b[1;32m     47\u001b[0m     \u001b[0;32mreturn\u001b[0m \u001b[0minner_f\u001b[0m\u001b[0;34m\u001b[0m\u001b[0;34m\u001b[0m\u001b[0m\n\u001b[1;32m     48\u001b[0m \u001b[0;34m\u001b[0m\u001b[0m\n",
      "\u001b[0;32m~/Library/Python/3.9/lib/python/site-packages/seaborn/categorical.py\u001b[0m in \u001b[0;36mbarplot\u001b[0;34m(x, y, hue, data, order, hue_order, estimator, ci, n_boot, units, seed, orient, color, palette, saturation, errcolor, errwidth, capsize, dodge, ax, **kwargs)\u001b[0m\n\u001b[1;32m   3177\u001b[0m ):\n\u001b[1;32m   3178\u001b[0m \u001b[0;34m\u001b[0m\u001b[0m\n\u001b[0;32m-> 3179\u001b[0;31m     plotter = _BarPlotter(x, y, hue, data, order, hue_order,\n\u001b[0m\u001b[1;32m   3180\u001b[0m                           \u001b[0mestimator\u001b[0m\u001b[0;34m,\u001b[0m \u001b[0mci\u001b[0m\u001b[0;34m,\u001b[0m \u001b[0mn_boot\u001b[0m\u001b[0;34m,\u001b[0m \u001b[0munits\u001b[0m\u001b[0;34m,\u001b[0m \u001b[0mseed\u001b[0m\u001b[0;34m,\u001b[0m\u001b[0;34m\u001b[0m\u001b[0;34m\u001b[0m\u001b[0m\n\u001b[1;32m   3181\u001b[0m                           \u001b[0morient\u001b[0m\u001b[0;34m,\u001b[0m \u001b[0mcolor\u001b[0m\u001b[0;34m,\u001b[0m \u001b[0mpalette\u001b[0m\u001b[0;34m,\u001b[0m \u001b[0msaturation\u001b[0m\u001b[0;34m,\u001b[0m\u001b[0;34m\u001b[0m\u001b[0;34m\u001b[0m\u001b[0m\n",
      "\u001b[0;32m~/Library/Python/3.9/lib/python/site-packages/seaborn/categorical.py\u001b[0m in \u001b[0;36m__init__\u001b[0;34m(self, x, y, hue, data, order, hue_order, estimator, ci, n_boot, units, seed, orient, color, palette, saturation, errcolor, errwidth, capsize, dodge)\u001b[0m\n\u001b[1;32m   1585\u001b[0m                                  order, hue_order, units)\n\u001b[1;32m   1586\u001b[0m         \u001b[0mself\u001b[0m\u001b[0;34m.\u001b[0m\u001b[0mestablish_colors\u001b[0m\u001b[0;34m(\u001b[0m\u001b[0mcolor\u001b[0m\u001b[0;34m,\u001b[0m \u001b[0mpalette\u001b[0m\u001b[0;34m,\u001b[0m \u001b[0msaturation\u001b[0m\u001b[0;34m)\u001b[0m\u001b[0;34m\u001b[0m\u001b[0;34m\u001b[0m\u001b[0m\n\u001b[0;32m-> 1587\u001b[0;31m         \u001b[0mself\u001b[0m\u001b[0;34m.\u001b[0m\u001b[0mestimate_statistic\u001b[0m\u001b[0;34m(\u001b[0m\u001b[0mestimator\u001b[0m\u001b[0;34m,\u001b[0m \u001b[0mci\u001b[0m\u001b[0;34m,\u001b[0m \u001b[0mn_boot\u001b[0m\u001b[0;34m,\u001b[0m \u001b[0mseed\u001b[0m\u001b[0;34m)\u001b[0m\u001b[0;34m\u001b[0m\u001b[0;34m\u001b[0m\u001b[0m\n\u001b[0m\u001b[1;32m   1588\u001b[0m \u001b[0;34m\u001b[0m\u001b[0m\n\u001b[1;32m   1589\u001b[0m         \u001b[0mself\u001b[0m\u001b[0;34m.\u001b[0m\u001b[0mdodge\u001b[0m \u001b[0;34m=\u001b[0m \u001b[0mdodge\u001b[0m\u001b[0;34m\u001b[0m\u001b[0;34m\u001b[0m\u001b[0m\n",
      "\u001b[0;32m~/Library/Python/3.9/lib/python/site-packages/seaborn/categorical.py\u001b[0m in \u001b[0;36mestimate_statistic\u001b[0;34m(self, estimator, ci, n_boot, seed)\u001b[0m\n\u001b[1;32m   1484\u001b[0m                     \u001b[0;32melse\u001b[0m\u001b[0;34m:\u001b[0m\u001b[0;34m\u001b[0m\u001b[0;34m\u001b[0m\u001b[0m\n\u001b[1;32m   1485\u001b[0m \u001b[0;34m\u001b[0m\u001b[0m\n\u001b[0;32m-> 1486\u001b[0;31m                         boots = bootstrap(stat_data, func=estimator,\n\u001b[0m\u001b[1;32m   1487\u001b[0m                                           \u001b[0mn_boot\u001b[0m\u001b[0;34m=\u001b[0m\u001b[0mn_boot\u001b[0m\u001b[0;34m,\u001b[0m\u001b[0;34m\u001b[0m\u001b[0;34m\u001b[0m\u001b[0m\n\u001b[1;32m   1488\u001b[0m                                           \u001b[0munits\u001b[0m\u001b[0;34m=\u001b[0m\u001b[0munit_data\u001b[0m\u001b[0;34m,\u001b[0m\u001b[0;34m\u001b[0m\u001b[0;34m\u001b[0m\u001b[0m\n",
      "\u001b[0;32m~/Library/Python/3.9/lib/python/site-packages/seaborn/algorithms.py\u001b[0m in \u001b[0;36mbootstrap\u001b[0;34m(*args, **kwargs)\u001b[0m\n\u001b[1;32m     82\u001b[0m     \u001b[0;32mfor\u001b[0m \u001b[0mi\u001b[0m \u001b[0;32min\u001b[0m \u001b[0mrange\u001b[0m\u001b[0;34m(\u001b[0m\u001b[0mint\u001b[0m\u001b[0;34m(\u001b[0m\u001b[0mn_boot\u001b[0m\u001b[0;34m)\u001b[0m\u001b[0;34m)\u001b[0m\u001b[0;34m:\u001b[0m\u001b[0;34m\u001b[0m\u001b[0;34m\u001b[0m\u001b[0m\n\u001b[1;32m     83\u001b[0m         \u001b[0mresampler\u001b[0m \u001b[0;34m=\u001b[0m \u001b[0mintegers\u001b[0m\u001b[0;34m(\u001b[0m\u001b[0;36m0\u001b[0m\u001b[0;34m,\u001b[0m \u001b[0mn\u001b[0m\u001b[0;34m,\u001b[0m \u001b[0mn\u001b[0m\u001b[0;34m,\u001b[0m \u001b[0mdtype\u001b[0m\u001b[0;34m=\u001b[0m\u001b[0mnp\u001b[0m\u001b[0;34m.\u001b[0m\u001b[0mintp\u001b[0m\u001b[0;34m)\u001b[0m  \u001b[0;31m# intp is indexing dtype\u001b[0m\u001b[0;34m\u001b[0m\u001b[0;34m\u001b[0m\u001b[0m\n\u001b[0;32m---> 84\u001b[0;31m         \u001b[0msample\u001b[0m \u001b[0;34m=\u001b[0m \u001b[0;34m[\u001b[0m\u001b[0ma\u001b[0m\u001b[0;34m.\u001b[0m\u001b[0mtake\u001b[0m\u001b[0;34m(\u001b[0m\u001b[0mresampler\u001b[0m\u001b[0;34m,\u001b[0m \u001b[0maxis\u001b[0m\u001b[0;34m=\u001b[0m\u001b[0;36m0\u001b[0m\u001b[0;34m)\u001b[0m \u001b[0;32mfor\u001b[0m \u001b[0ma\u001b[0m \u001b[0;32min\u001b[0m \u001b[0margs\u001b[0m\u001b[0;34m]\u001b[0m\u001b[0;34m\u001b[0m\u001b[0;34m\u001b[0m\u001b[0m\n\u001b[0m\u001b[1;32m     85\u001b[0m         \u001b[0mboot_dist\u001b[0m\u001b[0;34m.\u001b[0m\u001b[0mappend\u001b[0m\u001b[0;34m(\u001b[0m\u001b[0mf\u001b[0m\u001b[0;34m(\u001b[0m\u001b[0;34m*\u001b[0m\u001b[0msample\u001b[0m\u001b[0;34m,\u001b[0m \u001b[0;34m**\u001b[0m\u001b[0mfunc_kwargs\u001b[0m\u001b[0;34m)\u001b[0m\u001b[0;34m)\u001b[0m\u001b[0;34m\u001b[0m\u001b[0;34m\u001b[0m\u001b[0m\n\u001b[1;32m     86\u001b[0m     \u001b[0;32mreturn\u001b[0m \u001b[0mnp\u001b[0m\u001b[0;34m.\u001b[0m\u001b[0marray\u001b[0m\u001b[0;34m(\u001b[0m\u001b[0mboot_dist\u001b[0m\u001b[0;34m)\u001b[0m\u001b[0;34m\u001b[0m\u001b[0;34m\u001b[0m\u001b[0m\n",
      "\u001b[0;32m~/Library/Python/3.9/lib/python/site-packages/seaborn/algorithms.py\u001b[0m in \u001b[0;36m<listcomp>\u001b[0;34m(.0)\u001b[0m\n\u001b[1;32m     82\u001b[0m     \u001b[0;32mfor\u001b[0m \u001b[0mi\u001b[0m \u001b[0;32min\u001b[0m \u001b[0mrange\u001b[0m\u001b[0;34m(\u001b[0m\u001b[0mint\u001b[0m\u001b[0;34m(\u001b[0m\u001b[0mn_boot\u001b[0m\u001b[0;34m)\u001b[0m\u001b[0;34m)\u001b[0m\u001b[0;34m:\u001b[0m\u001b[0;34m\u001b[0m\u001b[0;34m\u001b[0m\u001b[0m\n\u001b[1;32m     83\u001b[0m         \u001b[0mresampler\u001b[0m \u001b[0;34m=\u001b[0m \u001b[0mintegers\u001b[0m\u001b[0;34m(\u001b[0m\u001b[0;36m0\u001b[0m\u001b[0;34m,\u001b[0m \u001b[0mn\u001b[0m\u001b[0;34m,\u001b[0m \u001b[0mn\u001b[0m\u001b[0;34m,\u001b[0m \u001b[0mdtype\u001b[0m\u001b[0;34m=\u001b[0m\u001b[0mnp\u001b[0m\u001b[0;34m.\u001b[0m\u001b[0mintp\u001b[0m\u001b[0;34m)\u001b[0m  \u001b[0;31m# intp is indexing dtype\u001b[0m\u001b[0;34m\u001b[0m\u001b[0;34m\u001b[0m\u001b[0m\n\u001b[0;32m---> 84\u001b[0;31m         \u001b[0msample\u001b[0m \u001b[0;34m=\u001b[0m \u001b[0;34m[\u001b[0m\u001b[0ma\u001b[0m\u001b[0;34m.\u001b[0m\u001b[0mtake\u001b[0m\u001b[0;34m(\u001b[0m\u001b[0mresampler\u001b[0m\u001b[0;34m,\u001b[0m \u001b[0maxis\u001b[0m\u001b[0;34m=\u001b[0m\u001b[0;36m0\u001b[0m\u001b[0;34m)\u001b[0m \u001b[0;32mfor\u001b[0m \u001b[0ma\u001b[0m \u001b[0;32min\u001b[0m \u001b[0margs\u001b[0m\u001b[0;34m]\u001b[0m\u001b[0;34m\u001b[0m\u001b[0;34m\u001b[0m\u001b[0m\n\u001b[0m\u001b[1;32m     85\u001b[0m         \u001b[0mboot_dist\u001b[0m\u001b[0;34m.\u001b[0m\u001b[0mappend\u001b[0m\u001b[0;34m(\u001b[0m\u001b[0mf\u001b[0m\u001b[0;34m(\u001b[0m\u001b[0;34m*\u001b[0m\u001b[0msample\u001b[0m\u001b[0;34m,\u001b[0m \u001b[0;34m**\u001b[0m\u001b[0mfunc_kwargs\u001b[0m\u001b[0;34m)\u001b[0m\u001b[0;34m)\u001b[0m\u001b[0;34m\u001b[0m\u001b[0;34m\u001b[0m\u001b[0m\n\u001b[1;32m     86\u001b[0m     \u001b[0;32mreturn\u001b[0m \u001b[0mnp\u001b[0m\u001b[0;34m.\u001b[0m\u001b[0marray\u001b[0m\u001b[0;34m(\u001b[0m\u001b[0mboot_dist\u001b[0m\u001b[0;34m)\u001b[0m\u001b[0;34m\u001b[0m\u001b[0;34m\u001b[0m\u001b[0m\n",
      "\u001b[0;31mKeyboardInterrupt\u001b[0m: "
     ]
    }
   ],
   "source": []
  },
  {
   "cell_type": "code",
   "execution_count": 69,
   "metadata": {
    "scrolled": false
   },
   "outputs": [
    {
     "ename": "ValueError",
     "evalue": "The truth value of a Series is ambiguous. Use a.empty, a.bool(), a.item(), a.any() or a.all().",
     "output_type": "error",
     "traceback": [
      "\u001b[0;31m---------------------------------------------------------------------------\u001b[0m",
      "\u001b[0;31mValueError\u001b[0m                                Traceback (most recent call last)",
      "\u001b[0;32m<ipython-input-69-2edff5c569fe>\u001b[0m in \u001b[0;36m<module>\u001b[0;34m\u001b[0m\n\u001b[0;32m----> 1\u001b[0;31m \u001b[0mbitcoin_copy\u001b[0m\u001b[0;34m.\u001b[0m\u001b[0mgroupby\u001b[0m\u001b[0;34m(\u001b[0m\u001b[0;34m'count'\u001b[0m\u001b[0;34m)\u001b[0m\u001b[0;34m[\u001b[0m\u001b[0;34m'count'\u001b[0m\u001b[0;34m]\u001b[0m\u001b[0;34m.\u001b[0m\u001b[0mtransform\u001b[0m\u001b[0;34m(\u001b[0m\u001b[0;32mlambda\u001b[0m \u001b[0mx\u001b[0m\u001b[0;34m:\u001b[0m \u001b[0mvar_weights\u001b[0m\u001b[0;34m[\u001b[0m\u001b[0;36m0\u001b[0m\u001b[0;34m]\u001b[0m\u001b[0;34m[\u001b[0m\u001b[0;36m0\u001b[0m\u001b[0;34m]\u001b[0m \u001b[0;32mif\u001b[0m \u001b[0mx\u001b[0m \u001b[0;34m==\u001b[0m \u001b[0;32mTrue\u001b[0m \u001b[0;32melse\u001b[0m \u001b[0mvar_weights\u001b[0m\u001b[0;34m[\u001b[0m\u001b[0;36m0\u001b[0m\u001b[0;34m]\u001b[0m\u001b[0;34m[\u001b[0m\u001b[0;36m1\u001b[0m\u001b[0;34m]\u001b[0m\u001b[0;34m)\u001b[0m\u001b[0;34m\u001b[0m\u001b[0;34m\u001b[0m\u001b[0m\n\u001b[0m",
      "\u001b[0;32m~/Library/Python/3.9/lib/python/site-packages/pandas/core/groupby/generic.py\u001b[0m in \u001b[0;36mtransform\u001b[0;34m(self, func, engine, engine_kwargs, *args, **kwargs)\u001b[0m\n\u001b[1;32m    505\u001b[0m \u001b[0;34m\u001b[0m\u001b[0m\n\u001b[1;32m    506\u001b[0m         \u001b[0;32mif\u001b[0m \u001b[0;32mnot\u001b[0m \u001b[0misinstance\u001b[0m\u001b[0;34m(\u001b[0m\u001b[0mfunc\u001b[0m\u001b[0;34m,\u001b[0m \u001b[0mstr\u001b[0m\u001b[0;34m)\u001b[0m\u001b[0;34m:\u001b[0m\u001b[0;34m\u001b[0m\u001b[0;34m\u001b[0m\u001b[0m\n\u001b[0;32m--> 507\u001b[0;31m             \u001b[0;32mreturn\u001b[0m \u001b[0mself\u001b[0m\u001b[0;34m.\u001b[0m\u001b[0m_transform_general\u001b[0m\u001b[0;34m(\u001b[0m\u001b[0mfunc\u001b[0m\u001b[0;34m,\u001b[0m \u001b[0;34m*\u001b[0m\u001b[0margs\u001b[0m\u001b[0;34m,\u001b[0m \u001b[0;34m**\u001b[0m\u001b[0mkwargs\u001b[0m\u001b[0;34m)\u001b[0m\u001b[0;34m\u001b[0m\u001b[0;34m\u001b[0m\u001b[0m\n\u001b[0m\u001b[1;32m    508\u001b[0m \u001b[0;34m\u001b[0m\u001b[0m\n\u001b[1;32m    509\u001b[0m         \u001b[0;32melif\u001b[0m \u001b[0mfunc\u001b[0m \u001b[0;32mnot\u001b[0m \u001b[0;32min\u001b[0m \u001b[0mbase\u001b[0m\u001b[0;34m.\u001b[0m\u001b[0mtransform_kernel_allowlist\u001b[0m\u001b[0;34m:\u001b[0m\u001b[0;34m\u001b[0m\u001b[0;34m\u001b[0m\u001b[0m\n",
      "\u001b[0;32m~/Library/Python/3.9/lib/python/site-packages/pandas/core/groupby/generic.py\u001b[0m in \u001b[0;36m_transform_general\u001b[0;34m(self, func, *args, **kwargs)\u001b[0m\n\u001b[1;32m    530\u001b[0m         \u001b[0;32mfor\u001b[0m \u001b[0mname\u001b[0m\u001b[0;34m,\u001b[0m \u001b[0mgroup\u001b[0m \u001b[0;32min\u001b[0m \u001b[0mself\u001b[0m\u001b[0;34m:\u001b[0m\u001b[0;34m\u001b[0m\u001b[0;34m\u001b[0m\u001b[0m\n\u001b[1;32m    531\u001b[0m             \u001b[0mobject\u001b[0m\u001b[0;34m.\u001b[0m\u001b[0m__setattr__\u001b[0m\u001b[0;34m(\u001b[0m\u001b[0mgroup\u001b[0m\u001b[0;34m,\u001b[0m \u001b[0;34m\"name\"\u001b[0m\u001b[0;34m,\u001b[0m \u001b[0mname\u001b[0m\u001b[0;34m)\u001b[0m\u001b[0;34m\u001b[0m\u001b[0;34m\u001b[0m\u001b[0m\n\u001b[0;32m--> 532\u001b[0;31m             \u001b[0mres\u001b[0m \u001b[0;34m=\u001b[0m \u001b[0mfunc\u001b[0m\u001b[0;34m(\u001b[0m\u001b[0mgroup\u001b[0m\u001b[0;34m,\u001b[0m \u001b[0;34m*\u001b[0m\u001b[0margs\u001b[0m\u001b[0;34m,\u001b[0m \u001b[0;34m**\u001b[0m\u001b[0mkwargs\u001b[0m\u001b[0;34m)\u001b[0m\u001b[0;34m\u001b[0m\u001b[0;34m\u001b[0m\u001b[0m\n\u001b[0m\u001b[1;32m    533\u001b[0m \u001b[0;34m\u001b[0m\u001b[0m\n\u001b[1;32m    534\u001b[0m             \u001b[0;32mif\u001b[0m \u001b[0misinstance\u001b[0m\u001b[0;34m(\u001b[0m\u001b[0mres\u001b[0m\u001b[0;34m,\u001b[0m \u001b[0;34m(\u001b[0m\u001b[0mDataFrame\u001b[0m\u001b[0;34m,\u001b[0m \u001b[0mSeries\u001b[0m\u001b[0;34m)\u001b[0m\u001b[0;34m)\u001b[0m\u001b[0;34m:\u001b[0m\u001b[0;34m\u001b[0m\u001b[0;34m\u001b[0m\u001b[0m\n",
      "\u001b[0;32m<ipython-input-69-2edff5c569fe>\u001b[0m in \u001b[0;36m<lambda>\u001b[0;34m(x)\u001b[0m\n\u001b[0;32m----> 1\u001b[0;31m \u001b[0mbitcoin_copy\u001b[0m\u001b[0;34m.\u001b[0m\u001b[0mgroupby\u001b[0m\u001b[0;34m(\u001b[0m\u001b[0;34m'count'\u001b[0m\u001b[0;34m)\u001b[0m\u001b[0;34m[\u001b[0m\u001b[0;34m'count'\u001b[0m\u001b[0;34m]\u001b[0m\u001b[0;34m.\u001b[0m\u001b[0mtransform\u001b[0m\u001b[0;34m(\u001b[0m\u001b[0;32mlambda\u001b[0m \u001b[0mx\u001b[0m\u001b[0;34m:\u001b[0m \u001b[0mvar_weights\u001b[0m\u001b[0;34m[\u001b[0m\u001b[0;36m0\u001b[0m\u001b[0;34m]\u001b[0m\u001b[0;34m[\u001b[0m\u001b[0;36m0\u001b[0m\u001b[0;34m]\u001b[0m \u001b[0;32mif\u001b[0m \u001b[0mx\u001b[0m \u001b[0;34m==\u001b[0m \u001b[0;32mTrue\u001b[0m \u001b[0;32melse\u001b[0m \u001b[0mvar_weights\u001b[0m\u001b[0;34m[\u001b[0m\u001b[0;36m0\u001b[0m\u001b[0;34m]\u001b[0m\u001b[0;34m[\u001b[0m\u001b[0;36m1\u001b[0m\u001b[0;34m]\u001b[0m\u001b[0;34m)\u001b[0m\u001b[0;34m\u001b[0m\u001b[0;34m\u001b[0m\u001b[0m\n\u001b[0m",
      "\u001b[0;32m~/Library/Python/3.9/lib/python/site-packages/pandas/core/generic.py\u001b[0m in \u001b[0;36m__nonzero__\u001b[0;34m(self)\u001b[0m\n\u001b[1;32m   1440\u001b[0m     \u001b[0;34m@\u001b[0m\u001b[0mfinal\u001b[0m\u001b[0;34m\u001b[0m\u001b[0;34m\u001b[0m\u001b[0m\n\u001b[1;32m   1441\u001b[0m     \u001b[0;32mdef\u001b[0m \u001b[0m__nonzero__\u001b[0m\u001b[0;34m(\u001b[0m\u001b[0mself\u001b[0m\u001b[0;34m)\u001b[0m\u001b[0;34m:\u001b[0m\u001b[0;34m\u001b[0m\u001b[0;34m\u001b[0m\u001b[0m\n\u001b[0;32m-> 1442\u001b[0;31m         raise ValueError(\n\u001b[0m\u001b[1;32m   1443\u001b[0m             \u001b[0;34mf\"The truth value of a {type(self).__name__} is ambiguous. \"\u001b[0m\u001b[0;34m\u001b[0m\u001b[0;34m\u001b[0m\u001b[0m\n\u001b[1;32m   1444\u001b[0m             \u001b[0;34m\"Use a.empty, a.bool(), a.item(), a.any() or a.all().\"\u001b[0m\u001b[0;34m\u001b[0m\u001b[0;34m\u001b[0m\u001b[0m\n",
      "\u001b[0;31mValueError\u001b[0m: The truth value of a Series is ambiguous. Use a.empty, a.bool(), a.item(), a.any() or a.all()."
     ]
    }
   ],
   "source": [
    "bitcoin_copy.groupby('count')['count'].transform(lambda x: var_weights[0][0] if x == True else var_weights[0][1])"
   ]
  },
  {
   "cell_type": "code",
   "execution_count": 53,
   "metadata": {},
   "outputs": [
    {
     "data": {
      "text/html": [
       "<div>\n",
       "<style scoped>\n",
       "    .dataframe tbody tr th:only-of-type {\n",
       "        vertical-align: middle;\n",
       "    }\n",
       "\n",
       "    .dataframe tbody tr th {\n",
       "        vertical-align: top;\n",
       "    }\n",
       "\n",
       "    .dataframe thead th {\n",
       "        text-align: right;\n",
       "    }\n",
       "</style>\n",
       "<table border=\"1\" class=\"dataframe\">\n",
       "  <thead>\n",
       "    <tr style=\"text-align: right;\">\n",
       "      <th></th>\n",
       "      <th>length</th>\n",
       "      <th>weight</th>\n",
       "      <th>count</th>\n",
       "      <th>looped</th>\n",
       "      <th>neighbors</th>\n",
       "      <th>income</th>\n",
       "      <th>label</th>\n",
       "    </tr>\n",
       "    <tr>\n",
       "      <th>ransomware</th>\n",
       "      <th></th>\n",
       "      <th></th>\n",
       "      <th></th>\n",
       "      <th></th>\n",
       "      <th></th>\n",
       "      <th></th>\n",
       "      <th></th>\n",
       "    </tr>\n",
       "  </thead>\n",
       "  <tbody>\n",
       "    <tr>\n",
       "      <th>True</th>\n",
       "      <td>-0.560061</td>\n",
       "      <td>-0.115155</td>\n",
       "      <td>-0.426886</td>\n",
       "      <td>-0.246872</td>\n",
       "      <td>-0.011289</td>\n",
       "      <td>-0.027961</td>\n",
       "      <td>white</td>\n",
       "    </tr>\n",
       "    <tr>\n",
       "      <th>True</th>\n",
       "      <td>1.677096</td>\n",
       "      <td>-0.149376</td>\n",
       "      <td>0.035874</td>\n",
       "      <td>-0.246872</td>\n",
       "      <td>-0.011289</td>\n",
       "      <td>-0.018602</td>\n",
       "      <td>white</td>\n",
       "    </tr>\n",
       "    <tr>\n",
       "      <th>True</th>\n",
       "      <td>1.677096</td>\n",
       "      <td>-0.139655</td>\n",
       "      <td>0.924705</td>\n",
       "      <td>1.943378</td>\n",
       "      <td>-0.011289</td>\n",
       "      <td>-0.026585</td>\n",
       "      <td>white</td>\n",
       "    </tr>\n",
       "    <tr>\n",
       "      <th>True</th>\n",
       "      <td>-0.763439</td>\n",
       "      <td>0.124388</td>\n",
       "      <td>-0.426886</td>\n",
       "      <td>-0.246872</td>\n",
       "      <td>-0.011289</td>\n",
       "      <td>-0.028174</td>\n",
       "      <td>white</td>\n",
       "    </tr>\n",
       "    <tr>\n",
       "      <th>True</th>\n",
       "      <td>-0.763439</td>\n",
       "      <td>-0.012494</td>\n",
       "      <td>-0.426886</td>\n",
       "      <td>-0.246872</td>\n",
       "      <td>-0.011289</td>\n",
       "      <td>-0.028174</td>\n",
       "      <td>white</td>\n",
       "    </tr>\n",
       "    <tr>\n",
       "      <th>...</th>\n",
       "      <td>...</td>\n",
       "      <td>...</td>\n",
       "      <td>...</td>\n",
       "      <td>...</td>\n",
       "      <td>...</td>\n",
       "      <td>...</td>\n",
       "      <td>...</td>\n",
       "    </tr>\n",
       "    <tr>\n",
       "      <th>True</th>\n",
       "      <td>1.677096</td>\n",
       "      <td>-0.115154</td>\n",
       "      <td>3.180512</td>\n",
       "      <td>-0.246872</td>\n",
       "      <td>-0.011289</td>\n",
       "      <td>-0.028182</td>\n",
       "      <td>white</td>\n",
       "    </tr>\n",
       "    <tr>\n",
       "      <th>True</th>\n",
       "      <td>-0.288891</td>\n",
       "      <td>-0.149328</td>\n",
       "      <td>-0.426886</td>\n",
       "      <td>-0.246872</td>\n",
       "      <td>-0.011289</td>\n",
       "      <td>-0.028175</td>\n",
       "      <td>white</td>\n",
       "    </tr>\n",
       "    <tr>\n",
       "      <th>True</th>\n",
       "      <td>-0.560061</td>\n",
       "      <td>0.128665</td>\n",
       "      <td>-0.426294</td>\n",
       "      <td>-0.246872</td>\n",
       "      <td>-0.011289</td>\n",
       "      <td>-0.020293</td>\n",
       "      <td>white</td>\n",
       "    </tr>\n",
       "    <tr>\n",
       "      <th>True</th>\n",
       "      <td>-0.763439</td>\n",
       "      <td>0.124388</td>\n",
       "      <td>-0.426886</td>\n",
       "      <td>-0.246872</td>\n",
       "      <td>-0.064249</td>\n",
       "      <td>-0.027671</td>\n",
       "      <td>white</td>\n",
       "    </tr>\n",
       "    <tr>\n",
       "      <th>True</th>\n",
       "      <td>-0.627854</td>\n",
       "      <td>-0.142532</td>\n",
       "      <td>-0.426886</td>\n",
       "      <td>-0.246872</td>\n",
       "      <td>-0.011289</td>\n",
       "      <td>-0.028537</td>\n",
       "      <td>white</td>\n",
       "    </tr>\n",
       "  </tbody>\n",
       "</table>\n",
       "<p>23333 rows × 7 columns</p>\n",
       "</div>"
      ],
      "text/plain": [
       "              length    weight     count    looped  neighbors    income  label\n",
       "ransomware                                                                    \n",
       "True       -0.560061 -0.115155 -0.426886 -0.246872  -0.011289 -0.027961  white\n",
       "True        1.677096 -0.149376  0.035874 -0.246872  -0.011289 -0.018602  white\n",
       "True        1.677096 -0.139655  0.924705  1.943378  -0.011289 -0.026585  white\n",
       "True       -0.763439  0.124388 -0.426886 -0.246872  -0.011289 -0.028174  white\n",
       "True       -0.763439 -0.012494 -0.426886 -0.246872  -0.011289 -0.028174  white\n",
       "...              ...       ...       ...       ...        ...       ...    ...\n",
       "True        1.677096 -0.115154  3.180512 -0.246872  -0.011289 -0.028182  white\n",
       "True       -0.288891 -0.149328 -0.426886 -0.246872  -0.011289 -0.028175  white\n",
       "True       -0.560061  0.128665 -0.426294 -0.246872  -0.011289 -0.020293  white\n",
       "True       -0.763439  0.124388 -0.426886 -0.246872  -0.064249 -0.027671  white\n",
       "True       -0.627854 -0.142532 -0.426886 -0.246872  -0.011289 -0.028537  white\n",
       "\n",
       "[23333 rows x 7 columns]"
      ]
     },
     "execution_count": 53,
     "metadata": {},
     "output_type": "execute_result"
    }
   ],
   "source": [
    "bt_sample"
   ]
  },
  {
   "cell_type": "code",
   "execution_count": 52,
   "metadata": {
    "scrolled": true
   },
   "outputs": [
    {
     "data": {
      "text/html": [
       "<div>\n",
       "<style scoped>\n",
       "    .dataframe tbody tr th:only-of-type {\n",
       "        vertical-align: middle;\n",
       "    }\n",
       "\n",
       "    .dataframe tbody tr th {\n",
       "        vertical-align: top;\n",
       "    }\n",
       "\n",
       "    .dataframe thead th {\n",
       "        text-align: right;\n",
       "    }\n",
       "</style>\n",
       "<table border=\"1\" class=\"dataframe\">\n",
       "  <thead>\n",
       "    <tr style=\"text-align: right;\">\n",
       "      <th></th>\n",
       "      <th>length</th>\n",
       "      <th>weight</th>\n",
       "      <th>count</th>\n",
       "      <th>looped</th>\n",
       "      <th>neighbors</th>\n",
       "      <th>income</th>\n",
       "    </tr>\n",
       "    <tr>\n",
       "      <th>label</th>\n",
       "      <th></th>\n",
       "      <th></th>\n",
       "      <th></th>\n",
       "      <th></th>\n",
       "      <th></th>\n",
       "      <th></th>\n",
       "    </tr>\n",
       "  </thead>\n",
       "  <tbody>\n",
       "    <tr>\n",
       "      <th>Cerber</th>\n",
       "      <td>67</td>\n",
       "      <td>67</td>\n",
       "      <td>67</td>\n",
       "      <td>67</td>\n",
       "      <td>67</td>\n",
       "      <td>67</td>\n",
       "    </tr>\n",
       "    <tr>\n",
       "      <th>CryptXXX</th>\n",
       "      <td>17</td>\n",
       "      <td>17</td>\n",
       "      <td>17</td>\n",
       "      <td>17</td>\n",
       "      <td>17</td>\n",
       "      <td>17</td>\n",
       "    </tr>\n",
       "    <tr>\n",
       "      <th>CryptoLocker</th>\n",
       "      <td>87</td>\n",
       "      <td>87</td>\n",
       "      <td>87</td>\n",
       "      <td>87</td>\n",
       "      <td>87</td>\n",
       "      <td>87</td>\n",
       "    </tr>\n",
       "    <tr>\n",
       "      <th>CryptoWall</th>\n",
       "      <td>105</td>\n",
       "      <td>105</td>\n",
       "      <td>105</td>\n",
       "      <td>105</td>\n",
       "      <td>105</td>\n",
       "      <td>105</td>\n",
       "    </tr>\n",
       "    <tr>\n",
       "      <th>DMALocker</th>\n",
       "      <td>3</td>\n",
       "      <td>3</td>\n",
       "      <td>3</td>\n",
       "      <td>3</td>\n",
       "      <td>3</td>\n",
       "      <td>3</td>\n",
       "    </tr>\n",
       "    <tr>\n",
       "      <th>DMALockerv3</th>\n",
       "      <td>2</td>\n",
       "      <td>2</td>\n",
       "      <td>2</td>\n",
       "      <td>2</td>\n",
       "      <td>2</td>\n",
       "      <td>2</td>\n",
       "    </tr>\n",
       "    <tr>\n",
       "      <th>Locky</th>\n",
       "      <td>47</td>\n",
       "      <td>47</td>\n",
       "      <td>47</td>\n",
       "      <td>47</td>\n",
       "      <td>47</td>\n",
       "      <td>47</td>\n",
       "    </tr>\n",
       "    <tr>\n",
       "      <th>other</th>\n",
       "      <td>5</td>\n",
       "      <td>5</td>\n",
       "      <td>5</td>\n",
       "      <td>5</td>\n",
       "      <td>5</td>\n",
       "      <td>5</td>\n",
       "    </tr>\n",
       "    <tr>\n",
       "      <th>white</th>\n",
       "      <td>23000</td>\n",
       "      <td>23000</td>\n",
       "      <td>23000</td>\n",
       "      <td>23000</td>\n",
       "      <td>23000</td>\n",
       "      <td>23000</td>\n",
       "    </tr>\n",
       "  </tbody>\n",
       "</table>\n",
       "</div>"
      ],
      "text/plain": [
       "              length  weight  count  looped  neighbors  income\n",
       "label                                                         \n",
       "Cerber            67      67     67      67         67      67\n",
       "CryptXXX          17      17     17      17         17      17\n",
       "CryptoLocker      87      87     87      87         87      87\n",
       "CryptoWall       105     105    105     105        105     105\n",
       "DMALocker          3       3      3       3          3       3\n",
       "DMALockerv3        2       2      2       2          2       2\n",
       "Locky             47      47     47      47         47      47\n",
       "other              5       5      5       5          5       5\n",
       "white          23000   23000  23000   23000      23000   23000"
      ]
     },
     "execution_count": 52,
     "metadata": {},
     "output_type": "execute_result"
    }
   ],
   "source": [
    "bt_sample.groupby(by=\"label\").count()"
   ]
  },
  {
   "cell_type": "code",
   "execution_count": null,
   "metadata": {},
   "outputs": [],
   "source": [
    "bitcoin.loc[~(bitcoin['label'] == 'white')].groupby(\"label\").count().sort_values(by=\"count\", ascending = False)"
   ]
  },
  {
   "cell_type": "markdown",
   "metadata": {},
   "source": [
    "# Data Visualization"
   ]
  },
  {
   "cell_type": "code",
   "execution_count": null,
   "metadata": {},
   "outputs": [],
   "source": [
    "bitcoin.index"
   ]
  },
  {
   "cell_type": "code",
   "execution_count": 105,
   "metadata": {},
   "outputs": [],
   "source": [
    "white_bt = bitcoin.loc[bitcoin['label'] == 'white']\n",
    "non_white_bt = bitcoin.loc[~(bitcoin['label'] == 'white')]"
   ]
  },
  {
   "cell_type": "code",
   "execution_count": 106,
   "metadata": {},
   "outputs": [
    {
     "data": {
      "text/html": [
       "<div>\n",
       "<style scoped>\n",
       "    .dataframe tbody tr th:only-of-type {\n",
       "        vertical-align: middle;\n",
       "    }\n",
       "\n",
       "    .dataframe tbody tr th {\n",
       "        vertical-align: top;\n",
       "    }\n",
       "\n",
       "    .dataframe thead th {\n",
       "        text-align: right;\n",
       "    }\n",
       "</style>\n",
       "<table border=\"1\" class=\"dataframe\">\n",
       "  <thead>\n",
       "    <tr style=\"text-align: right;\">\n",
       "      <th></th>\n",
       "      <th>length</th>\n",
       "      <th>weight</th>\n",
       "      <th>count</th>\n",
       "      <th>looped</th>\n",
       "      <th>neighbors</th>\n",
       "      <th>income</th>\n",
       "      <th>label</th>\n",
       "    </tr>\n",
       "  </thead>\n",
       "  <tbody>\n",
       "    <tr>\n",
       "      <th>0</th>\n",
       "      <td>2</td>\n",
       "      <td>0.250000</td>\n",
       "      <td>1</td>\n",
       "      <td>0</td>\n",
       "      <td>2</td>\n",
       "      <td>3.009500e+08</td>\n",
       "      <td>white</td>\n",
       "    </tr>\n",
       "    <tr>\n",
       "      <th>1</th>\n",
       "      <td>0</td>\n",
       "      <td>1.000000</td>\n",
       "      <td>1</td>\n",
       "      <td>0</td>\n",
       "      <td>1</td>\n",
       "      <td>4.820000e+07</td>\n",
       "      <td>white</td>\n",
       "    </tr>\n",
       "    <tr>\n",
       "      <th>2</th>\n",
       "      <td>52</td>\n",
       "      <td>0.000977</td>\n",
       "      <td>23</td>\n",
       "      <td>0</td>\n",
       "      <td>2</td>\n",
       "      <td>2.349582e+10</td>\n",
       "      <td>white</td>\n",
       "    </tr>\n",
       "    <tr>\n",
       "      <th>3</th>\n",
       "      <td>144</td>\n",
       "      <td>0.000001</td>\n",
       "      <td>1555</td>\n",
       "      <td>1152</td>\n",
       "      <td>2</td>\n",
       "      <td>9.581274e+07</td>\n",
       "      <td>white</td>\n",
       "    </tr>\n",
       "    <tr>\n",
       "      <th>4</th>\n",
       "      <td>6</td>\n",
       "      <td>0.250000</td>\n",
       "      <td>1</td>\n",
       "      <td>0</td>\n",
       "      <td>2</td>\n",
       "      <td>3.424024e+07</td>\n",
       "      <td>white</td>\n",
       "    </tr>\n",
       "    <tr>\n",
       "      <th>...</th>\n",
       "      <td>...</td>\n",
       "      <td>...</td>\n",
       "      <td>...</td>\n",
       "      <td>...</td>\n",
       "      <td>...</td>\n",
       "      <td>...</td>\n",
       "      <td>...</td>\n",
       "    </tr>\n",
       "    <tr>\n",
       "      <th>2333352</th>\n",
       "      <td>10</td>\n",
       "      <td>0.062500</td>\n",
       "      <td>1</td>\n",
       "      <td>0</td>\n",
       "      <td>1</td>\n",
       "      <td>5.140488e+07</td>\n",
       "      <td>white</td>\n",
       "    </tr>\n",
       "    <tr>\n",
       "      <th>2333353</th>\n",
       "      <td>144</td>\n",
       "      <td>0.003251</td>\n",
       "      <td>6066</td>\n",
       "      <td>0</td>\n",
       "      <td>2</td>\n",
       "      <td>1.000000e+08</td>\n",
       "      <td>white</td>\n",
       "    </tr>\n",
       "    <tr>\n",
       "      <th>2333354</th>\n",
       "      <td>20</td>\n",
       "      <td>0.002604</td>\n",
       "      <td>2</td>\n",
       "      <td>0</td>\n",
       "      <td>2</td>\n",
       "      <td>3.324864e+09</td>\n",
       "      <td>white</td>\n",
       "    </tr>\n",
       "    <tr>\n",
       "      <th>2333355</th>\n",
       "      <td>0</td>\n",
       "      <td>1.000000</td>\n",
       "      <td>1</td>\n",
       "      <td>0</td>\n",
       "      <td>2</td>\n",
       "      <td>1.045210e+09</td>\n",
       "      <td>white</td>\n",
       "    </tr>\n",
       "    <tr>\n",
       "      <th>2333356</th>\n",
       "      <td>66</td>\n",
       "      <td>0.000015</td>\n",
       "      <td>1</td>\n",
       "      <td>0</td>\n",
       "      <td>2</td>\n",
       "      <td>2.656000e+09</td>\n",
       "      <td>white</td>\n",
       "    </tr>\n",
       "  </tbody>\n",
       "</table>\n",
       "<p>2300268 rows × 7 columns</p>\n",
       "</div>"
      ],
      "text/plain": [
       "         length    weight  count  looped  neighbors        income  label\n",
       "0             2  0.250000      1       0          2  3.009500e+08  white\n",
       "1             0  1.000000      1       0          1  4.820000e+07  white\n",
       "2            52  0.000977     23       0          2  2.349582e+10  white\n",
       "3           144  0.000001   1555    1152          2  9.581274e+07  white\n",
       "4             6  0.250000      1       0          2  3.424024e+07  white\n",
       "...         ...       ...    ...     ...        ...           ...    ...\n",
       "2333352      10  0.062500      1       0          1  5.140488e+07  white\n",
       "2333353     144  0.003251   6066       0          2  1.000000e+08  white\n",
       "2333354      20  0.002604      2       0          2  3.324864e+09  white\n",
       "2333355       0  1.000000      1       0          2  1.045210e+09  white\n",
       "2333356      66  0.000015      1       0          2  2.656000e+09  white\n",
       "\n",
       "[2300268 rows x 7 columns]"
      ]
     },
     "execution_count": 106,
     "metadata": {},
     "output_type": "execute_result"
    }
   ],
   "source": [
    "white_bt"
   ]
  },
  {
   "cell_type": "code",
   "execution_count": null,
   "metadata": {},
   "outputs": [],
   "source": [
    "white_bt"
   ]
  },
  {
   "cell_type": "code",
   "execution_count": 109,
   "metadata": {
    "scrolled": true
   },
   "outputs": [
    {
     "data": {
      "text/html": [
       "<div>\n",
       "<style scoped>\n",
       "    .dataframe tbody tr th:only-of-type {\n",
       "        vertical-align: middle;\n",
       "    }\n",
       "\n",
       "    .dataframe tbody tr th {\n",
       "        vertical-align: top;\n",
       "    }\n",
       "\n",
       "    .dataframe thead th {\n",
       "        text-align: right;\n",
       "    }\n",
       "</style>\n",
       "<table border=\"1\" class=\"dataframe\">\n",
       "  <thead>\n",
       "    <tr style=\"text-align: right;\">\n",
       "      <th></th>\n",
       "      <th>count</th>\n",
       "    </tr>\n",
       "    <tr>\n",
       "      <th>label</th>\n",
       "      <th></th>\n",
       "    </tr>\n",
       "  </thead>\n",
       "  <tbody>\n",
       "    <tr>\n",
       "      <th>CryptoWall</th>\n",
       "      <td>0.298347</td>\n",
       "    </tr>\n",
       "    <tr>\n",
       "      <th>CryptoLocker</th>\n",
       "      <td>0.224304</td>\n",
       "    </tr>\n",
       "    <tr>\n",
       "      <th>Cerber</th>\n",
       "      <td>0.223065</td>\n",
       "    </tr>\n",
       "    <tr>\n",
       "      <th>Locky</th>\n",
       "      <td>0.160779</td>\n",
       "    </tr>\n",
       "    <tr>\n",
       "      <th>CryptXXX</th>\n",
       "      <td>0.058418</td>\n",
       "    </tr>\n",
       "    <tr>\n",
       "      <th>other</th>\n",
       "      <td>0.019976</td>\n",
       "    </tr>\n",
       "    <tr>\n",
       "      <th>DMALockerv3</th>\n",
       "      <td>0.008764</td>\n",
       "    </tr>\n",
       "    <tr>\n",
       "      <th>DMALocker</th>\n",
       "      <td>0.006347</td>\n",
       "    </tr>\n",
       "  </tbody>\n",
       "</table>\n",
       "</div>"
      ],
      "text/plain": [
       "                 count\n",
       "label                 \n",
       "CryptoWall    0.298347\n",
       "CryptoLocker  0.224304\n",
       "Cerber        0.223065\n",
       "Locky         0.160779\n",
       "CryptXXX      0.058418\n",
       "other         0.019976\n",
       "DMALockerv3   0.008764\n",
       "DMALocker     0.006347"
      ]
     },
     "execution_count": 109,
     "metadata": {},
     "output_type": "execute_result"
    }
   ],
   "source": [
    "market_share = non_white_bt.groupby('label').count()['count'].sort_values(ascending=False)\n",
    "market_share_freq = market_share / market_share.sum()\n",
    "market_share_freq = pd.DataFrame(market_share_freq)\n",
    "market_share_freq"
   ]
  },
  {
   "cell_type": "code",
   "execution_count": 110,
   "metadata": {
    "scrolled": true
   },
   "outputs": [
    {
     "data": {
      "text/plain": [
       "Index(['CryptoWall', 'CryptoLocker', 'Cerber', 'Locky', 'CryptXXX', 'other',\n",
       "       'DMALockerv3', 'DMALocker'],\n",
       "      dtype='object', name='label')"
      ]
     },
     "execution_count": 110,
     "metadata": {},
     "output_type": "execute_result"
    }
   ],
   "source": [
    "market_share_freq.index"
   ]
  },
  {
   "cell_type": "code",
   "execution_count": 111,
   "metadata": {},
   "outputs": [
    {
     "data": {
      "text/plain": [
       "Text(0.5, 0, 'Ransomware Family')"
      ]
     },
     "execution_count": 111,
     "metadata": {},
     "output_type": "execute_result"
    },
    {
     "data": {
      "image/png": "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\n",
      "text/plain": [
       "<Figure size 432x288 with 1 Axes>"
      ]
     },
     "metadata": {
      "needs_background": "light"
     },
     "output_type": "display_data"
    }
   ],
   "source": [
    "fig = sns.barplot(data = market_share_freq, x = market_share_freq.index, y = \"count\")\n",
    "fig.set_xticklabels(fig.get_xticklabels(), rotation = 30)\n",
    "fig.set_title(\"Ransomware Family Market Share\")\n",
    "fig.set_ylabel(\"Relative Frequency\")\n",
    "fig.set_xlabel(\"Ransomware Family\")"
   ]
  },
  {
   "cell_type": "code",
   "execution_count": null,
   "metadata": {},
   "outputs": [],
   "source": [
    "# top three ransom labels that have the most ransom transactions: Locky, Cerber, CryptoWall"
   ]
  },
  {
   "cell_type": "code",
   "execution_count": 159,
   "metadata": {
    "scrolled": true
   },
   "outputs": [
    {
     "data": {
      "text/html": [
       "<div>\n",
       "<style scoped>\n",
       "    .dataframe tbody tr th:only-of-type {\n",
       "        vertical-align: middle;\n",
       "    }\n",
       "\n",
       "    .dataframe tbody tr th {\n",
       "        vertical-align: top;\n",
       "    }\n",
       "\n",
       "    .dataframe thead th {\n",
       "        text-align: right;\n",
       "    }\n",
       "</style>\n",
       "<table border=\"1\" class=\"dataframe\">\n",
       "  <thead>\n",
       "    <tr style=\"text-align: right;\">\n",
       "      <th></th>\n",
       "      <th>length</th>\n",
       "      <th>weight</th>\n",
       "      <th>count</th>\n",
       "      <th>looped</th>\n",
       "      <th>neighbors</th>\n",
       "      <th>income</th>\n",
       "    </tr>\n",
       "  </thead>\n",
       "  <tbody>\n",
       "    <tr>\n",
       "      <th>count</th>\n",
       "      <td>2.300268e+06</td>\n",
       "      <td>2.300268e+06</td>\n",
       "      <td>2.300268e+06</td>\n",
       "      <td>2.300268e+06</td>\n",
       "      <td>2.300268e+06</td>\n",
       "      <td>2.300268e+06</td>\n",
       "    </tr>\n",
       "    <tr>\n",
       "      <th>mean</th>\n",
       "      <td>4.509420e+01</td>\n",
       "      <td>5.444412e-01</td>\n",
       "      <td>7.241337e+02</td>\n",
       "      <td>2.407700e+02</td>\n",
       "      <td>2.215242e+00</td>\n",
       "      <td>4.434690e+09</td>\n",
       "    </tr>\n",
       "    <tr>\n",
       "      <th>std</th>\n",
       "      <td>5.900971e+01</td>\n",
       "      <td>3.662059e+00</td>\n",
       "      <td>1.693346e+03</td>\n",
       "      <td>9.716880e+02</td>\n",
       "      <td>1.901544e+01</td>\n",
       "      <td>1.530985e+11</td>\n",
       "    </tr>\n",
       "    <tr>\n",
       "      <th>min</th>\n",
       "      <td>0.000000e+00</td>\n",
       "      <td>1.420108e-90</td>\n",
       "      <td>1.000000e+00</td>\n",
       "      <td>0.000000e+00</td>\n",
       "      <td>1.000000e+00</td>\n",
       "      <td>3.000000e+07</td>\n",
       "    </tr>\n",
       "    <tr>\n",
       "      <th>25%</th>\n",
       "      <td>2.000000e+00</td>\n",
       "      <td>2.115024e-02</td>\n",
       "      <td>1.000000e+00</td>\n",
       "      <td>0.000000e+00</td>\n",
       "      <td>1.000000e+00</td>\n",
       "      <td>7.409540e+07</td>\n",
       "    </tr>\n",
       "    <tr>\n",
       "      <th>50%</th>\n",
       "      <td>8.000000e+00</td>\n",
       "      <td>2.500000e-01</td>\n",
       "      <td>1.000000e+00</td>\n",
       "      <td>0.000000e+00</td>\n",
       "      <td>2.000000e+00</td>\n",
       "      <td>2.000000e+08</td>\n",
       "    </tr>\n",
       "    <tr>\n",
       "      <th>75%</th>\n",
       "      <td>1.100000e+02</td>\n",
       "      <td>8.750000e-01</td>\n",
       "      <td>5.700000e+01</td>\n",
       "      <td>0.000000e+00</td>\n",
       "      <td>2.000000e+00</td>\n",
       "      <td>1.000000e+09</td>\n",
       "    </tr>\n",
       "    <tr>\n",
       "      <th>max</th>\n",
       "      <td>1.440000e+02</td>\n",
       "      <td>1.943749e+03</td>\n",
       "      <td>1.449700e+04</td>\n",
       "      <td>1.449600e+04</td>\n",
       "      <td>1.292000e+04</td>\n",
       "      <td>4.982447e+13</td>\n",
       "    </tr>\n",
       "  </tbody>\n",
       "</table>\n",
       "</div>"
      ],
      "text/plain": [
       "             length        weight         count        looped     neighbors  \\\n",
       "count  2.300268e+06  2.300268e+06  2.300268e+06  2.300268e+06  2.300268e+06   \n",
       "mean   4.509420e+01  5.444412e-01  7.241337e+02  2.407700e+02  2.215242e+00   \n",
       "std    5.900971e+01  3.662059e+00  1.693346e+03  9.716880e+02  1.901544e+01   \n",
       "min    0.000000e+00  1.420108e-90  1.000000e+00  0.000000e+00  1.000000e+00   \n",
       "25%    2.000000e+00  2.115024e-02  1.000000e+00  0.000000e+00  1.000000e+00   \n",
       "50%    8.000000e+00  2.500000e-01  1.000000e+00  0.000000e+00  2.000000e+00   \n",
       "75%    1.100000e+02  8.750000e-01  5.700000e+01  0.000000e+00  2.000000e+00   \n",
       "max    1.440000e+02  1.943749e+03  1.449700e+04  1.449600e+04  1.292000e+04   \n",
       "\n",
       "             income  \n",
       "count  2.300268e+06  \n",
       "mean   4.434690e+09  \n",
       "std    1.530985e+11  \n",
       "min    3.000000e+07  \n",
       "25%    7.409540e+07  \n",
       "50%    2.000000e+08  \n",
       "75%    1.000000e+09  \n",
       "max    4.982447e+13  "
      ]
     },
     "execution_count": 159,
     "metadata": {},
     "output_type": "execute_result"
    }
   ],
   "source": [
    "white_bt.describe()"
   ]
  },
  {
   "cell_type": "code",
   "execution_count": 160,
   "metadata": {},
   "outputs": [
    {
     "data": {
      "text/html": [
       "<div>\n",
       "<style scoped>\n",
       "    .dataframe tbody tr th:only-of-type {\n",
       "        vertical-align: middle;\n",
       "    }\n",
       "\n",
       "    .dataframe tbody tr th {\n",
       "        vertical-align: top;\n",
       "    }\n",
       "\n",
       "    .dataframe thead th {\n",
       "        text-align: right;\n",
       "    }\n",
       "</style>\n",
       "<table border=\"1\" class=\"dataframe\">\n",
       "  <thead>\n",
       "    <tr style=\"text-align: right;\">\n",
       "      <th></th>\n",
       "      <th>length</th>\n",
       "      <th>weight</th>\n",
       "      <th>count</th>\n",
       "      <th>looped</th>\n",
       "      <th>neighbors</th>\n",
       "      <th>income</th>\n",
       "    </tr>\n",
       "  </thead>\n",
       "  <tbody>\n",
       "    <tr>\n",
       "      <th>count</th>\n",
       "      <td>33089.000000</td>\n",
       "      <td>3.308900e+04</td>\n",
       "      <td>33089.000000</td>\n",
       "      <td>33089.000000</td>\n",
       "      <td>33089.000000</td>\n",
       "      <td>3.308900e+04</td>\n",
       "    </tr>\n",
       "    <tr>\n",
       "      <th>mean</th>\n",
       "      <td>41.663332</td>\n",
       "      <td>6.288456e-01</td>\n",
       "      <td>600.326664</td>\n",
       "      <td>96.825440</td>\n",
       "      <td>2.068482</td>\n",
       "      <td>7.899050e+08</td>\n",
       "    </tr>\n",
       "    <tr>\n",
       "      <th>std</th>\n",
       "      <td>58.469971</td>\n",
       "      <td>2.936194e+00</td>\n",
       "      <td>1421.544219</td>\n",
       "      <td>533.524049</td>\n",
       "      <td>2.395702</td>\n",
       "      <td>1.564229e+10</td>\n",
       "    </tr>\n",
       "    <tr>\n",
       "      <th>min</th>\n",
       "      <td>0.000000</td>\n",
       "      <td>4.719723e-42</td>\n",
       "      <td>1.000000</td>\n",
       "      <td>0.000000</td>\n",
       "      <td>1.000000</td>\n",
       "      <td>3.000000e+07</td>\n",
       "    </tr>\n",
       "    <tr>\n",
       "      <th>25%</th>\n",
       "      <td>0.000000</td>\n",
       "      <td>6.057385e-02</td>\n",
       "      <td>1.000000</td>\n",
       "      <td>0.000000</td>\n",
       "      <td>1.000000</td>\n",
       "      <td>8.000000e+07</td>\n",
       "    </tr>\n",
       "    <tr>\n",
       "      <th>50%</th>\n",
       "      <td>6.000000</td>\n",
       "      <td>3.853625e-01</td>\n",
       "      <td>1.000000</td>\n",
       "      <td>0.000000</td>\n",
       "      <td>2.000000</td>\n",
       "      <td>1.250000e+08</td>\n",
       "    </tr>\n",
       "    <tr>\n",
       "      <th>75%</th>\n",
       "      <td>80.000000</td>\n",
       "      <td>1.000000e+00</td>\n",
       "      <td>14.000000</td>\n",
       "      <td>0.000000</td>\n",
       "      <td>2.000000</td>\n",
       "      <td>3.000000e+08</td>\n",
       "    </tr>\n",
       "    <tr>\n",
       "      <th>max</th>\n",
       "      <td>144.000000</td>\n",
       "      <td>4.982885e+02</td>\n",
       "      <td>12922.000000</td>\n",
       "      <td>11693.000000</td>\n",
       "      <td>94.000000</td>\n",
       "      <td>2.595000e+12</td>\n",
       "    </tr>\n",
       "  </tbody>\n",
       "</table>\n",
       "</div>"
      ],
      "text/plain": [
       "             length        weight         count        looped     neighbors  \\\n",
       "count  33089.000000  3.308900e+04  33089.000000  33089.000000  33089.000000   \n",
       "mean      41.663332  6.288456e-01    600.326664     96.825440      2.068482   \n",
       "std       58.469971  2.936194e+00   1421.544219    533.524049      2.395702   \n",
       "min        0.000000  4.719723e-42      1.000000      0.000000      1.000000   \n",
       "25%        0.000000  6.057385e-02      1.000000      0.000000      1.000000   \n",
       "50%        6.000000  3.853625e-01      1.000000      0.000000      2.000000   \n",
       "75%       80.000000  1.000000e+00     14.000000      0.000000      2.000000   \n",
       "max      144.000000  4.982885e+02  12922.000000  11693.000000     94.000000   \n",
       "\n",
       "             income  \n",
       "count  3.308900e+04  \n",
       "mean   7.899050e+08  \n",
       "std    1.564229e+10  \n",
       "min    3.000000e+07  \n",
       "25%    8.000000e+07  \n",
       "50%    1.250000e+08  \n",
       "75%    3.000000e+08  \n",
       "max    2.595000e+12  "
      ]
     },
     "execution_count": 160,
     "metadata": {},
     "output_type": "execute_result"
    }
   ],
   "source": [
    "non_white_bt.describe()"
   ]
  },
  {
   "cell_type": "code",
   "execution_count": 161,
   "metadata": {},
   "outputs": [
    {
     "data": {
      "text/plain": [
       "length       4.166333e+01\n",
       "weight       6.288456e-01\n",
       "count        6.003267e+02\n",
       "looped       9.682544e+01\n",
       "neighbors    2.068482e+00\n",
       "income       7.899050e+08\n",
       "Name: mean, dtype: float64"
      ]
     },
     "execution_count": 161,
     "metadata": {},
     "output_type": "execute_result"
    }
   ],
   "source": [
    "non_white_bt.describe().loc['mean']"
   ]
  },
  {
   "cell_type": "code",
   "execution_count": 162,
   "metadata": {},
   "outputs": [],
   "source": [
    "mean_stats = pd.DataFrame(non_white_bt.describe().loc['mean'])"
   ]
  },
  {
   "cell_type": "code",
   "execution_count": 164,
   "metadata": {},
   "outputs": [],
   "source": [
    "mean_stats = mean_stats.assign(white = white_bt.describe().loc['mean'])"
   ]
  },
  {
   "cell_type": "code",
   "execution_count": 168,
   "metadata": {},
   "outputs": [],
   "source": [
    "mean_stats = mean_stats.rename(columns = {\"mean\": \"ransom mean\", \"white\": \"white mean\"})"
   ]
  },
  {
   "cell_type": "code",
   "execution_count": 173,
   "metadata": {},
   "outputs": [
    {
     "data": {
      "text/html": [
       "<div>\n",
       "<style scoped>\n",
       "    .dataframe tbody tr th:only-of-type {\n",
       "        vertical-align: middle;\n",
       "    }\n",
       "\n",
       "    .dataframe tbody tr th {\n",
       "        vertical-align: top;\n",
       "    }\n",
       "\n",
       "    .dataframe thead th {\n",
       "        text-align: right;\n",
       "    }\n",
       "</style>\n",
       "<table border=\"1\" class=\"dataframe\">\n",
       "  <thead>\n",
       "    <tr style=\"text-align: right;\">\n",
       "      <th></th>\n",
       "      <th>index</th>\n",
       "      <th>ransom mean</th>\n",
       "      <th>white mean</th>\n",
       "    </tr>\n",
       "  </thead>\n",
       "  <tbody>\n",
       "    <tr>\n",
       "      <th>0</th>\n",
       "      <td>length</td>\n",
       "      <td>4.166333e+01</td>\n",
       "      <td>4.509420e+01</td>\n",
       "    </tr>\n",
       "    <tr>\n",
       "      <th>1</th>\n",
       "      <td>weight</td>\n",
       "      <td>6.288456e-01</td>\n",
       "      <td>5.444412e-01</td>\n",
       "    </tr>\n",
       "    <tr>\n",
       "      <th>2</th>\n",
       "      <td>count</td>\n",
       "      <td>6.003267e+02</td>\n",
       "      <td>7.241337e+02</td>\n",
       "    </tr>\n",
       "    <tr>\n",
       "      <th>3</th>\n",
       "      <td>looped</td>\n",
       "      <td>9.682544e+01</td>\n",
       "      <td>2.407700e+02</td>\n",
       "    </tr>\n",
       "    <tr>\n",
       "      <th>4</th>\n",
       "      <td>neighbors</td>\n",
       "      <td>2.068482e+00</td>\n",
       "      <td>2.215242e+00</td>\n",
       "    </tr>\n",
       "    <tr>\n",
       "      <th>5</th>\n",
       "      <td>income</td>\n",
       "      <td>7.899050e+08</td>\n",
       "      <td>4.434690e+09</td>\n",
       "    </tr>\n",
       "  </tbody>\n",
       "</table>\n",
       "</div>"
      ],
      "text/plain": [
       "       index   ransom mean    white mean\n",
       "0     length  4.166333e+01  4.509420e+01\n",
       "1     weight  6.288456e-01  5.444412e-01\n",
       "2      count  6.003267e+02  7.241337e+02\n",
       "3     looped  9.682544e+01  2.407700e+02\n",
       "4  neighbors  2.068482e+00  2.215242e+00\n",
       "5     income  7.899050e+08  4.434690e+09"
      ]
     },
     "execution_count": 173,
     "metadata": {},
     "output_type": "execute_result"
    }
   ],
   "source": [
    "mean_stats = mean_stats.reset_index()\n",
    "mean_stats"
   ]
  },
  {
   "cell_type": "code",
   "execution_count": 181,
   "metadata": {},
   "outputs": [
    {
     "data": {
      "text/html": [
       "<div>\n",
       "<style scoped>\n",
       "    .dataframe tbody tr th:only-of-type {\n",
       "        vertical-align: middle;\n",
       "    }\n",
       "\n",
       "    .dataframe tbody tr th {\n",
       "        vertical-align: top;\n",
       "    }\n",
       "\n",
       "    .dataframe thead th {\n",
       "        text-align: right;\n",
       "    }\n",
       "</style>\n",
       "<table border=\"1\" class=\"dataframe\">\n",
       "  <thead>\n",
       "    <tr style=\"text-align: right;\">\n",
       "      <th></th>\n",
       "      <th>index</th>\n",
       "      <th>ransom mean</th>\n",
       "      <th>white mean</th>\n",
       "    </tr>\n",
       "  </thead>\n",
       "  <tbody>\n",
       "    <tr>\n",
       "      <th>0</th>\n",
       "      <td>length</td>\n",
       "      <td>41.663332</td>\n",
       "      <td>45.094195</td>\n",
       "    </tr>\n",
       "    <tr>\n",
       "      <th>1</th>\n",
       "      <td>weight</td>\n",
       "      <td>0.628846</td>\n",
       "      <td>0.544441</td>\n",
       "    </tr>\n",
       "    <tr>\n",
       "      <th>2</th>\n",
       "      <td>count</td>\n",
       "      <td>600.326664</td>\n",
       "      <td>724.133679</td>\n",
       "    </tr>\n",
       "    <tr>\n",
       "      <th>3</th>\n",
       "      <td>looped</td>\n",
       "      <td>96.825440</td>\n",
       "      <td>240.769962</td>\n",
       "    </tr>\n",
       "    <tr>\n",
       "      <th>4</th>\n",
       "      <td>neighbors</td>\n",
       "      <td>2.068482</td>\n",
       "      <td>2.215242</td>\n",
       "    </tr>\n",
       "  </tbody>\n",
       "</table>\n",
       "</div>"
      ],
      "text/plain": [
       "       index  ransom mean  white mean\n",
       "0     length    41.663332   45.094195\n",
       "1     weight     0.628846    0.544441\n",
       "2      count   600.326664  724.133679\n",
       "3     looped    96.825440  240.769962\n",
       "4  neighbors     2.068482    2.215242"
      ]
     },
     "execution_count": 181,
     "metadata": {},
     "output_type": "execute_result"
    }
   ],
   "source": [
    "mean_stats.iloc[:-1, :]"
   ]
  },
  {
   "cell_type": "code",
   "execution_count": 183,
   "metadata": {},
   "outputs": [
    {
     "data": {
      "text/plain": [
       "<AxesSubplot:xlabel='index', ylabel='ransom mean'>"
      ]
     },
     "execution_count": 183,
     "metadata": {},
     "output_type": "execute_result"
    },
    {
     "data": {
      "image/png": "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\n",
      "text/plain": [
       "<Figure size 432x288 with 1 Axes>"
      ]
     },
     "metadata": {
      "needs_background": "light"
     },
     "output_type": "display_data"
    }
   ],
   "source": [
    "sns.barplot(data = mean_stats.iloc[:-1, :], x = \"index\", y = \"ransom mean\", hue = \"white mean\")"
   ]
  },
  {
   "cell_type": "code",
   "execution_count": 119,
   "metadata": {},
   "outputs": [],
   "source": [
    "data1 = pd.DataFrame(non_white_bt.describe())"
   ]
  },
  {
   "cell_type": "code",
   "execution_count": 120,
   "metadata": {},
   "outputs": [
    {
     "data": {
      "text/html": [
       "<div>\n",
       "<style scoped>\n",
       "    .dataframe tbody tr th:only-of-type {\n",
       "        vertical-align: middle;\n",
       "    }\n",
       "\n",
       "    .dataframe tbody tr th {\n",
       "        vertical-align: top;\n",
       "    }\n",
       "\n",
       "    .dataframe thead th {\n",
       "        text-align: right;\n",
       "    }\n",
       "</style>\n",
       "<table border=\"1\" class=\"dataframe\">\n",
       "  <thead>\n",
       "    <tr style=\"text-align: right;\">\n",
       "      <th></th>\n",
       "      <th>length</th>\n",
       "      <th>weight</th>\n",
       "      <th>count</th>\n",
       "      <th>looped</th>\n",
       "      <th>neighbors</th>\n",
       "      <th>income</th>\n",
       "    </tr>\n",
       "  </thead>\n",
       "  <tbody>\n",
       "    <tr>\n",
       "      <th>count</th>\n",
       "      <td>33089.000000</td>\n",
       "      <td>3.308900e+04</td>\n",
       "      <td>33089.000000</td>\n",
       "      <td>33089.000000</td>\n",
       "      <td>33089.000000</td>\n",
       "      <td>3.308900e+04</td>\n",
       "    </tr>\n",
       "    <tr>\n",
       "      <th>mean</th>\n",
       "      <td>41.663332</td>\n",
       "      <td>6.288456e-01</td>\n",
       "      <td>600.326664</td>\n",
       "      <td>96.825440</td>\n",
       "      <td>2.068482</td>\n",
       "      <td>7.899050e+08</td>\n",
       "    </tr>\n",
       "    <tr>\n",
       "      <th>std</th>\n",
       "      <td>58.469971</td>\n",
       "      <td>2.936194e+00</td>\n",
       "      <td>1421.544219</td>\n",
       "      <td>533.524049</td>\n",
       "      <td>2.395702</td>\n",
       "      <td>1.564229e+10</td>\n",
       "    </tr>\n",
       "    <tr>\n",
       "      <th>min</th>\n",
       "      <td>0.000000</td>\n",
       "      <td>4.719723e-42</td>\n",
       "      <td>1.000000</td>\n",
       "      <td>0.000000</td>\n",
       "      <td>1.000000</td>\n",
       "      <td>3.000000e+07</td>\n",
       "    </tr>\n",
       "    <tr>\n",
       "      <th>25%</th>\n",
       "      <td>0.000000</td>\n",
       "      <td>6.057385e-02</td>\n",
       "      <td>1.000000</td>\n",
       "      <td>0.000000</td>\n",
       "      <td>1.000000</td>\n",
       "      <td>8.000000e+07</td>\n",
       "    </tr>\n",
       "    <tr>\n",
       "      <th>50%</th>\n",
       "      <td>6.000000</td>\n",
       "      <td>3.853625e-01</td>\n",
       "      <td>1.000000</td>\n",
       "      <td>0.000000</td>\n",
       "      <td>2.000000</td>\n",
       "      <td>1.250000e+08</td>\n",
       "    </tr>\n",
       "    <tr>\n",
       "      <th>75%</th>\n",
       "      <td>80.000000</td>\n",
       "      <td>1.000000e+00</td>\n",
       "      <td>14.000000</td>\n",
       "      <td>0.000000</td>\n",
       "      <td>2.000000</td>\n",
       "      <td>3.000000e+08</td>\n",
       "    </tr>\n",
       "    <tr>\n",
       "      <th>max</th>\n",
       "      <td>144.000000</td>\n",
       "      <td>4.982885e+02</td>\n",
       "      <td>12922.000000</td>\n",
       "      <td>11693.000000</td>\n",
       "      <td>94.000000</td>\n",
       "      <td>2.595000e+12</td>\n",
       "    </tr>\n",
       "  </tbody>\n",
       "</table>\n",
       "</div>"
      ],
      "text/plain": [
       "             length        weight         count        looped     neighbors  \\\n",
       "count  33089.000000  3.308900e+04  33089.000000  33089.000000  33089.000000   \n",
       "mean      41.663332  6.288456e-01    600.326664     96.825440      2.068482   \n",
       "std       58.469971  2.936194e+00   1421.544219    533.524049      2.395702   \n",
       "min        0.000000  4.719723e-42      1.000000      0.000000      1.000000   \n",
       "25%        0.000000  6.057385e-02      1.000000      0.000000      1.000000   \n",
       "50%        6.000000  3.853625e-01      1.000000      0.000000      2.000000   \n",
       "75%       80.000000  1.000000e+00     14.000000      0.000000      2.000000   \n",
       "max      144.000000  4.982885e+02  12922.000000  11693.000000     94.000000   \n",
       "\n",
       "             income  \n",
       "count  3.308900e+04  \n",
       "mean   7.899050e+08  \n",
       "std    1.564229e+10  \n",
       "min    3.000000e+07  \n",
       "25%    8.000000e+07  \n",
       "50%    1.250000e+08  \n",
       "75%    3.000000e+08  \n",
       "max    2.595000e+12  "
      ]
     },
     "execution_count": 120,
     "metadata": {},
     "output_type": "execute_result"
    }
   ],
   "source": [
    "data1"
   ]
  },
  {
   "cell_type": "code",
   "execution_count": 141,
   "metadata": {},
   "outputs": [],
   "source": [
    "data1 = data1.loc[['mean'], :'neighbors']"
   ]
  },
  {
   "cell_type": "code",
   "execution_count": 142,
   "metadata": {},
   "outputs": [
    {
     "data": {
      "text/html": [
       "<div>\n",
       "<style scoped>\n",
       "    .dataframe tbody tr th:only-of-type {\n",
       "        vertical-align: middle;\n",
       "    }\n",
       "\n",
       "    .dataframe tbody tr th {\n",
       "        vertical-align: top;\n",
       "    }\n",
       "\n",
       "    .dataframe thead th {\n",
       "        text-align: right;\n",
       "    }\n",
       "</style>\n",
       "<table border=\"1\" class=\"dataframe\">\n",
       "  <thead>\n",
       "    <tr style=\"text-align: right;\">\n",
       "      <th></th>\n",
       "      <th>length</th>\n",
       "      <th>weight</th>\n",
       "      <th>count</th>\n",
       "      <th>looped</th>\n",
       "      <th>neighbors</th>\n",
       "    </tr>\n",
       "  </thead>\n",
       "  <tbody>\n",
       "    <tr>\n",
       "      <th>mean</th>\n",
       "      <td>41.663332</td>\n",
       "      <td>0.628846</td>\n",
       "      <td>600.326664</td>\n",
       "      <td>96.82544</td>\n",
       "      <td>2.068482</td>\n",
       "    </tr>\n",
       "  </tbody>\n",
       "</table>\n",
       "</div>"
      ],
      "text/plain": [
       "         length    weight       count    looped  neighbors\n",
       "mean  41.663332  0.628846  600.326664  96.82544   2.068482"
      ]
     },
     "execution_count": 142,
     "metadata": {},
     "output_type": "execute_result"
    }
   ],
   "source": [
    "data1"
   ]
  },
  {
   "cell_type": "code",
   "execution_count": 143,
   "metadata": {},
   "outputs": [
    {
     "data": {
      "text/plain": [
       "<AxesSubplot:>"
      ]
     },
     "execution_count": 143,
     "metadata": {},
     "output_type": "execute_result"
    },
    {
     "data": {
      "image/png": "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\n",
      "text/plain": [
       "<Figure size 432x288 with 1 Axes>"
      ]
     },
     "metadata": {
      "needs_background": "light"
     },
     "output_type": "display_data"
    }
   ],
   "source": [
    "sns.barplot(data=data1)"
   ]
  },
  {
   "cell_type": "code",
   "execution_count": null,
   "metadata": {},
   "outputs": [],
   "source": [
    "sns.pairplot(non_white_bt)"
   ]
  },
  {
   "cell_type": "code",
   "execution_count": null,
   "metadata": {},
   "outputs": [],
   "source": [
    "sns.pairplot(white_bt)"
   ]
  },
  {
   "cell_type": "code",
   "execution_count": null,
   "metadata": {},
   "outputs": [],
   "source": [
    "np.percentile(non_white_bt[\"count\"], 80)"
   ]
  },
  {
   "cell_type": "code",
   "execution_count": null,
   "metadata": {},
   "outputs": [],
   "source": [
    "fig3 = sns.histplot(data = non_white_bt, x = \"count\", log_scale = True)"
   ]
  },
  {
   "cell_type": "code",
   "execution_count": null,
   "metadata": {
    "scrolled": true
   },
   "outputs": [],
   "source": [
    "sns.histplot(data = white_bt, x = \"count\", log_scale = True)"
   ]
  },
  {
   "cell_type": "code",
   "execution_count": null,
   "metadata": {},
   "outputs": [],
   "source": [
    "non_white_bt.describe()"
   ]
  },
  {
   "cell_type": "code",
   "execution_count": null,
   "metadata": {},
   "outputs": [],
   "source": [
    "sns.histplot(data = non_white_bt, x = \"length\")"
   ]
  },
  {
   "cell_type": "code",
   "execution_count": null,
   "metadata": {},
   "outputs": [],
   "source": [
    "sns.histplot(data = white_bt, x = \"length\")"
   ]
  },
  {
   "cell_type": "code",
   "execution_count": null,
   "metadata": {},
   "outputs": [],
   "source": [
    "sns.histplot(data = non_white_bt, x = \"weight\", log_scale = True)"
   ]
  },
  {
   "cell_type": "code",
   "execution_count": null,
   "metadata": {},
   "outputs": [],
   "source": [
    "sns.histplot(data = white_bt, x = \"weight\", log_scale = True)"
   ]
  },
  {
   "cell_type": "code",
   "execution_count": null,
   "metadata": {
    "scrolled": true
   },
   "outputs": [],
   "source": [
    "sns.histplot(data = non_white_bt, x = \"income\", log_scale = True)"
   ]
  },
  {
   "cell_type": "code",
   "execution_count": null,
   "metadata": {},
   "outputs": [],
=======
   "execution_count": 62,
   "metadata": {
    "scrolled": true
   },
   "outputs": [
    {
     "data": {
      "text/html": [
       "<div>\n",
       "<style scoped>\n",
       "    .dataframe tbody tr th:only-of-type {\n",
       "        vertical-align: middle;\n",
       "    }\n",
       "\n",
       "    .dataframe tbody tr th {\n",
       "        vertical-align: top;\n",
       "    }\n",
       "\n",
       "    .dataframe thead th {\n",
       "        text-align: right;\n",
       "    }\n",
       "</style>\n",
       "<table border=\"1\" class=\"dataframe\">\n",
       "  <thead>\n",
       "    <tr style=\"text-align: right;\">\n",
       "      <th></th>\n",
       "      <th>category</th>\n",
       "      <th>count</th>\n",
       "    </tr>\n",
       "  </thead>\n",
       "  <tbody>\n",
       "    <tr>\n",
       "      <th>0</th>\n",
       "      <td>white</td>\n",
       "      <td>2300268</td>\n",
       "    </tr>\n",
       "    <tr>\n",
       "      <th>1</th>\n",
       "      <td>ransom</td>\n",
       "      <td>33089</td>\n",
       "    </tr>\n",
       "  </tbody>\n",
       "</table>\n",
       "</div>"
      ],
      "text/plain": [
       "  category    count\n",
       "0    white  2300268\n",
       "1   ransom    33089"
      ]
     },
     "execution_count": 62,
     "metadata": {},
     "output_type": "execute_result"
    }
   ],
>>>>>>> 8c643bf748e61bfeb3c25caf987c20ae5bbb5a47
   "source": [
    "num_white = bitcoin.loc[(bitcoin['label'] == 'white')].shape[0]\n",
    "num_ransom = bitcoin.shape[0] - num_white\n",
    "basic = pd.DataFrame({'category':['white', 'ransom'], 'count':[num_white, num_ransom]})\n",
    "basic"
   ]
  },
  {
   "cell_type": "code",
   "execution_count": null,
   "metadata": {},
<<<<<<< HEAD
   "outputs": [],
=======
   "outputs": [
    {
     "data": {
      "text/plain": [
       "Text(0.5, 1, 'Correlation between White-labeled data')"
      ]
     },
     "execution_count": 60,
     "metadata": {},
     "output_type": "execute_result"
    },
    {
     "data": {
      "image/png": "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\n",
      "text/plain": [
       "<Figure size 432x288 with 2 Axes>"
      ]
     },
     "metadata": {
      "needs_background": "light"
     },
     "output_type": "display_data"
    }
   ],
>>>>>>> 8c643bf748e61bfeb3c25caf987c20ae5bbb5a47
   "source": [
    "ax = plt.axes()\n",
    "sns.heatmap(white_bt.corr(),annot=True,cmap=\"Greens\")\n",
    "ax.set_title(\"Correlation between White-labeled data\")"
   ]
  },
  {
   "cell_type": "code",
   "execution_count": null,
   "metadata": {},
<<<<<<< HEAD
   "outputs": [],
   "source": [
    "sns.histplot(data = white_bt, x = \"neighbors\", log_scale = True)"
   ]
  },
  {
   "cell_type": "code",
   "execution_count": null,
   "metadata": {
    "scrolled": true
   },
   "outputs": [],
   "source": [
    "num_white = bitcoin.loc[(bitcoin['label'] == 'white')].shape[0]\n",
    "num_ransom = bitcoin.shape[0] - num_white\n",
    "basic = pd.DataFrame({'category':['white', 'ransom'], 'count':[num_white, num_ransom]})\n",
    "basic"
=======
   "outputs": [
    {
     "data": {
      "text/plain": [
       "Text(0.5, 1, 'Correlation between Non-White-labeled data')"
      ]
     },
     "execution_count": 61,
     "metadata": {},
     "output_type": "execute_result"
    },
    {
     "data": {
      "image/png": "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\n",
      "text/plain": [
       "<Figure size 432x288 with 2 Axes>"
      ]
     },
     "metadata": {
      "needs_background": "light"
     },
     "output_type": "display_data"
    }
   ],
   "source": [
    "ax = plt.axes()\n",
    "sns.heatmap(non_white_bt.corr(),annot=True,cmap=\"Greens\")\n",
    "ax.set_title(\"Correlation between Non-White-labeled data\")"
>>>>>>> 8c643bf748e61bfeb3c25caf987c20ae5bbb5a47
   ]
  },
  {
   "cell_type": "code",
   "execution_count": null,
   "metadata": {},
   "outputs": [],
   "source": []
  },
  {
   "cell_type": "markdown",
   "metadata": {},
   "source": [
    "# Data Analysis"
   ]
  },
  {
   "cell_type": "markdown",
   "metadata": {},
   "source": [
    "# Predictive Model"
   ]
  },
  {
   "cell_type": "markdown",
   "metadata": {},
   "source": [
    "# Proposal"
   ]
  },
  {
   "cell_type": "markdown",
   "metadata": {},
   "source": [
    "# Conclusion"
   ]
  },
  {
   "cell_type": "code",
   "execution_count": null,
   "metadata": {},
   "outputs": [],
   "source": []
  }
 ],
 "metadata": {
  "kernelspec": {
   "display_name": "Python 3",
   "language": "python",
   "name": "python3"
  },
  "language_info": {
   "codemirror_mode": {
    "name": "ipython",
    "version": 3
   },
   "file_extension": ".py",
   "mimetype": "text/x-python",
   "name": "python",
   "nbconvert_exporter": "python",
   "pygments_lexer": "ipython3",
   "version": "3.7.6"
  }
 },
 "nbformat": 4,
 "nbformat_minor": 4
}
